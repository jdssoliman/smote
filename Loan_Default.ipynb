{
 "cells": [
  {
   "cell_type": "code",
   "execution_count": 1,
   "id": "3c1e3b4c-90df-402a-b8c5-a461eb4be422",
   "metadata": {
    "execution": {
     "iopub.execute_input": "2023-12-09T05:14:54.825236Z",
     "iopub.status.busy": "2023-12-09T05:14:54.822678Z",
     "iopub.status.idle": "2023-12-09T05:14:57.165909Z",
     "shell.execute_reply": "2023-12-09T05:14:57.163481Z",
     "shell.execute_reply.started": "2023-12-09T05:14:54.825183Z"
    },
    "tags": []
   },
   "outputs": [
    {
     "data": {
      "text/html": [
       "\n",
       "<script src=\"https://cdnjs.cloudflare.com/ajax/libs/jquery/2.0.3/jquery.min.js \"></script>\n",
       "<script>\n",
       "code_show=true; \n",
       "function code_toggle() {\n",
       " if (code_show){\n",
       " $('div.jp-CodeCell > div.jp-Cell-inputWrapper').hide();\n",
       " } else {\n",
       " $('div.jp-CodeCell > div.jp-Cell-inputWrapper').show();\n",
       " }\n",
       " code_show = !code_show\n",
       "} \n",
       "$( document ).ready(code_toggle);\n",
       "</script>\n",
       "<form action=\"javascript:code_toggle()\"><input type=\"submit\"\n",
       "    value=\"Click here to toggle on/off the raw code.\"></form>\n"
      ],
      "text/plain": [
       "<IPython.core.display.HTML object>"
      ]
     },
     "execution_count": 1,
     "metadata": {},
     "output_type": "execute_result"
    }
   ],
   "source": [
    "# Suppressing warnings\n",
    "import warnings\n",
    "from warnings import simplefilter\n",
    "from sklearn.exceptions import ConvergenceWarning\n",
    "warnings.filterwarnings(\"ignore\", category=FutureWarning)\n",
    "warnings.filterwarnings(\"ignore\", category=RuntimeWarning)\n",
    "warnings.filterwarnings(\"ignore\", category=ConvergenceWarning)\n",
    "\n",
    "# Data handling\n",
    "import numpy as np\n",
    "import pandas as pd\n",
    "\n",
    "# Data visualization\n",
    "import seaborn as sns\n",
    "import matplotlib.pyplot as plt\n",
    "\n",
    "# Preprocessing\n",
    "from sklearn.preprocessing import StandardScaler\n",
    "\n",
    "# Machine Learning models\n",
    "from sklearn.ensemble import RandomForestClassifier, GradientBoostingClassifier\n",
    "from sklearn.linear_model import LogisticRegression\n",
    "from sklearn.neighbors import KNeighborsClassifier\n",
    "from sklearn.svm import LinearSVC\n",
    "\n",
    "# Model evaluation\n",
    "from sklearn.model_selection import train_test_split\n",
    "from sklearn.metrics import confusion_matrix, classification_report\n",
    "\n",
    "# Resampling methods\n",
    "from imblearn.over_sampling import SMOTE, SMOTENC\n",
    "\n",
    "# Pipeline and model selection\n",
    "from sklearn.pipeline import Pipeline\n",
    "from imblearn.pipeline import Pipeline as ImbPipeline\n",
    "from sklearn.model_selection import GridSearchCV\n",
    "from collections import Counter\n",
    "\n",
    "# Web Interaction and Display\n",
    "from IPython.display import Image, display, HTML\n",
    "\n",
    "# Additional JavaScript for toggling code display in Jupyter Notebooks\n",
    "HTML(\n",
    "    \"\"\"\n",
    "<script src=\"https://cdnjs.cloudflare.com/ajax/libs/jquery/2.0.3/jquery.min.js \"></script>\n",
    "<script>\n",
    "code_show=true; \n",
    "function code_toggle() {\n",
    " if (code_show){\n",
    " $('div.jp-CodeCell > div.jp-Cell-inputWrapper').hide();\n",
    " } else {\n",
    " $('div.jp-CodeCell > div.jp-Cell-inputWrapper').show();\n",
    " }\n",
    " code_show = !code_show\n",
    "} \n",
    "$( document ).ready(code_toggle);\n",
    "</script>\n",
    "<form action=\"javascript:code_toggle()\"><input type=\"submit\"\n",
    "    value=\"Click here to toggle on/off the raw code.\"></form>\n",
    "\"\"\"\n",
    ")"
   ]
  },
  {
   "cell_type": "markdown",
   "id": "aa735724-5354-4810-a76d-9aa359767bef",
   "metadata": {},
   "source": [
    "<img src=\"TitlePage.png\" alt=\"Title\" class=\"center\">\n",
    "<center>PART 2</center>"
   ]
  },
  {
   "cell_type": "markdown",
   "id": "11f47926-7360-49a1-938e-fcef9a34b82a",
   "metadata": {},
   "source": []
  },
  {
   "cell_type": "markdown",
   "id": "b884cce0-eb17-4071-a741-1818200f07ee",
   "metadata": {},
   "source": [
    "<div style=\"background-color: #223843; padding: 10px 0;\">\n",
    "    <center><h1 style=\"color: white; font-weight:bold\">INTRODUCTION</h1></center>\n",
    "</div> "
   ]
  },
  {
   "cell_type": "markdown",
   "id": "fd064aec-a2ac-4ca5-9d0d-ab3676d3a595",
   "metadata": {},
   "source": [
    "This is another dataset sourced from Kaggle that is about Loan Defaults. The sole purpose of this run is for comparison purposes only (See MainNotebook.ipynb). Minimal Data Processing was done and the primary goal is to showcase how SMOTE works in another industry like this one. "
   ]
  },
  {
   "cell_type": "markdown",
   "id": "bfd36584-2d4e-4727-b8af-0577b3f6b129",
   "metadata": {},
   "source": [
    "<div style=\"background-color: #223843; padding: 10px 0;\">\n",
    "    <center><h1 style=\"color: white; font-weight:bold\">Basic Data Processing</h1></center>\n",
    "</div> "
   ]
  },
  {
   "cell_type": "markdown",
   "id": "8e72b3ed-b4cc-4ab3-bf9b-51637ac47e19",
   "metadata": {},
   "source": [
    "## Loading the Data"
   ]
  },
  {
   "cell_type": "code",
   "execution_count": 2,
   "id": "e9c37261-9ef8-442a-92ba-54a7c93b726d",
   "metadata": {
    "execution": {
     "iopub.execute_input": "2023-12-09T05:14:57.169695Z",
     "iopub.status.busy": "2023-12-09T05:14:57.168970Z",
     "iopub.status.idle": "2023-12-09T05:14:57.263528Z",
     "shell.execute_reply": "2023-12-09T05:14:57.262689Z",
     "shell.execute_reply.started": "2023-12-09T05:14:57.169645Z"
    },
    "tags": []
   },
   "outputs": [
    {
     "data": {
      "text/html": [
       "<div>\n",
       "<style scoped>\n",
       "    .dataframe tbody tr th:only-of-type {\n",
       "        vertical-align: middle;\n",
       "    }\n",
       "\n",
       "    .dataframe tbody tr th {\n",
       "        vertical-align: top;\n",
       "    }\n",
       "\n",
       "    .dataframe thead th {\n",
       "        text-align: right;\n",
       "    }\n",
       "</style>\n",
       "<table border=\"1\" class=\"dataframe\">\n",
       "  <thead>\n",
       "    <tr style=\"text-align: right;\">\n",
       "      <th></th>\n",
       "      <th>id</th>\n",
       "      <th>grade</th>\n",
       "      <th>annual_inc</th>\n",
       "      <th>short_emp</th>\n",
       "      <th>emp_length_num</th>\n",
       "      <th>home_ownership</th>\n",
       "      <th>dti</th>\n",
       "      <th>purpose</th>\n",
       "      <th>term</th>\n",
       "      <th>last_delinq_none</th>\n",
       "      <th>last_major_derog_none</th>\n",
       "      <th>revol_util</th>\n",
       "      <th>total_rec_late_fee</th>\n",
       "      <th>od_ratio</th>\n",
       "      <th>bad_loan</th>\n",
       "    </tr>\n",
       "  </thead>\n",
       "  <tbody>\n",
       "    <tr>\n",
       "      <th>0</th>\n",
       "      <td>11454641</td>\n",
       "      <td>A</td>\n",
       "      <td>100000.0</td>\n",
       "      <td>1</td>\n",
       "      <td>1</td>\n",
       "      <td>RENT</td>\n",
       "      <td>26.27</td>\n",
       "      <td>credit_card</td>\n",
       "      <td>36 months</td>\n",
       "      <td>1</td>\n",
       "      <td>NaN</td>\n",
       "      <td>43.2</td>\n",
       "      <td>0.0</td>\n",
       "      <td>0.160624</td>\n",
       "      <td>0</td>\n",
       "    </tr>\n",
       "    <tr>\n",
       "      <th>1</th>\n",
       "      <td>9604874</td>\n",
       "      <td>A</td>\n",
       "      <td>83000.0</td>\n",
       "      <td>0</td>\n",
       "      <td>4</td>\n",
       "      <td>OWN</td>\n",
       "      <td>5.39</td>\n",
       "      <td>credit_card</td>\n",
       "      <td>36 months</td>\n",
       "      <td>0</td>\n",
       "      <td>NaN</td>\n",
       "      <td>21.5</td>\n",
       "      <td>0.0</td>\n",
       "      <td>0.810777</td>\n",
       "      <td>0</td>\n",
       "    </tr>\n",
       "    <tr>\n",
       "      <th>2</th>\n",
       "      <td>9684700</td>\n",
       "      <td>D</td>\n",
       "      <td>78000.0</td>\n",
       "      <td>0</td>\n",
       "      <td>11</td>\n",
       "      <td>MORTGAGE</td>\n",
       "      <td>18.45</td>\n",
       "      <td>debt_consolidation</td>\n",
       "      <td>60 months</td>\n",
       "      <td>1</td>\n",
       "      <td>NaN</td>\n",
       "      <td>46.3</td>\n",
       "      <td>0.0</td>\n",
       "      <td>0.035147</td>\n",
       "      <td>1</td>\n",
       "    </tr>\n",
       "    <tr>\n",
       "      <th>3</th>\n",
       "      <td>9695736</td>\n",
       "      <td>D</td>\n",
       "      <td>37536.0</td>\n",
       "      <td>0</td>\n",
       "      <td>6</td>\n",
       "      <td>MORTGAGE</td>\n",
       "      <td>12.28</td>\n",
       "      <td>medical</td>\n",
       "      <td>60 months</td>\n",
       "      <td>0</td>\n",
       "      <td>NaN</td>\n",
       "      <td>10.7</td>\n",
       "      <td>0.0</td>\n",
       "      <td>0.534887</td>\n",
       "      <td>1</td>\n",
       "    </tr>\n",
       "    <tr>\n",
       "      <th>4</th>\n",
       "      <td>9795013</td>\n",
       "      <td>D</td>\n",
       "      <td>65000.0</td>\n",
       "      <td>0</td>\n",
       "      <td>11</td>\n",
       "      <td>MORTGAGE</td>\n",
       "      <td>11.26</td>\n",
       "      <td>debt_consolidation</td>\n",
       "      <td>36 months</td>\n",
       "      <td>0</td>\n",
       "      <td>NaN</td>\n",
       "      <td>15.2</td>\n",
       "      <td>0.0</td>\n",
       "      <td>0.166500</td>\n",
       "      <td>0</td>\n",
       "    </tr>\n",
       "  </tbody>\n",
       "</table>\n",
       "</div>"
      ],
      "text/plain": [
       "         id grade  annual_inc  short_emp  emp_length_num home_ownership  \\\n",
       "0  11454641     A    100000.0          1               1           RENT   \n",
       "1   9604874     A     83000.0          0               4            OWN   \n",
       "2   9684700     D     78000.0          0              11       MORTGAGE   \n",
       "3   9695736     D     37536.0          0               6       MORTGAGE   \n",
       "4   9795013     D     65000.0          0              11       MORTGAGE   \n",
       "\n",
       "     dti             purpose        term  last_delinq_none  \\\n",
       "0  26.27         credit_card   36 months                 1   \n",
       "1   5.39         credit_card   36 months                 0   \n",
       "2  18.45  debt_consolidation   60 months                 1   \n",
       "3  12.28             medical   60 months                 0   \n",
       "4  11.26  debt_consolidation   36 months                 0   \n",
       "\n",
       "   last_major_derog_none  revol_util  total_rec_late_fee  od_ratio  bad_loan  \n",
       "0                    NaN        43.2                 0.0  0.160624         0  \n",
       "1                    NaN        21.5                 0.0  0.810777         0  \n",
       "2                    NaN        46.3                 0.0  0.035147         1  \n",
       "3                    NaN        10.7                 0.0  0.534887         1  \n",
       "4                    NaN        15.2                 0.0  0.166500         0  "
      ]
     },
     "execution_count": 2,
     "metadata": {},
     "output_type": "execute_result"
    }
   ],
   "source": [
    "df_default = pd.read_csv('loan_data.csv')\n",
    "df_default.head()"
   ]
  },
  {
   "cell_type": "markdown",
   "id": "fb142dce-4842-4094-b09f-ab3c484c1397",
   "metadata": {},
   "source": [
    "<center><b>Table 1</b>. Loan Default Dataset loaded on a Python DataFrame</center>"
   ]
  },
  {
   "cell_type": "markdown",
   "id": "f0ef42bc-6a68-42dd-9659-5a8e9410b718",
   "metadata": {},
   "source": [
    "## Null Values Handling"
   ]
  },
  {
   "cell_type": "code",
   "execution_count": 3,
   "id": "3f65aa44-6d3d-4778-9476-539d15990d65",
   "metadata": {
    "execution": {
     "iopub.execute_input": "2023-12-09T05:14:57.264866Z",
     "iopub.status.busy": "2023-12-09T05:14:57.264574Z",
     "iopub.status.idle": "2023-12-09T05:14:57.284934Z",
     "shell.execute_reply": "2023-12-09T05:14:57.280071Z",
     "shell.execute_reply.started": "2023-12-09T05:14:57.264840Z"
    },
    "tags": []
   },
   "outputs": [],
   "source": [
    "df_default['last_major_derog_none'].fillna(0, inplace=True)\n",
    "df_default.dropna(inplace=True)"
   ]
  },
  {
   "cell_type": "markdown",
   "id": "337a45a0-ca47-4329-866a-2ec2e6650932",
   "metadata": {},
   "source": [
    "### Data Shape"
   ]
  },
  {
   "cell_type": "code",
   "execution_count": 4,
   "id": "35e3b804-88c8-4e09-a2b6-d1d683c31d54",
   "metadata": {
    "execution": {
     "iopub.execute_input": "2023-12-09T05:14:57.286461Z",
     "iopub.status.busy": "2023-12-09T05:14:57.286126Z",
     "iopub.status.idle": "2023-12-09T05:14:57.298218Z",
     "shell.execute_reply": "2023-12-09T05:14:57.297130Z",
     "shell.execute_reply.started": "2023-12-09T05:14:57.286431Z"
    },
    "tags": []
   },
   "outputs": [
    {
     "data": {
      "text/plain": [
       "(18371, 15)"
      ]
     },
     "execution_count": 4,
     "metadata": {},
     "output_type": "execute_result"
    }
   ],
   "source": [
    "df_default.shape"
   ]
  },
  {
   "cell_type": "markdown",
   "id": "ea663775-9d7f-4f58-8592-23d64e4eed83",
   "metadata": {},
   "source": [
    "## Feature Engineering"
   ]
  },
  {
   "cell_type": "code",
   "execution_count": 5,
   "id": "662c77ea-0344-4b7c-816c-9abef635e6af",
   "metadata": {
    "execution": {
     "iopub.execute_input": "2023-12-09T05:14:57.303736Z",
     "iopub.status.busy": "2023-12-09T05:14:57.301466Z",
     "iopub.status.idle": "2023-12-09T05:14:57.387643Z",
     "shell.execute_reply": "2023-12-09T05:14:57.386678Z",
     "shell.execute_reply.started": "2023-12-09T05:14:57.303670Z"
    },
    "tags": []
   },
   "outputs": [
    {
     "data": {
      "text/html": [
       "<div>\n",
       "<style scoped>\n",
       "    .dataframe tbody tr th:only-of-type {\n",
       "        vertical-align: middle;\n",
       "    }\n",
       "\n",
       "    .dataframe tbody tr th {\n",
       "        vertical-align: top;\n",
       "    }\n",
       "\n",
       "    .dataframe thead th {\n",
       "        text-align: right;\n",
       "    }\n",
       "</style>\n",
       "<table border=\"1\" class=\"dataframe\">\n",
       "  <thead>\n",
       "    <tr style=\"text-align: right;\">\n",
       "      <th></th>\n",
       "      <th>id</th>\n",
       "      <th>grade</th>\n",
       "      <th>annual_inc</th>\n",
       "      <th>short_emp</th>\n",
       "      <th>emp_length_num</th>\n",
       "      <th>home_ownership</th>\n",
       "      <th>dti</th>\n",
       "      <th>purpose</th>\n",
       "      <th>last_delinq_none</th>\n",
       "      <th>last_major_derog_none</th>\n",
       "      <th>revol_util</th>\n",
       "      <th>total_rec_late_fee</th>\n",
       "      <th>od_ratio</th>\n",
       "      <th>bad_loan</th>\n",
       "      <th>term_int</th>\n",
       "    </tr>\n",
       "  </thead>\n",
       "  <tbody>\n",
       "    <tr>\n",
       "      <th>0</th>\n",
       "      <td>11454641</td>\n",
       "      <td>A</td>\n",
       "      <td>100000.0</td>\n",
       "      <td>1</td>\n",
       "      <td>1</td>\n",
       "      <td>RENT</td>\n",
       "      <td>26.27</td>\n",
       "      <td>credit_card</td>\n",
       "      <td>1</td>\n",
       "      <td>0.0</td>\n",
       "      <td>43.2</td>\n",
       "      <td>0.0</td>\n",
       "      <td>0.160624</td>\n",
       "      <td>0</td>\n",
       "      <td>36</td>\n",
       "    </tr>\n",
       "    <tr>\n",
       "      <th>1</th>\n",
       "      <td>9604874</td>\n",
       "      <td>A</td>\n",
       "      <td>83000.0</td>\n",
       "      <td>0</td>\n",
       "      <td>4</td>\n",
       "      <td>OWN</td>\n",
       "      <td>5.39</td>\n",
       "      <td>credit_card</td>\n",
       "      <td>0</td>\n",
       "      <td>0.0</td>\n",
       "      <td>21.5</td>\n",
       "      <td>0.0</td>\n",
       "      <td>0.810777</td>\n",
       "      <td>0</td>\n",
       "      <td>36</td>\n",
       "    </tr>\n",
       "    <tr>\n",
       "      <th>2</th>\n",
       "      <td>9684700</td>\n",
       "      <td>D</td>\n",
       "      <td>78000.0</td>\n",
       "      <td>0</td>\n",
       "      <td>11</td>\n",
       "      <td>MORTGAGE</td>\n",
       "      <td>18.45</td>\n",
       "      <td>debt_consolidation</td>\n",
       "      <td>1</td>\n",
       "      <td>0.0</td>\n",
       "      <td>46.3</td>\n",
       "      <td>0.0</td>\n",
       "      <td>0.035147</td>\n",
       "      <td>1</td>\n",
       "      <td>60</td>\n",
       "    </tr>\n",
       "    <tr>\n",
       "      <th>3</th>\n",
       "      <td>9695736</td>\n",
       "      <td>D</td>\n",
       "      <td>37536.0</td>\n",
       "      <td>0</td>\n",
       "      <td>6</td>\n",
       "      <td>MORTGAGE</td>\n",
       "      <td>12.28</td>\n",
       "      <td>medical</td>\n",
       "      <td>0</td>\n",
       "      <td>0.0</td>\n",
       "      <td>10.7</td>\n",
       "      <td>0.0</td>\n",
       "      <td>0.534887</td>\n",
       "      <td>1</td>\n",
       "      <td>60</td>\n",
       "    </tr>\n",
       "    <tr>\n",
       "      <th>4</th>\n",
       "      <td>9795013</td>\n",
       "      <td>D</td>\n",
       "      <td>65000.0</td>\n",
       "      <td>0</td>\n",
       "      <td>11</td>\n",
       "      <td>MORTGAGE</td>\n",
       "      <td>11.26</td>\n",
       "      <td>debt_consolidation</td>\n",
       "      <td>0</td>\n",
       "      <td>0.0</td>\n",
       "      <td>15.2</td>\n",
       "      <td>0.0</td>\n",
       "      <td>0.166500</td>\n",
       "      <td>0</td>\n",
       "      <td>36</td>\n",
       "    </tr>\n",
       "  </tbody>\n",
       "</table>\n",
       "</div>"
      ],
      "text/plain": [
       "         id grade  annual_inc  short_emp  emp_length_num home_ownership  \\\n",
       "0  11454641     A    100000.0          1               1           RENT   \n",
       "1   9604874     A     83000.0          0               4            OWN   \n",
       "2   9684700     D     78000.0          0              11       MORTGAGE   \n",
       "3   9695736     D     37536.0          0               6       MORTGAGE   \n",
       "4   9795013     D     65000.0          0              11       MORTGAGE   \n",
       "\n",
       "     dti             purpose  last_delinq_none  last_major_derog_none  \\\n",
       "0  26.27         credit_card                 1                    0.0   \n",
       "1   5.39         credit_card                 0                    0.0   \n",
       "2  18.45  debt_consolidation                 1                    0.0   \n",
       "3  12.28             medical                 0                    0.0   \n",
       "4  11.26  debt_consolidation                 0                    0.0   \n",
       "\n",
       "   revol_util  total_rec_late_fee  od_ratio  bad_loan  term_int  \n",
       "0        43.2                 0.0  0.160624         0        36  \n",
       "1        21.5                 0.0  0.810777         0        36  \n",
       "2        46.3                 0.0  0.035147         1        60  \n",
       "3        10.7                 0.0  0.534887         1        60  \n",
       "4        15.2                 0.0  0.166500         0        36  "
      ]
     },
     "execution_count": 5,
     "metadata": {},
     "output_type": "execute_result"
    }
   ],
   "source": [
    "# Step 1: Replace '36 Months' with '36 months'\n",
    "df_default['term'] = df_default['term'].str.replace('36 Months', '36 months')\n",
    "\n",
    "# Step 2: Create 'term_int' column\n",
    "# Strip the ' months' part and convert the rest to integer\n",
    "df_default['term_int'] = df_default['term'].str.strip().str.replace(' months', '').astype(int)\n",
    "df_default.drop('term',axis=1,inplace=True)\n",
    "df_default.head()"
   ]
  },
  {
   "cell_type": "markdown",
   "id": "e080d943-5871-43bc-bce0-8a6b38c6e5b9",
   "metadata": {},
   "source": [
    "<center><b>Table 2</b>. The Loan Default Dataset after Feature Engineering</center>"
   ]
  },
  {
   "cell_type": "code",
   "execution_count": 6,
   "id": "fc28dfc2-69af-40ed-8611-0a37c4d1fece",
   "metadata": {
    "execution": {
     "iopub.execute_input": "2023-12-09T05:14:57.389783Z",
     "iopub.status.busy": "2023-12-09T05:14:57.389099Z",
     "iopub.status.idle": "2023-12-09T05:14:57.396234Z",
     "shell.execute_reply": "2023-12-09T05:14:57.395156Z",
     "shell.execute_reply.started": "2023-12-09T05:14:57.389745Z"
    },
    "tags": []
   },
   "outputs": [],
   "source": [
    "# Remove ID\n",
    "df_default = df_default.iloc[:,1:]"
   ]
  },
  {
   "cell_type": "markdown",
   "id": "91961ad6-7d34-4d03-9925-c35e5f1b1325",
   "metadata": {},
   "source": [
    "### All Numerical Columns"
   ]
  },
  {
   "cell_type": "code",
   "execution_count": 7,
   "id": "6e336d9f-cb65-44b9-98e0-8235d3e8392d",
   "metadata": {
    "execution": {
     "iopub.execute_input": "2023-12-09T05:14:57.398232Z",
     "iopub.status.busy": "2023-12-09T05:14:57.397717Z",
     "iopub.status.idle": "2023-12-09T05:14:57.407227Z",
     "shell.execute_reply": "2023-12-09T05:14:57.406325Z",
     "shell.execute_reply.started": "2023-12-09T05:14:57.398199Z"
    },
    "tags": []
   },
   "outputs": [
    {
     "data": {
      "text/plain": [
       "['annual_inc',\n",
       " 'short_emp',\n",
       " 'emp_length_num',\n",
       " 'dti',\n",
       " 'last_delinq_none',\n",
       " 'last_major_derog_none',\n",
       " 'revol_util',\n",
       " 'total_rec_late_fee',\n",
       " 'od_ratio',\n",
       " 'bad_loan',\n",
       " 'term_int']"
      ]
     },
     "execution_count": 7,
     "metadata": {},
     "output_type": "execute_result"
    }
   ],
   "source": [
    "# Get all numerical columns\n",
    "num_cols = df_default.select_dtypes(exclude=\"object\").columns.tolist()\n",
    "num_cols"
   ]
  },
  {
   "cell_type": "code",
   "execution_count": 8,
   "id": "2243e8df-5d42-46a0-864e-7eab53f68d19",
   "metadata": {
    "execution": {
     "iopub.execute_input": "2023-12-09T05:14:57.409047Z",
     "iopub.status.busy": "2023-12-09T05:14:57.408526Z",
     "iopub.status.idle": "2023-12-09T05:14:57.415125Z",
     "shell.execute_reply": "2023-12-09T05:14:57.414040Z",
     "shell.execute_reply.started": "2023-12-09T05:14:57.409011Z"
    },
    "tags": []
   },
   "outputs": [],
   "source": [
    "df_default = df_default[num_cols]"
   ]
  },
  {
   "cell_type": "markdown",
   "id": "ef80b198-ce2c-466d-b1dc-77b444e9b6b8",
   "metadata": {},
   "source": [
    "### Distribution of Target Variable"
   ]
  },
  {
   "cell_type": "code",
   "execution_count": 9,
   "id": "06f6651e-e0b4-4ff8-ae9d-53a28b2f4f6c",
   "metadata": {
    "execution": {
     "iopub.execute_input": "2023-12-09T05:14:57.416714Z",
     "iopub.status.busy": "2023-12-09T05:14:57.416360Z",
     "iopub.status.idle": "2023-12-09T05:14:57.427118Z",
     "shell.execute_reply": "2023-12-09T05:14:57.426006Z",
     "shell.execute_reply.started": "2023-12-09T05:14:57.416680Z"
    },
    "tags": []
   },
   "outputs": [
    {
     "data": {
      "text/plain": [
       "bad_loan\n",
       "0    79.952098\n",
       "1    20.047902\n",
       "Name: proportion, dtype: float64"
      ]
     },
     "execution_count": 9,
     "metadata": {},
     "output_type": "execute_result"
    }
   ],
   "source": [
    "distribution = df_default['bad_loan'].value_counts(normalize=True)\n",
    "distribution*100"
   ]
  },
  {
   "cell_type": "code",
   "execution_count": 10,
   "id": "7bf55af7-0eec-43d7-978a-7c788d63b307",
   "metadata": {
    "execution": {
     "iopub.execute_input": "2023-12-09T05:14:57.429005Z",
     "iopub.status.busy": "2023-12-09T05:14:57.428377Z",
     "iopub.status.idle": "2023-12-09T05:14:57.742488Z",
     "shell.execute_reply": "2023-12-09T05:14:57.741545Z",
     "shell.execute_reply.started": "2023-12-09T05:14:57.428969Z"
    },
    "tags": []
   },
   "outputs": [
    {
     "name": "stdout",
     "output_type": "stream",
     "text": [
      "Population per class:       0\n",
      "0  14688\n",
      "1   3683\n",
      "Proportion Chance Criterion: 67.94%\n",
      "1.25 * Proportion Chance Criterion: 84.93%\n"
     ]
    },
    {
     "data": {
      "image/png": "[encoded data removed]",
      "text/plain": [
       "<Figure size 640x480 with 1 Axes>"
      ]
     },
     "metadata": {},
     "output_type": "display_data"
    }
   ],
   "source": [
    "counts = Counter(df_default[\"bad_loan\"])\n",
    "df_state = pd.DataFrame.from_dict(counts, orient=\"index\")\n",
    "df_state.plot(kind=\"bar\", color='#0FA4A8')\n",
    "\n",
    "num = (df_state[0] / df_state[0].sum()) ** 2\n",
    "\n",
    "print(\"Population per class:{}\".format(df_state))\n",
    "\n",
    "print(\"Proportion Chance Criterion: {:0.2f}%\".format(100 * num.sum()))\n",
    "print(\n",
    "    \"1.25 * Proportion Chance Criterion: {:0.2f}%\".format(1.25 * 100 * num.sum()))"
   ]
  },
  {
   "cell_type": "markdown",
   "id": "d7722016-0208-46bf-9c49-13a524fdcb14",
   "metadata": {},
   "source": [
    "<center><b>Figure 1</b>. Distribution of Target Variable after minimal Data Preprocessing</center>\n",
    "As seen in Figure 1, this is another example of an. imbalanced dataset with 80%-20% class distribution. "
   ]
  },
  {
   "cell_type": "markdown",
   "id": "c8355094-3036-4bed-9189-05789e7eb751",
   "metadata": {},
   "source": [
    "<div style=\"background-color: #223843; padding: 10px 0;\">\n",
    "    <center><h1 style=\"color: white; font-weight:bold\">Basic EDA</h1></center>\n",
    "</div> "
   ]
  },
  {
   "cell_type": "code",
   "execution_count": 11,
   "id": "1f5f3b32-d75e-4a44-8cac-bbe9f049e32c",
   "metadata": {
    "execution": {
     "iopub.execute_input": "2023-12-09T05:14:57.744620Z",
     "iopub.status.busy": "2023-12-09T05:14:57.744021Z",
     "iopub.status.idle": "2023-12-09T05:14:57.807740Z",
     "shell.execute_reply": "2023-12-09T05:14:57.806827Z",
     "shell.execute_reply.started": "2023-12-09T05:14:57.744584Z"
    },
    "tags": []
   },
   "outputs": [
    {
     "data": {
      "text/html": [
       "<div>\n",
       "<style scoped>\n",
       "    .dataframe tbody tr th:only-of-type {\n",
       "        vertical-align: middle;\n",
       "    }\n",
       "\n",
       "    .dataframe tbody tr th {\n",
       "        vertical-align: top;\n",
       "    }\n",
       "\n",
       "    .dataframe thead th {\n",
       "        text-align: right;\n",
       "    }\n",
       "</style>\n",
       "<table border=\"1\" class=\"dataframe\">\n",
       "  <thead>\n",
       "    <tr style=\"text-align: right;\">\n",
       "      <th></th>\n",
       "      <th>annual_inc</th>\n",
       "      <th>short_emp</th>\n",
       "      <th>emp_length_num</th>\n",
       "      <th>dti</th>\n",
       "      <th>last_delinq_none</th>\n",
       "      <th>last_major_derog_none</th>\n",
       "      <th>revol_util</th>\n",
       "      <th>total_rec_late_fee</th>\n",
       "      <th>od_ratio</th>\n",
       "      <th>bad_loan</th>\n",
       "      <th>term_int</th>\n",
       "    </tr>\n",
       "  </thead>\n",
       "  <tbody>\n",
       "    <tr>\n",
       "      <th>count</th>\n",
       "      <td>18371.000000</td>\n",
       "      <td>18371.000000</td>\n",
       "      <td>18371.000000</td>\n",
       "      <td>18371.000000</td>\n",
       "      <td>18371.000000</td>\n",
       "      <td>18371.000000</td>\n",
       "      <td>18371.000000</td>\n",
       "      <td>18371.000000</td>\n",
       "      <td>18371.000000</td>\n",
       "      <td>18371.000000</td>\n",
       "      <td>18371.000000</td>\n",
       "    </tr>\n",
       "    <tr>\n",
       "      <th>mean</th>\n",
       "      <td>73421.273257</td>\n",
       "      <td>0.112297</td>\n",
       "      <td>6.827609</td>\n",
       "      <td>16.590894</td>\n",
       "      <td>0.546949</td>\n",
       "      <td>0.021610</td>\n",
       "      <td>56.001801</td>\n",
       "      <td>0.293404</td>\n",
       "      <td>0.504941</td>\n",
       "      <td>0.200479</td>\n",
       "      <td>42.031680</td>\n",
       "    </tr>\n",
       "    <tr>\n",
       "      <th>std</th>\n",
       "      <td>45612.958798</td>\n",
       "      <td>0.315740</td>\n",
       "      <td>3.769322</td>\n",
       "      <td>7.582902</td>\n",
       "      <td>0.497804</td>\n",
       "      <td>0.145411</td>\n",
       "      <td>43.411698</td>\n",
       "      <td>3.140913</td>\n",
       "      <td>0.287800</td>\n",
       "      <td>0.400370</td>\n",
       "      <td>10.410815</td>\n",
       "    </tr>\n",
       "    <tr>\n",
       "      <th>min</th>\n",
       "      <td>8412.000000</td>\n",
       "      <td>0.000000</td>\n",
       "      <td>0.000000</td>\n",
       "      <td>0.000000</td>\n",
       "      <td>0.000000</td>\n",
       "      <td>0.000000</td>\n",
       "      <td>0.000000</td>\n",
       "      <td>0.000000</td>\n",
       "      <td>0.000077</td>\n",
       "      <td>0.000000</td>\n",
       "      <td>36.000000</td>\n",
       "    </tr>\n",
       "    <tr>\n",
       "      <th>25%</th>\n",
       "      <td>47000.000000</td>\n",
       "      <td>0.000000</td>\n",
       "      <td>3.000000</td>\n",
       "      <td>10.850000</td>\n",
       "      <td>0.000000</td>\n",
       "      <td>0.000000</td>\n",
       "      <td>38.750000</td>\n",
       "      <td>0.000000</td>\n",
       "      <td>0.257495</td>\n",
       "      <td>0.000000</td>\n",
       "      <td>36.000000</td>\n",
       "    </tr>\n",
       "    <tr>\n",
       "      <th>50%</th>\n",
       "      <td>65000.000000</td>\n",
       "      <td>0.000000</td>\n",
       "      <td>7.000000</td>\n",
       "      <td>16.220000</td>\n",
       "      <td>1.000000</td>\n",
       "      <td>0.000000</td>\n",
       "      <td>57.100000</td>\n",
       "      <td>0.000000</td>\n",
       "      <td>0.507883</td>\n",
       "      <td>0.000000</td>\n",
       "      <td>36.000000</td>\n",
       "    </tr>\n",
       "    <tr>\n",
       "      <th>75%</th>\n",
       "      <td>88000.000000</td>\n",
       "      <td>0.000000</td>\n",
       "      <td>11.000000</td>\n",
       "      <td>22.060000</td>\n",
       "      <td>1.000000</td>\n",
       "      <td>0.000000</td>\n",
       "      <td>74.000000</td>\n",
       "      <td>0.000000</td>\n",
       "      <td>0.753875</td>\n",
       "      <td>0.000000</td>\n",
       "      <td>60.000000</td>\n",
       "    </tr>\n",
       "    <tr>\n",
       "      <th>max</th>\n",
       "      <td>1000000.000000</td>\n",
       "      <td>1.000000</td>\n",
       "      <td>11.000000</td>\n",
       "      <td>34.990000</td>\n",
       "      <td>1.000000</td>\n",
       "      <td>1.000000</td>\n",
       "      <td>5010.000000</td>\n",
       "      <td>96.466600</td>\n",
       "      <td>0.999894</td>\n",
       "      <td>1.000000</td>\n",
       "      <td>60.000000</td>\n",
       "    </tr>\n",
       "  </tbody>\n",
       "</table>\n",
       "</div>"
      ],
      "text/plain": [
       "           annual_inc     short_emp  emp_length_num           dti  \\\n",
       "count    18371.000000  18371.000000    18371.000000  18371.000000   \n",
       "mean     73421.273257      0.112297        6.827609     16.590894   \n",
       "std      45612.958798      0.315740        3.769322      7.582902   \n",
       "min       8412.000000      0.000000        0.000000      0.000000   \n",
       "25%      47000.000000      0.000000        3.000000     10.850000   \n",
       "50%      65000.000000      0.000000        7.000000     16.220000   \n",
       "75%      88000.000000      0.000000       11.000000     22.060000   \n",
       "max    1000000.000000      1.000000       11.000000     34.990000   \n",
       "\n",
       "       last_delinq_none  last_major_derog_none    revol_util  \\\n",
       "count      18371.000000           18371.000000  18371.000000   \n",
       "mean           0.546949               0.021610     56.001801   \n",
       "std            0.497804               0.145411     43.411698   \n",
       "min            0.000000               0.000000      0.000000   \n",
       "25%            0.000000               0.000000     38.750000   \n",
       "50%            1.000000               0.000000     57.100000   \n",
       "75%            1.000000               0.000000     74.000000   \n",
       "max            1.000000               1.000000   5010.000000   \n",
       "\n",
       "       total_rec_late_fee      od_ratio      bad_loan      term_int  \n",
       "count        18371.000000  18371.000000  18371.000000  18371.000000  \n",
       "mean             0.293404      0.504941      0.200479     42.031680  \n",
       "std              3.140913      0.287800      0.400370     10.410815  \n",
       "min              0.000000      0.000077      0.000000     36.000000  \n",
       "25%              0.000000      0.257495      0.000000     36.000000  \n",
       "50%              0.000000      0.507883      0.000000     36.000000  \n",
       "75%              0.000000      0.753875      0.000000     60.000000  \n",
       "max             96.466600      0.999894      1.000000     60.000000  "
      ]
     },
     "execution_count": 11,
     "metadata": {},
     "output_type": "execute_result"
    }
   ],
   "source": [
    "# Data Description\n",
    "df_default.describe(include='all')"
   ]
  },
  {
   "cell_type": "markdown",
   "id": "b2102beb-30f1-4d96-ab57-4df6f5947f23",
   "metadata": {},
   "source": [
    "<center><b>Table 3</b>. Data Description of Loan Default Dataset</center>"
   ]
  },
  {
   "cell_type": "code",
   "execution_count": 12,
   "id": "8cbd682a-d105-4e11-82cf-ce8c25516234",
   "metadata": {
    "execution": {
     "iopub.execute_input": "2023-12-09T05:14:57.809851Z",
     "iopub.status.busy": "2023-12-09T05:14:57.809203Z",
     "iopub.status.idle": "2023-12-09T05:14:57.826248Z",
     "shell.execute_reply": "2023-12-09T05:14:57.824419Z",
     "shell.execute_reply.started": "2023-12-09T05:14:57.809816Z"
    },
    "tags": []
   },
   "outputs": [
    {
     "name": "stdout",
     "output_type": "stream",
     "text": [
      "<class 'pandas.core.frame.DataFrame'>\n",
      "Index: 18371 entries, 0 to 19999\n",
      "Data columns (total 11 columns):\n",
      " #   Column                 Non-Null Count  Dtype  \n",
      "---  ------                 --------------  -----  \n",
      " 0   annual_inc             18371 non-null  float64\n",
      " 1   short_emp              18371 non-null  int64  \n",
      " 2   emp_length_num         18371 non-null  int64  \n",
      " 3   dti                    18371 non-null  float64\n",
      " 4   last_delinq_none       18371 non-null  int64  \n",
      " 5   last_major_derog_none  18371 non-null  float64\n",
      " 6   revol_util             18371 non-null  float64\n",
      " 7   total_rec_late_fee     18371 non-null  float64\n",
      " 8   od_ratio               18371 non-null  float64\n",
      " 9   bad_loan               18371 non-null  int64  \n",
      " 10  term_int               18371 non-null  int64  \n",
      "dtypes: float64(6), int64(5)\n",
      "memory usage: 1.7 MB\n"
     ]
    }
   ],
   "source": [
    "# Looking at Nulls and Dtypes\n",
    "df_default.info()"
   ]
  },
  {
   "cell_type": "code",
   "execution_count": 13,
   "id": "3469aae6-b441-4f04-a68c-15ae6427a1b9",
   "metadata": {
    "execution": {
     "iopub.execute_input": "2023-12-09T05:14:57.828944Z",
     "iopub.status.busy": "2023-12-09T05:14:57.828093Z",
     "iopub.status.idle": "2023-12-09T05:14:57.839921Z",
     "shell.execute_reply": "2023-12-09T05:14:57.838627Z",
     "shell.execute_reply.started": "2023-12-09T05:14:57.828904Z"
    }
   },
   "outputs": [
    {
     "data": {
      "text/plain": [
       "Index(['annual_inc', 'short_emp', 'emp_length_num', 'dti', 'last_delinq_none',\n",
       "       'last_major_derog_none', 'revol_util', 'total_rec_late_fee', 'od_ratio',\n",
       "       'bad_loan', 'term_int'],\n",
       "      dtype='object')"
      ]
     },
     "execution_count": 13,
     "metadata": {},
     "output_type": "execute_result"
    }
   ],
   "source": [
    "# Columns Used\n",
    "df_default.columns"
   ]
  },
  {
   "cell_type": "code",
   "execution_count": 14,
   "id": "b9af831d-5cad-4ea9-b22b-ab302a7f8961",
   "metadata": {
    "execution": {
     "iopub.execute_input": "2023-12-09T05:14:57.846466Z",
     "iopub.status.busy": "2023-12-09T05:14:57.846046Z",
     "iopub.status.idle": "2023-12-09T05:14:58.078557Z",
     "shell.execute_reply": "2023-12-09T05:14:58.077319Z",
     "shell.execute_reply.started": "2023-12-09T05:14:57.846428Z"
    },
    "tags": []
   },
   "outputs": [
    {
     "data": {
      "image/png": "[encoded data removed]",
      "text/plain": [
       "<Figure size 640x480 with 1 Axes>"
      ]
     },
     "metadata": {},
     "output_type": "display_data"
    }
   ],
   "source": [
    "# Annual Income of Loan Defaulters \n",
    "annual_inc_default = df_default[df_default['bad_loan']==1]['annual_inc']\n",
    "sns.boxplot(y=annual_inc_default, color=\"#0FA4A8\")\n",
    "plt.title('Box Plot of Annual Income of Loan Defaulters')\n",
    "plt.show()"
   ]
  },
  {
   "cell_type": "markdown",
   "id": "3d196482-227e-485c-8a52-b658c7ef9906",
   "metadata": {},
   "source": [
    "<center><b>Figure 2</b>. Box Plot of Annual Income of Loan Defaulters.</center>\n",
    "Figure 2 reveals a significant number of outliers, with the majority of individuals earning less than $200,000 annually. Notably, despite the presence of outliers with incomes higher than the average, many of these individuals still experience defaults."
   ]
  },
  {
   "cell_type": "markdown",
   "id": "cda74da6-a030-4ee1-b3de-9430da2396b7",
   "metadata": {},
   "source": [
    "<div style=\"background-color: #223843; padding: 10px 0;\">\n",
    "    <center><h1 style=\"color: white; font-weight:bold\">MACHINE LEARNING PIPELINE</h1></center>\n",
    "</div> "
   ]
  },
  {
   "cell_type": "markdown",
   "id": "b9c5f412-cee7-4f8f-ab6d-58a7540000a5",
   "metadata": {},
   "source": [
    "<div style=\"background-color: #eff1f3; padding: 10px 0;\">\n",
    "    <center><h2 style=\"color: #223843; font-weight:bold\">Without Resampling</h2></center>\n",
    "</div> \n",
    "\n",
    "---"
   ]
  },
  {
   "cell_type": "markdown",
   "id": "6e7f3dde-0c3b-464e-aa07-7826a2ddb457",
   "metadata": {},
   "source": [
    "### Predictor and Target Variable"
   ]
  },
  {
   "cell_type": "code",
   "execution_count": 15,
   "id": "30c17666-c51b-49ac-8b17-b35a8de1f805",
   "metadata": {
    "execution": {
     "iopub.execute_input": "2023-12-09T05:14:58.080401Z",
     "iopub.status.busy": "2023-12-09T05:14:58.079994Z",
     "iopub.status.idle": "2023-12-09T05:14:58.093344Z",
     "shell.execute_reply": "2023-12-09T05:14:58.092377Z",
     "shell.execute_reply.started": "2023-12-09T05:14:58.080364Z"
    },
    "tags": []
   },
   "outputs": [],
   "source": [
    "data = df_default.copy()\n",
    "X = data.drop('bad_loan', axis=1)\n",
    "y = data['bad_loan']"
   ]
  },
  {
   "cell_type": "markdown",
   "id": "7f0fc051-7d84-4333-bc2d-a1d19e660eed",
   "metadata": {},
   "source": [
    "### Train-Validation-Test Split"
   ]
  },
  {
   "cell_type": "code",
   "execution_count": 16,
   "id": "f88b6fe3-213e-40d3-8709-cd7b2e4e02b4",
   "metadata": {
    "execution": {
     "iopub.execute_input": "2023-12-09T05:14:58.095175Z",
     "iopub.status.busy": "2023-12-09T05:14:58.094647Z",
     "iopub.status.idle": "2023-12-09T05:14:58.123236Z",
     "shell.execute_reply": "2023-12-09T05:14:58.122294Z",
     "shell.execute_reply.started": "2023-12-09T05:14:58.095138Z"
    },
    "tags": []
   },
   "outputs": [],
   "source": [
    "test_size = 0.20\n",
    "seed=143\n",
    "X_trainval, X_holdout, y_trainval, y_holdout = train_test_split(\n",
    "    X, y, test_size=test_size, \n",
    "    stratify=y,\n",
    "    random_state=seed)"
   ]
  },
  {
   "cell_type": "markdown",
   "id": "7155c84e-4b4c-48bd-b4e1-f46451bbc6f0",
   "metadata": {},
   "source": [
    "### Parameters for the search using GridSearchCV"
   ]
  },
  {
   "cell_type": "code",
   "execution_count": 17,
   "id": "4878c282-c000-4065-aee0-b84ee7503ea7",
   "metadata": {
    "execution": {
     "iopub.execute_input": "2023-12-09T05:14:58.125357Z",
     "iopub.status.busy": "2023-12-09T05:14:58.124544Z",
     "iopub.status.idle": "2023-12-09T05:14:58.131597Z",
     "shell.execute_reply": "2023-12-09T05:14:58.130672Z",
     "shell.execute_reply.started": "2023-12-09T05:14:58.125319Z"
    },
    "tags": []
   },
   "outputs": [],
   "source": [
    "C_range = [1.0e-05, 1.0e-03, 1.0e-01, 1.0e01, 1.0e03, 1.0e05]\n",
    "alpha_range = [1.0e-05, 1.0e-03, 1.0e-01, 1.0e01, 1.0e03, 1.0e05]\n",
    "max_depth_range = [5, 6, 7, 8, 9, 10, 11, 12, 13, 14, 15]\n",
    "learning_rate_range = [0.1, 0.5, 1.0]\n",
    "n_neighbor_range = [5, 6, 7, 8, 9, 10, 11]\n",
    "penalty = ['l1', 'l2']"
   ]
  },
  {
   "cell_type": "markdown",
   "id": "f9e39cf3-810e-4426-8f39-e2cb319ad59d",
   "metadata": {},
   "source": [
    "### Usage of Scalers, Pipeline and Parameter Grid "
   ]
  },
  {
   "cell_type": "code",
   "execution_count": 18,
   "id": "00b0bb09-cad0-4bb3-9deb-34ddc6a1013d",
   "metadata": {
    "execution": {
     "iopub.execute_input": "2023-12-09T05:14:58.133516Z",
     "iopub.status.busy": "2023-12-09T05:14:58.132888Z",
     "iopub.status.idle": "2023-12-09T05:14:58.143583Z",
     "shell.execute_reply": "2023-12-09T05:14:58.142359Z",
     "shell.execute_reply.started": "2023-12-09T05:14:58.133478Z"
    },
    "tags": []
   },
   "outputs": [],
   "source": [
    "steps = [(\"scaler\", StandardScaler()), (\"clf\", None)]\n",
    "pipe = Pipeline(steps)\n",
    "param_grid= [\n",
    "    {\n",
    "        \"clf\": [LinearSVC()],\n",
    "        \"clf__C\": C_range,\n",
    "        \"clf__dual\": ['auto'],\n",
    "    },\n",
    "    {\n",
    "        \"clf\": [KNeighborsClassifier()],\n",
    "        \"clf__n_neighbors\": n_neighbor_range,\n",
    "    },\n",
    "    {\n",
    "        \"clf\": [RandomForestClassifier()],\n",
    "        \"clf__max_depth\": max_depth_range,\n",
    "    },\n",
    "    {\n",
    "        \"clf\": [GradientBoostingClassifier()],\n",
    "        \"clf__max_depth\": max_depth_range,\n",
    "        \"clf__learning_rate\": learning_rate_range,\n",
    "    },\n",
    "    {\n",
    "        \"clf\": [LogisticRegression()],\n",
    "        \"clf__penalty\": penalty,\n",
    "        \"clf__C\": C_range,\n",
    "        \"clf__solver\": [\"liblinear\"],\n",
    "    },\n",
    "]"
   ]
  },
  {
   "cell_type": "markdown",
   "id": "16e64b79-268c-4b84-9ce3-e0c52ec88524",
   "metadata": {},
   "source": [
    "### Determining the Right Scoring Metric"
   ]
  },
  {
   "cell_type": "code",
   "execution_count": 19,
   "id": "7b53d8fb-8b1b-48fb-8f6e-421dfcb7d29e",
   "metadata": {
    "collapsed": true,
    "execution": {
     "iopub.execute_input": "2023-12-09T05:14:58.146074Z",
     "iopub.status.busy": "2023-12-09T05:14:58.145304Z",
     "iopub.status.idle": "2023-12-09T05:26:27.340718Z",
     "shell.execute_reply": "2023-12-09T05:26:27.339449Z",
     "shell.execute_reply.started": "2023-12-09T05:14:58.146034Z"
    },
    "jupyter": {
     "outputs_hidden": true
    },
    "tags": []
   },
   "outputs": [
    {
     "name": "stdout",
     "output_type": "stream",
     "text": [
      "Fitting 5 folds for each of 69 candidates, totalling 345 fits\n",
      "[CV] END ......clf=LinearSVC(), clf__C=1e-05, clf__dual=auto; total time=   0.1s\n",
      "[CV] END ......clf=LinearSVC(), clf__C=1e-05, clf__dual=auto; total time=   0.1s\n",
      "[CV] END ......clf=LinearSVC(), clf__C=1e-05, clf__dual=auto; total time=   0.1s\n",
      "[CV] END ......clf=LinearSVC(), clf__C=1e-05, clf__dual=auto; total time=   0.0s\n",
      "[CV] END ......clf=LinearSVC(), clf__C=1e-05, clf__dual=auto; total time=   0.1s\n",
      "[CV] END ......clf=LinearSVC(), clf__C=0.001, clf__dual=auto; total time=   0.0s\n",
      "[CV] END ......clf=LinearSVC(), clf__C=0.001, clf__dual=auto; total time=   0.0s\n",
      "[CV] END ......clf=LinearSVC(), clf__C=0.001, clf__dual=auto; total time=   0.0s\n",
      "[CV] END ......clf=LinearSVC(), clf__C=0.001, clf__dual=auto; total time=   0.0s\n",
      "[CV] END ......clf=LinearSVC(), clf__C=0.001, clf__dual=auto; total time=   0.0s\n",
      "[CV] END ........clf=LinearSVC(), clf__C=0.1, clf__dual=auto; total time=   0.0s\n",
      "[CV] END ........clf=LinearSVC(), clf__C=0.1, clf__dual=auto; total time=   0.0s\n",
      "[CV] END ........clf=LinearSVC(), clf__C=0.1, clf__dual=auto; total time=   0.0s\n",
      "[CV] END ........clf=LinearSVC(), clf__C=0.1, clf__dual=auto; total time=   0.0s\n",
      "[CV] END ........clf=LinearSVC(), clf__C=0.1, clf__dual=auto; total time=   0.0s\n",
      "[CV] END .......clf=LinearSVC(), clf__C=10.0, clf__dual=auto; total time=   0.0s\n",
      "[CV] END .......clf=LinearSVC(), clf__C=10.0, clf__dual=auto; total time=   0.0s\n",
      "[CV] END .......clf=LinearSVC(), clf__C=10.0, clf__dual=auto; total time=   0.0s\n",
      "[CV] END .......clf=LinearSVC(), clf__C=10.0, clf__dual=auto; total time=   0.0s\n",
      "[CV] END .......clf=LinearSVC(), clf__C=10.0, clf__dual=auto; total time=   0.0s\n",
      "[CV] END .....clf=LinearSVC(), clf__C=1000.0, clf__dual=auto; total time=   0.0s\n",
      "[CV] END .....clf=LinearSVC(), clf__C=1000.0, clf__dual=auto; total time=   0.0s\n",
      "[CV] END .....clf=LinearSVC(), clf__C=1000.0, clf__dual=auto; total time=   0.0s\n",
      "[CV] END .....clf=LinearSVC(), clf__C=1000.0, clf__dual=auto; total time=   0.1s\n",
      "[CV] END .....clf=LinearSVC(), clf__C=1000.0, clf__dual=auto; total time=   0.0s\n",
      "[CV] END ...clf=LinearSVC(), clf__C=100000.0, clf__dual=auto; total time=   0.0s\n",
      "[CV] END ...clf=LinearSVC(), clf__C=100000.0, clf__dual=auto; total time=   0.0s\n",
      "[CV] END ...clf=LinearSVC(), clf__C=100000.0, clf__dual=auto; total time=   0.0s\n",
      "[CV] END ...clf=LinearSVC(), clf__C=100000.0, clf__dual=auto; total time=   0.0s\n",
      "[CV] END ...clf=LinearSVC(), clf__C=100000.0, clf__dual=auto; total time=   0.0s\n",
      "[CV] END .....clf=KNeighborsClassifier(), clf__n_neighbors=5; total time=   1.0s\n",
      "[CV] END .....clf=KNeighborsClassifier(), clf__n_neighbors=5; total time=   1.0s\n",
      "[CV] END .....clf=KNeighborsClassifier(), clf__n_neighbors=5; total time=   1.0s\n",
      "[CV] END .....clf=KNeighborsClassifier(), clf__n_neighbors=5; total time=   1.0s\n",
      "[CV] END .....clf=KNeighborsClassifier(), clf__n_neighbors=5; total time=   1.0s\n",
      "[CV] END .....clf=KNeighborsClassifier(), clf__n_neighbors=6; total time=   1.0s\n",
      "[CV] END .....clf=KNeighborsClassifier(), clf__n_neighbors=6; total time=   1.0s\n",
      "[CV] END .....clf=KNeighborsClassifier(), clf__n_neighbors=6; total time=   1.1s\n",
      "[CV] END .....clf=KNeighborsClassifier(), clf__n_neighbors=6; total time=   1.2s\n",
      "[CV] END .....clf=KNeighborsClassifier(), clf__n_neighbors=7; total time=   1.3s\n",
      "[CV] END .....clf=KNeighborsClassifier(), clf__n_neighbors=7; total time=   1.3s\n",
      "[CV] END .....clf=KNeighborsClassifier(), clf__n_neighbors=6; total time=   1.4s\n",
      "[CV] END .....clf=KNeighborsClassifier(), clf__n_neighbors=7; total time=   1.0s\n",
      "[CV] END .....clf=KNeighborsClassifier(), clf__n_neighbors=7; total time=   1.0s\n",
      "[CV] END .....clf=KNeighborsClassifier(), clf__n_neighbors=7; total time=   1.0s\n",
      "[CV] END .....clf=KNeighborsClassifier(), clf__n_neighbors=8; total time=   1.2s\n",
      "[CV] END .....clf=KNeighborsClassifier(), clf__n_neighbors=8; total time=   1.0s\n",
      "[CV] END .....clf=KNeighborsClassifier(), clf__n_neighbors=8; total time=   1.0s\n",
      "[CV] END .....clf=KNeighborsClassifier(), clf__n_neighbors=8; total time=   1.0s\n",
      "[CV] END .....clf=KNeighborsClassifier(), clf__n_neighbors=8; total time=   1.2s\n",
      "[CV] END .....clf=KNeighborsClassifier(), clf__n_neighbors=9; total time=   1.1s\n",
      "[CV] END .....clf=KNeighborsClassifier(), clf__n_neighbors=9; total time=   1.0s\n",
      "[CV] END .....clf=KNeighborsClassifier(), clf__n_neighbors=9; total time=   1.1s\n",
      "[CV] END .....clf=KNeighborsClassifier(), clf__n_neighbors=9; total time=   1.3s\n",
      "[CV] END ....clf=KNeighborsClassifier(), clf__n_neighbors=10; total time=   1.1s\n",
      "[CV] END ....clf=KNeighborsClassifier(), clf__n_neighbors=10; total time=   1.1s\n",
      "[CV] END .....clf=KNeighborsClassifier(), clf__n_neighbors=9; total time=   1.0s\n",
      "[CV] END ....clf=KNeighborsClassifier(), clf__n_neighbors=10; total time=   1.0s\n",
      "[CV] END ....clf=KNeighborsClassifier(), clf__n_neighbors=10; total time=   1.1s\n",
      "[CV] END ....clf=KNeighborsClassifier(), clf__n_neighbors=10; total time=   1.1s\n",
      "[CV] END ....clf=KNeighborsClassifier(), clf__n_neighbors=11; total time=   1.3s\n",
      "[CV] END ....clf=KNeighborsClassifier(), clf__n_neighbors=11; total time=   1.1s\n",
      "[CV] END ....clf=KNeighborsClassifier(), clf__n_neighbors=11; total time=   1.1s\n",
      "[CV] END ....clf=KNeighborsClassifier(), clf__n_neighbors=11; total time=   1.1s\n",
      "[CV] END .....clf=RandomForestClassifier(), clf__max_depth=5; total time=   1.4s\n",
      "[CV] END .....clf=RandomForestClassifier(), clf__max_depth=5; total time=   1.5s\n",
      "[CV] END .....clf=RandomForestClassifier(), clf__max_depth=5; total time=   1.5s\n",
      "[CV] END .....clf=RandomForestClassifier(), clf__max_depth=5; total time=   1.5s\n",
      "[CV] END ....clf=KNeighborsClassifier(), clf__n_neighbors=11; total time=   1.3s\n",
      "[CV] END .....clf=RandomForestClassifier(), clf__max_depth=5; total time=   1.5s\n",
      "[CV] END .....clf=RandomForestClassifier(), clf__max_depth=6; total time=   1.7s\n",
      "[CV] END .....clf=RandomForestClassifier(), clf__max_depth=6; total time=   1.7s\n",
      "[CV] END .....clf=RandomForestClassifier(), clf__max_depth=6; total time=   1.7s\n",
      "[CV] END .....clf=RandomForestClassifier(), clf__max_depth=6; total time=   1.7s\n",
      "[CV] END .....clf=RandomForestClassifier(), clf__max_depth=6; total time=   1.6s\n",
      "[CV] END .....clf=RandomForestClassifier(), clf__max_depth=7; total time=   1.8s\n",
      "[CV] END .....clf=RandomForestClassifier(), clf__max_depth=7; total time=   1.9s\n",
      "[CV] END .....clf=RandomForestClassifier(), clf__max_depth=7; total time=   1.9s\n",
      "[CV] END .....clf=RandomForestClassifier(), clf__max_depth=7; total time=   1.8s\n",
      "[CV] END .....clf=RandomForestClassifier(), clf__max_depth=7; total time=   1.9s\n",
      "[CV] END .....clf=RandomForestClassifier(), clf__max_depth=8; total time=   2.1s\n",
      "[CV] END .....clf=RandomForestClassifier(), clf__max_depth=8; total time=   2.1s\n",
      "[CV] END .....clf=RandomForestClassifier(), clf__max_depth=8; total time=   2.5s\n",
      "[CV] END .....clf=RandomForestClassifier(), clf__max_depth=8; total time=   2.1s\n",
      "[CV] END .....clf=RandomForestClassifier(), clf__max_depth=8; total time=   2.0s\n",
      "[CV] END .....clf=RandomForestClassifier(), clf__max_depth=9; total time=   2.3s\n",
      "[CV] END .....clf=RandomForestClassifier(), clf__max_depth=9; total time=   2.3s\n",
      "[CV] END .....clf=RandomForestClassifier(), clf__max_depth=9; total time=   2.7s\n",
      "[CV] END .....clf=RandomForestClassifier(), clf__max_depth=9; total time=   2.3s\n",
      "[CV] END .....clf=RandomForestClassifier(), clf__max_depth=9; total time=   2.3s\n",
      "[CV] END ....clf=RandomForestClassifier(), clf__max_depth=10; total time=   2.5s\n",
      "[CV] END ....clf=RandomForestClassifier(), clf__max_depth=10; total time=   2.5s\n",
      "[CV] END ....clf=RandomForestClassifier(), clf__max_depth=10; total time=   2.5s\n",
      "[CV] END ....clf=RandomForestClassifier(), clf__max_depth=10; total time=   2.5s\n",
      "[CV] END ....clf=RandomForestClassifier(), clf__max_depth=11; total time=   2.7s\n",
      "[CV] END ....clf=RandomForestClassifier(), clf__max_depth=10; total time=   2.9s\n",
      "[CV] END ....clf=RandomForestClassifier(), clf__max_depth=11; total time=   2.6s\n",
      "[CV] END ....clf=RandomForestClassifier(), clf__max_depth=11; total time=   2.7s\n",
      "[CV] END ....clf=RandomForestClassifier(), clf__max_depth=11; total time=   2.7s\n",
      "[CV] END ....clf=RandomForestClassifier(), clf__max_depth=12; total time=   2.8s\n",
      "[CV] END ....clf=RandomForestClassifier(), clf__max_depth=11; total time=   3.2s\n",
      "[CV] END ....clf=RandomForestClassifier(), clf__max_depth=12; total time=   2.9s\n",
      "[CV] END ....clf=RandomForestClassifier(), clf__max_depth=12; total time=   2.9s\n",
      "[CV] END ....clf=RandomForestClassifier(), clf__max_depth=12; total time=   2.8s\n",
      "[CV] END ....clf=RandomForestClassifier(), clf__max_depth=12; total time=   3.0s\n",
      "[CV] END ....clf=RandomForestClassifier(), clf__max_depth=13; total time=   3.1s\n",
      "[CV] END ....clf=RandomForestClassifier(), clf__max_depth=13; total time=   3.0s\n",
      "[CV] END ....clf=RandomForestClassifier(), clf__max_depth=13; total time=   3.0s\n",
      "[CV] END ....clf=RandomForestClassifier(), clf__max_depth=13; total time=   3.3s\n",
      "[CV] END ....clf=RandomForestClassifier(), clf__max_depth=13; total time=   3.1s\n",
      "[CV] END ....clf=RandomForestClassifier(), clf__max_depth=14; total time=   3.2s\n",
      "[CV] END ....clf=RandomForestClassifier(), clf__max_depth=14; total time=   3.2s\n",
      "[CV] END ....clf=RandomForestClassifier(), clf__max_depth=14; total time=   3.3s\n",
      "[CV] END ....clf=RandomForestClassifier(), clf__max_depth=14; total time=   3.3s\n",
      "[CV] END ....clf=RandomForestClassifier(), clf__max_depth=14; total time=   3.3s\n",
      "[CV] END ....clf=RandomForestClassifier(), clf__max_depth=15; total time=   3.3s\n",
      "[CV] END ....clf=RandomForestClassifier(), clf__max_depth=15; total time=   3.4s\n",
      "[CV] END ....clf=RandomForestClassifier(), clf__max_depth=15; total time=   3.4s\n",
      "[CV] END ....clf=RandomForestClassifier(), clf__max_depth=15; total time=   3.4s\n",
      "[CV] END ....clf=RandomForestClassifier(), clf__max_depth=15; total time=   3.3s\n",
      "[CV] END clf=GradientBoostingClassifier(), clf__learning_rate=0.1, clf__max_depth=5; total time=   4.8s\n",
      "[CV] END clf=GradientBoostingClassifier(), clf__learning_rate=0.1, clf__max_depth=5; total time=   4.8s\n",
      "[CV] END clf=GradientBoostingClassifier(), clf__learning_rate=0.1, clf__max_depth=5; total time=   4.8s\n",
      "[CV] END clf=GradientBoostingClassifier(), clf__learning_rate=0.1, clf__max_depth=5; total time=   4.8s\n",
      "[CV] END clf=GradientBoostingClassifier(), clf__learning_rate=0.1, clf__max_depth=5; total time=   4.8s\n",
      "[CV] END clf=GradientBoostingClassifier(), clf__learning_rate=0.1, clf__max_depth=6; total time=   5.8s\n",
      "[CV] END clf=GradientBoostingClassifier(), clf__learning_rate=0.1, clf__max_depth=6; total time=   5.8s\n",
      "[CV] END clf=GradientBoostingClassifier(), clf__learning_rate=0.1, clf__max_depth=6; total time=   5.8s\n",
      "[CV] END clf=GradientBoostingClassifier(), clf__learning_rate=0.1, clf__max_depth=6; total time=   5.8s\n",
      "[CV] END clf=GradientBoostingClassifier(), clf__learning_rate=0.1, clf__max_depth=6; total time=   5.9s\n",
      "[CV] END clf=GradientBoostingClassifier(), clf__learning_rate=0.1, clf__max_depth=7; total time=   7.1s\n",
      "[CV] END clf=GradientBoostingClassifier(), clf__learning_rate=0.1, clf__max_depth=7; total time=   6.9s\n",
      "[CV] END clf=GradientBoostingClassifier(), clf__learning_rate=0.1, clf__max_depth=7; total time=   6.9s\n",
      "[CV] END clf=GradientBoostingClassifier(), clf__learning_rate=0.1, clf__max_depth=7; total time=   7.2s\n",
      "[CV] END clf=GradientBoostingClassifier(), clf__learning_rate=0.1, clf__max_depth=7; total time=   7.0s\n",
      "[CV] END clf=GradientBoostingClassifier(), clf__learning_rate=0.1, clf__max_depth=8; total time=   8.0s\n",
      "[CV] END clf=GradientBoostingClassifier(), clf__learning_rate=0.1, clf__max_depth=8; total time=   8.0s\n",
      "[CV] END clf=GradientBoostingClassifier(), clf__learning_rate=0.1, clf__max_depth=8; total time=   8.1s\n",
      "[CV] END clf=GradientBoostingClassifier(), clf__learning_rate=0.1, clf__max_depth=8; total time=   8.0s\n",
      "[CV] END clf=GradientBoostingClassifier(), clf__learning_rate=0.1, clf__max_depth=8; total time=   8.9s\n",
      "[CV] END clf=GradientBoostingClassifier(), clf__learning_rate=0.1, clf__max_depth=9; total time=   9.2s\n",
      "[CV] END clf=GradientBoostingClassifier(), clf__learning_rate=0.1, clf__max_depth=9; total time=   9.3s\n",
      "[CV] END clf=GradientBoostingClassifier(), clf__learning_rate=0.1, clf__max_depth=9; total time=   9.2s\n",
      "[CV] END clf=GradientBoostingClassifier(), clf__learning_rate=0.1, clf__max_depth=9; total time=   9.4s\n",
      "[CV] END clf=GradientBoostingClassifier(), clf__learning_rate=0.1, clf__max_depth=9; total time=   9.4s\n",
      "[CV] END clf=GradientBoostingClassifier(), clf__learning_rate=0.1, clf__max_depth=10; total time=  10.8s\n",
      "[CV] END clf=GradientBoostingClassifier(), clf__learning_rate=0.1, clf__max_depth=10; total time=  11.1s\n",
      "[CV] END clf=GradientBoostingClassifier(), clf__learning_rate=0.1, clf__max_depth=10; total time=  11.3s\n",
      "[CV] END clf=GradientBoostingClassifier(), clf__learning_rate=0.1, clf__max_depth=10; total time=  11.2s\n",
      "[CV] END clf=GradientBoostingClassifier(), clf__learning_rate=0.1, clf__max_depth=10; total time=  11.3s\n",
      "[CV] END clf=GradientBoostingClassifier(), clf__learning_rate=0.1, clf__max_depth=11; total time=  12.8s\n",
      "[CV] END clf=GradientBoostingClassifier(), clf__learning_rate=0.1, clf__max_depth=11; total time=  12.4s\n",
      "[CV] END clf=GradientBoostingClassifier(), clf__learning_rate=0.1, clf__max_depth=11; total time=  12.4s\n",
      "[CV] END clf=GradientBoostingClassifier(), clf__learning_rate=0.1, clf__max_depth=11; total time=  12.5s\n",
      "[CV] END clf=GradientBoostingClassifier(), clf__learning_rate=0.1, clf__max_depth=11; total time=  12.2s\n",
      "[CV] END clf=GradientBoostingClassifier(), clf__learning_rate=0.1, clf__max_depth=12; total time=  14.2s\n",
      "[CV] END clf=GradientBoostingClassifier(), clf__learning_rate=0.1, clf__max_depth=12; total time=  14.3s\n",
      "[CV] END clf=GradientBoostingClassifier(), clf__learning_rate=0.1, clf__max_depth=12; total time=  14.6s\n",
      "[CV] END clf=GradientBoostingClassifier(), clf__learning_rate=0.1, clf__max_depth=12; total time=  14.3s\n",
      "[CV] END clf=GradientBoostingClassifier(), clf__learning_rate=0.1, clf__max_depth=12; total time=  14.8s\n",
      "[CV] END clf=GradientBoostingClassifier(), clf__learning_rate=0.1, clf__max_depth=13; total time=  16.6s\n",
      "[CV] END clf=GradientBoostingClassifier(), clf__learning_rate=0.1, clf__max_depth=13; total time=  16.8s\n",
      "[CV] END clf=GradientBoostingClassifier(), clf__learning_rate=0.1, clf__max_depth=13; total time=  16.3s\n",
      "[CV] END clf=GradientBoostingClassifier(), clf__learning_rate=0.1, clf__max_depth=13; total time=  17.0s\n",
      "[CV] END clf=GradientBoostingClassifier(), clf__learning_rate=0.1, clf__max_depth=13; total time=  16.5s\n",
      "[CV] END clf=GradientBoostingClassifier(), clf__learning_rate=0.1, clf__max_depth=14; total time=  19.8s\n",
      "[CV] END clf=GradientBoostingClassifier(), clf__learning_rate=0.1, clf__max_depth=14; total time=  19.9s\n",
      "[CV] END clf=GradientBoostingClassifier(), clf__learning_rate=0.1, clf__max_depth=14; total time=  19.9s\n",
      "[CV] END clf=GradientBoostingClassifier(), clf__learning_rate=0.1, clf__max_depth=14; total time=  19.3s\n",
      "[CV] END clf=GradientBoostingClassifier(), clf__learning_rate=0.1, clf__max_depth=14; total time=  19.1s\n",
      "[CV] END clf=GradientBoostingClassifier(), clf__learning_rate=0.1, clf__max_depth=15; total time=  21.9s\n",
      "[CV] END clf=GradientBoostingClassifier(), clf__learning_rate=0.1, clf__max_depth=15; total time=  22.1s\n",
      "[CV] END clf=GradientBoostingClassifier(), clf__learning_rate=0.1, clf__max_depth=15; total time=  22.1s\n",
      "[CV] END clf=GradientBoostingClassifier(), clf__learning_rate=0.5, clf__max_depth=5; total time=   5.0s\n",
      "[CV] END clf=GradientBoostingClassifier(), clf__learning_rate=0.5, clf__max_depth=5; total time=   5.2s\n",
      "[CV] END clf=GradientBoostingClassifier(), clf__learning_rate=0.5, clf__max_depth=5; total time=   4.8s\n",
      "[CV] END clf=GradientBoostingClassifier(), clf__learning_rate=0.1, clf__max_depth=15; total time=  23.4s\n",
      "[CV] END clf=GradientBoostingClassifier(), clf__learning_rate=0.5, clf__max_depth=5; total time=   5.2s\n",
      "[CV] END clf=GradientBoostingClassifier(), clf__learning_rate=0.5, clf__max_depth=5; total time=   5.2s\n",
      "[CV] END clf=GradientBoostingClassifier(), clf__learning_rate=0.1, clf__max_depth=15; total time=  22.9s\n",
      "[CV] END clf=GradientBoostingClassifier(), clf__learning_rate=0.5, clf__max_depth=6; total time=   5.8s\n",
      "[CV] END clf=GradientBoostingClassifier(), clf__learning_rate=0.5, clf__max_depth=6; total time=   6.2s\n",
      "[CV] END clf=GradientBoostingClassifier(), clf__learning_rate=0.5, clf__max_depth=6; total time=   6.0s\n",
      "[CV] END clf=GradientBoostingClassifier(), clf__learning_rate=0.5, clf__max_depth=6; total time=   6.7s\n",
      "[CV] END clf=GradientBoostingClassifier(), clf__learning_rate=0.5, clf__max_depth=6; total time=   5.8s\n",
      "[CV] END clf=GradientBoostingClassifier(), clf__learning_rate=0.5, clf__max_depth=7; total time=   7.3s\n",
      "[CV] END clf=GradientBoostingClassifier(), clf__learning_rate=0.5, clf__max_depth=7; total time=   7.7s\n",
      "[CV] END clf=GradientBoostingClassifier(), clf__learning_rate=0.5, clf__max_depth=7; total time=   7.6s\n",
      "[CV] END clf=GradientBoostingClassifier(), clf__learning_rate=0.5, clf__max_depth=7; total time=   7.5s\n",
      "[CV] END clf=GradientBoostingClassifier(), clf__learning_rate=0.5, clf__max_depth=7; total time=   7.0s\n",
      "[CV] END clf=GradientBoostingClassifier(), clf__learning_rate=0.5, clf__max_depth=8; total time=   8.1s\n",
      "[CV] END clf=GradientBoostingClassifier(), clf__learning_rate=0.5, clf__max_depth=8; total time=   8.1s\n",
      "[CV] END clf=GradientBoostingClassifier(), clf__learning_rate=0.5, clf__max_depth=8; total time=   8.5s\n",
      "[CV] END clf=GradientBoostingClassifier(), clf__learning_rate=0.5, clf__max_depth=8; total time=   8.0s\n",
      "[CV] END clf=GradientBoostingClassifier(), clf__learning_rate=0.5, clf__max_depth=8; total time=   8.0s\n",
      "[CV] END clf=GradientBoostingClassifier(), clf__learning_rate=0.5, clf__max_depth=9; total time=   9.4s\n",
      "[CV] END clf=GradientBoostingClassifier(), clf__learning_rate=0.5, clf__max_depth=9; total time=   9.5s\n",
      "[CV] END clf=GradientBoostingClassifier(), clf__learning_rate=0.5, clf__max_depth=9; total time=   9.3s\n",
      "[CV] END clf=GradientBoostingClassifier(), clf__learning_rate=0.5, clf__max_depth=9; total time=   9.3s\n",
      "[CV] END clf=GradientBoostingClassifier(), clf__learning_rate=0.5, clf__max_depth=9; total time=   9.8s\n",
      "[CV] END clf=GradientBoostingClassifier(), clf__learning_rate=0.5, clf__max_depth=10; total time=  10.9s\n",
      "[CV] END clf=GradientBoostingClassifier(), clf__learning_rate=0.5, clf__max_depth=10; total time=  10.7s\n",
      "[CV] END clf=GradientBoostingClassifier(), clf__learning_rate=0.5, clf__max_depth=10; total time=  10.8s\n",
      "[CV] END clf=GradientBoostingClassifier(), clf__learning_rate=0.5, clf__max_depth=10; total time=  11.8s\n",
      "[CV] END clf=GradientBoostingClassifier(), clf__learning_rate=0.5, clf__max_depth=10; total time=  11.3s\n",
      "[CV] END clf=GradientBoostingClassifier(), clf__learning_rate=0.5, clf__max_depth=11; total time=  13.3s\n",
      "[CV] END clf=GradientBoostingClassifier(), clf__learning_rate=0.5, clf__max_depth=11; total time=  12.4s\n",
      "[CV] END clf=GradientBoostingClassifier(), clf__learning_rate=0.5, clf__max_depth=11; total time=  12.6s\n",
      "[CV] END clf=GradientBoostingClassifier(), clf__learning_rate=0.5, clf__max_depth=11; total time=  12.9s\n",
      "[CV] END clf=GradientBoostingClassifier(), clf__learning_rate=0.5, clf__max_depth=11; total time=  13.6s\n",
      "[CV] END clf=GradientBoostingClassifier(), clf__learning_rate=0.5, clf__max_depth=12; total time=  15.4s\n",
      "[CV] END clf=GradientBoostingClassifier(), clf__learning_rate=0.5, clf__max_depth=12; total time=  14.8s\n",
      "[CV] END clf=GradientBoostingClassifier(), clf__learning_rate=0.5, clf__max_depth=12; total time=  15.3s\n",
      "[CV] END clf=GradientBoostingClassifier(), clf__learning_rate=0.5, clf__max_depth=12; total time=  15.4s\n",
      "[CV] END clf=GradientBoostingClassifier(), clf__learning_rate=0.5, clf__max_depth=12; total time=  17.0s\n",
      "[CV] END clf=GradientBoostingClassifier(), clf__learning_rate=0.5, clf__max_depth=13; total time=  17.3s\n",
      "[CV] END clf=GradientBoostingClassifier(), clf__learning_rate=0.5, clf__max_depth=13; total time=  18.4s\n",
      "[CV] END clf=GradientBoostingClassifier(), clf__learning_rate=0.5, clf__max_depth=13; total time=  17.2s\n",
      "[CV] END clf=GradientBoostingClassifier(), clf__learning_rate=0.5, clf__max_depth=13; total time=  17.6s\n",
      "[CV] END clf=GradientBoostingClassifier(), clf__learning_rate=0.5, clf__max_depth=13; total time=  17.7s\n",
      "[CV] END clf=GradientBoostingClassifier(), clf__learning_rate=0.5, clf__max_depth=14; total time=  19.7s\n",
      "[CV] END clf=GradientBoostingClassifier(), clf__learning_rate=0.5, clf__max_depth=14; total time=  18.9s\n",
      "[CV] END clf=GradientBoostingClassifier(), clf__learning_rate=0.5, clf__max_depth=14; total time=  18.7s\n",
      "[CV] END clf=GradientBoostingClassifier(), clf__learning_rate=0.5, clf__max_depth=14; total time=  18.6s\n",
      "[CV] END clf=GradientBoostingClassifier(), clf__learning_rate=0.5, clf__max_depth=14; total time=  19.4s\n",
      "[CV] END clf=GradientBoostingClassifier(), clf__learning_rate=0.5, clf__max_depth=15; total time=  22.5s\n",
      "[CV] END clf=GradientBoostingClassifier(), clf__learning_rate=0.5, clf__max_depth=15; total time=  21.8s\n",
      "[CV] END clf=GradientBoostingClassifier(), clf__learning_rate=1.0, clf__max_depth=5; total time=   4.8s\n",
      "[CV] END clf=GradientBoostingClassifier(), clf__learning_rate=0.5, clf__max_depth=15; total time=  22.2s\n",
      "[CV] END clf=GradientBoostingClassifier(), clf__learning_rate=1.0, clf__max_depth=5; total time=   4.8s\n",
      "[CV] END clf=GradientBoostingClassifier(), clf__learning_rate=1.0, clf__max_depth=5; total time=   4.9s\n",
      "[CV] END clf=GradientBoostingClassifier(), clf__learning_rate=0.5, clf__max_depth=15; total time=  21.8s\n",
      "[CV] END clf=GradientBoostingClassifier(), clf__learning_rate=1.0, clf__max_depth=5; total time=   4.8s\n",
      "[CV] END clf=GradientBoostingClassifier(), clf__learning_rate=1.0, clf__max_depth=5; total time=   4.8s\n",
      "[CV] END clf=GradientBoostingClassifier(), clf__learning_rate=1.0, clf__max_depth=6; total time=   5.9s\n",
      "[CV] END clf=GradientBoostingClassifier(), clf__learning_rate=1.0, clf__max_depth=6; total time=   5.8s\n",
      "[CV] END clf=GradientBoostingClassifier(), clf__learning_rate=0.5, clf__max_depth=15; total time=  25.6s\n",
      "[CV] END clf=GradientBoostingClassifier(), clf__learning_rate=1.0, clf__max_depth=6; total time=   5.8s\n",
      "[CV] END clf=GradientBoostingClassifier(), clf__learning_rate=1.0, clf__max_depth=6; total time=   5.9s\n",
      "[CV] END clf=GradientBoostingClassifier(), clf__learning_rate=1.0, clf__max_depth=6; total time=   5.8s\n",
      "[CV] END clf=GradientBoostingClassifier(), clf__learning_rate=1.0, clf__max_depth=7; total time=   7.1s\n",
      "[CV] END clf=GradientBoostingClassifier(), clf__learning_rate=1.0, clf__max_depth=7; total time=   6.9s\n",
      "[CV] END clf=GradientBoostingClassifier(), clf__learning_rate=1.0, clf__max_depth=7; total time=   6.9s\n",
      "[CV] END clf=GradientBoostingClassifier(), clf__learning_rate=1.0, clf__max_depth=7; total time=   7.0s\n",
      "[CV] END clf=GradientBoostingClassifier(), clf__learning_rate=1.0, clf__max_depth=7; total time=   7.3s\n",
      "[CV] END clf=GradientBoostingClassifier(), clf__learning_rate=1.0, clf__max_depth=8; total time=   8.7s\n",
      "[CV] END clf=GradientBoostingClassifier(), clf__learning_rate=1.0, clf__max_depth=8; total time=   9.3s\n",
      "[CV] END clf=GradientBoostingClassifier(), clf__learning_rate=1.0, clf__max_depth=8; total time=  11.3s\n",
      "[CV] END clf=GradientBoostingClassifier(), clf__learning_rate=1.0, clf__max_depth=8; total time=  10.1s\n",
      "[CV] END clf=GradientBoostingClassifier(), clf__learning_rate=1.0, clf__max_depth=8; total time=  10.3s\n",
      "[CV] END clf=GradientBoostingClassifier(), clf__learning_rate=1.0, clf__max_depth=9; total time=  12.0s\n",
      "[CV] END clf=GradientBoostingClassifier(), clf__learning_rate=1.0, clf__max_depth=9; total time=  13.2s\n",
      "[CV] END clf=GradientBoostingClassifier(), clf__learning_rate=1.0, clf__max_depth=9; total time=  12.5s\n",
      "[CV] END clf=GradientBoostingClassifier(), clf__learning_rate=1.0, clf__max_depth=9; total time=  12.7s\n",
      "[CV] END clf=GradientBoostingClassifier(), clf__learning_rate=1.0, clf__max_depth=9; total time=  12.3s\n",
      "[CV] END clf=GradientBoostingClassifier(), clf__learning_rate=1.0, clf__max_depth=10; total time=  13.3s\n",
      "[CV] END clf=GradientBoostingClassifier(), clf__learning_rate=1.0, clf__max_depth=10; total time=  14.0s\n",
      "[CV] END clf=GradientBoostingClassifier(), clf__learning_rate=1.0, clf__max_depth=10; total time=  14.1s\n",
      "[CV] END clf=GradientBoostingClassifier(), clf__learning_rate=1.0, clf__max_depth=10; total time=  13.6s\n",
      "[CV] END clf=GradientBoostingClassifier(), clf__learning_rate=1.0, clf__max_depth=10; total time=  16.3s\n",
      "[CV] END clf=GradientBoostingClassifier(), clf__learning_rate=1.0, clf__max_depth=11; total time=  21.2s\n",
      "[CV] END clf=GradientBoostingClassifier(), clf__learning_rate=1.0, clf__max_depth=11; total time=  22.1s\n",
      "[CV] END clf=GradientBoostingClassifier(), clf__learning_rate=1.0, clf__max_depth=11; total time=  24.4s\n",
      "[CV] END clf=GradientBoostingClassifier(), clf__learning_rate=1.0, clf__max_depth=11; total time=  27.6s\n",
      "[CV] END clf=GradientBoostingClassifier(), clf__learning_rate=1.0, clf__max_depth=11; total time=  27.7s\n",
      "[CV] END clf=GradientBoostingClassifier(), clf__learning_rate=1.0, clf__max_depth=12; total time=  28.8s\n",
      "[CV] END clf=GradientBoostingClassifier(), clf__learning_rate=1.0, clf__max_depth=12; total time=  29.4s\n",
      "[CV] END clf=GradientBoostingClassifier(), clf__learning_rate=1.0, clf__max_depth=12; total time=  30.5s\n",
      "[CV] END clf=GradientBoostingClassifier(), clf__learning_rate=1.0, clf__max_depth=12; total time=  29.6s\n",
      "[CV] END clf=GradientBoostingClassifier(), clf__learning_rate=1.0, clf__max_depth=12; total time=  30.2s\n",
      "[CV] END clf=GradientBoostingClassifier(), clf__learning_rate=1.0, clf__max_depth=13; total time=  32.7s\n",
      "[CV] END clf=GradientBoostingClassifier(), clf__learning_rate=1.0, clf__max_depth=13; total time=  33.1s\n",
      "[CV] END clf=GradientBoostingClassifier(), clf__learning_rate=1.0, clf__max_depth=13; total time=  35.9s\n",
      "[CV] END clf=GradientBoostingClassifier(), clf__learning_rate=1.0, clf__max_depth=13; total time=  32.6s\n",
      "[CV] END clf=GradientBoostingClassifier(), clf__learning_rate=1.0, clf__max_depth=13; total time=  33.5s\n",
      "[CV] END clf=GradientBoostingClassifier(), clf__learning_rate=1.0, clf__max_depth=14; total time=  33.7s\n",
      "[CV] END clf=GradientBoostingClassifier(), clf__learning_rate=1.0, clf__max_depth=14; total time=  34.0s\n",
      "[CV] END clf=GradientBoostingClassifier(), clf__learning_rate=1.0, clf__max_depth=14; total time=  32.9s\n",
      "[CV] END clf=GradientBoostingClassifier(), clf__learning_rate=1.0, clf__max_depth=14; total time=  34.0s\n",
      "[CV] END clf=GradientBoostingClassifier(), clf__learning_rate=1.0, clf__max_depth=14; total time=  33.8s\n",
      "[CV] END clf=GradientBoostingClassifier(), clf__learning_rate=1.0, clf__max_depth=15; total time=  28.0s\n",
      "[CV] END clf=GradientBoostingClassifier(), clf__learning_rate=1.0, clf__max_depth=15; total time=  28.3s\n",
      "[CV] END clf=LogisticRegression(), clf__C=1e-05, clf__penalty=l1, clf__solver=liblinear; total time=   0.1s\n",
      "[CV] END clf=LogisticRegression(), clf__C=1e-05, clf__penalty=l1, clf__solver=liblinear; total time=   0.1s\n",
      "[CV] END clf=LogisticRegression(), clf__C=1e-05, clf__penalty=l1, clf__solver=liblinear; total time=   0.1s\n",
      "[CV] END clf=LogisticRegression(), clf__C=1e-05, clf__penalty=l1, clf__solver=liblinear; total time=   0.0s\n",
      "[CV] END clf=LogisticRegression(), clf__C=1e-05, clf__penalty=l1, clf__solver=liblinear; total time=   0.0s\n",
      "[CV] END clf=LogisticRegression(), clf__C=1e-05, clf__penalty=l2, clf__solver=liblinear; total time=   0.1s\n",
      "[CV] END clf=LogisticRegression(), clf__C=1e-05, clf__penalty=l2, clf__solver=liblinear; total time=   0.1s\n",
      "[CV] END clf=LogisticRegression(), clf__C=1e-05, clf__penalty=l2, clf__solver=liblinear; total time=   0.1s\n",
      "[CV] END clf=LogisticRegression(), clf__C=1e-05, clf__penalty=l2, clf__solver=liblinear; total time=   0.0s\n",
      "[CV] END clf=LogisticRegression(), clf__C=1e-05, clf__penalty=l2, clf__solver=liblinear; total time=   0.0s\n",
      "[CV] END clf=LogisticRegression(), clf__C=0.001, clf__penalty=l1, clf__solver=liblinear; total time=   0.1s\n",
      "[CV] END clf=LogisticRegression(), clf__C=0.001, clf__penalty=l1, clf__solver=liblinear; total time=   0.1s\n",
      "[CV] END clf=LogisticRegression(), clf__C=0.001, clf__penalty=l1, clf__solver=liblinear; total time=   0.1s\n",
      "[CV] END clf=LogisticRegression(), clf__C=0.001, clf__penalty=l1, clf__solver=liblinear; total time=   0.0s\n",
      "[CV] END clf=LogisticRegression(), clf__C=0.001, clf__penalty=l1, clf__solver=liblinear; total time=   0.0s\n",
      "[CV] END clf=LogisticRegression(), clf__C=0.001, clf__penalty=l2, clf__solver=liblinear; total time=   0.1s\n",
      "[CV] END clf=LogisticRegression(), clf__C=0.001, clf__penalty=l2, clf__solver=liblinear; total time=   0.1s\n",
      "[CV] END clf=LogisticRegression(), clf__C=0.001, clf__penalty=l2, clf__solver=liblinear; total time=   0.1s\n",
      "[CV] END clf=LogisticRegression(), clf__C=0.001, clf__penalty=l2, clf__solver=liblinear; total time=   0.1s\n",
      "[CV] END clf=LogisticRegression(), clf__C=0.001, clf__penalty=l2, clf__solver=liblinear; total time=   0.1s\n",
      "[CV] END clf=LogisticRegression(), clf__C=0.1, clf__penalty=l1, clf__solver=liblinear; total time=   0.1s\n",
      "[CV] END clf=LogisticRegression(), clf__C=0.1, clf__penalty=l1, clf__solver=liblinear; total time=   0.1s\n",
      "[CV] END clf=LogisticRegression(), clf__C=0.1, clf__penalty=l1, clf__solver=liblinear; total time=   0.1s\n",
      "[CV] END clf=LogisticRegression(), clf__C=0.1, clf__penalty=l1, clf__solver=liblinear; total time=   0.1s\n",
      "[CV] END clf=LogisticRegression(), clf__C=0.1, clf__penalty=l1, clf__solver=liblinear; total time=   0.1s\n",
      "[CV] END clf=LogisticRegression(), clf__C=0.1, clf__penalty=l2, clf__solver=liblinear; total time=   0.1s\n",
      "[CV] END clf=LogisticRegression(), clf__C=0.1, clf__penalty=l2, clf__solver=liblinear; total time=   0.1s\n",
      "[CV] END clf=LogisticRegression(), clf__C=0.1, clf__penalty=l2, clf__solver=liblinear; total time=   0.1s\n",
      "[CV] END clf=LogisticRegression(), clf__C=0.1, clf__penalty=l2, clf__solver=liblinear; total time=   0.1s\n",
      "[CV] END clf=LogisticRegression(), clf__C=0.1, clf__penalty=l2, clf__solver=liblinear; total time=   0.1s\n",
      "[CV] END clf=LogisticRegression(), clf__C=10.0, clf__penalty=l1, clf__solver=liblinear; total time=   0.1s\n",
      "[CV] END clf=LogisticRegression(), clf__C=10.0, clf__penalty=l1, clf__solver=liblinear; total time=   0.1s\n",
      "[CV] END clf=LogisticRegression(), clf__C=10.0, clf__penalty=l1, clf__solver=liblinear; total time=   0.1s\n",
      "[CV] END clf=LogisticRegression(), clf__C=10.0, clf__penalty=l1, clf__solver=liblinear; total time=   0.1s\n",
      "[CV] END clf=LogisticRegression(), clf__C=10.0, clf__penalty=l1, clf__solver=liblinear; total time=   0.1s\n",
      "[CV] END clf=LogisticRegression(), clf__C=10.0, clf__penalty=l2, clf__solver=liblinear; total time=   0.1s\n",
      "[CV] END clf=LogisticRegression(), clf__C=10.0, clf__penalty=l2, clf__solver=liblinear; total time=   0.1s\n",
      "[CV] END clf=LogisticRegression(), clf__C=10.0, clf__penalty=l2, clf__solver=liblinear; total time=   0.1s\n",
      "[CV] END clf=LogisticRegression(), clf__C=10.0, clf__penalty=l2, clf__solver=liblinear; total time=   0.1s\n",
      "[CV] END clf=LogisticRegression(), clf__C=10.0, clf__penalty=l2, clf__solver=liblinear; total time=   0.1s\n",
      "[CV] END clf=LogisticRegression(), clf__C=1000.0, clf__penalty=l1, clf__solver=liblinear; total time=   0.1s\n",
      "[CV] END clf=LogisticRegression(), clf__C=1000.0, clf__penalty=l1, clf__solver=liblinear; total time=   0.0s\n",
      "[CV] END clf=LogisticRegression(), clf__C=1000.0, clf__penalty=l1, clf__solver=liblinear; total time=   0.1s\n",
      "[CV] END clf=LogisticRegression(), clf__C=1000.0, clf__penalty=l1, clf__solver=liblinear; total time=   0.1s\n",
      "[CV] END clf=LogisticRegression(), clf__C=1000.0, clf__penalty=l1, clf__solver=liblinear; total time=   0.1s\n",
      "[CV] END clf=LogisticRegression(), clf__C=1000.0, clf__penalty=l2, clf__solver=liblinear; total time=   0.1s\n",
      "[CV] END clf=LogisticRegression(), clf__C=1000.0, clf__penalty=l2, clf__solver=liblinear; total time=   0.1s\n",
      "[CV] END clf=LogisticRegression(), clf__C=1000.0, clf__penalty=l2, clf__solver=liblinear; total time=   0.1s\n",
      "[CV] END clf=LogisticRegression(), clf__C=1000.0, clf__penalty=l2, clf__solver=liblinear; total time=   0.1s\n",
      "[CV] END clf=LogisticRegression(), clf__C=1000.0, clf__penalty=l2, clf__solver=liblinear; total time=   0.1s\n",
      "[CV] END clf=LogisticRegression(), clf__C=100000.0, clf__penalty=l1, clf__solver=liblinear; total time=   0.1s\n",
      "[CV] END clf=LogisticRegression(), clf__C=100000.0, clf__penalty=l1, clf__solver=liblinear; total time=   0.0s\n",
      "[CV] END clf=LogisticRegression(), clf__C=100000.0, clf__penalty=l1, clf__solver=liblinear; total time=   0.1s\n",
      "[CV] END clf=LogisticRegression(), clf__C=100000.0, clf__penalty=l1, clf__solver=liblinear; total time=   0.1s\n",
      "[CV] END clf=LogisticRegression(), clf__C=100000.0, clf__penalty=l1, clf__solver=liblinear; total time=   0.1s\n",
      "[CV] END clf=LogisticRegression(), clf__C=100000.0, clf__penalty=l2, clf__solver=liblinear; total time=   0.1s\n",
      "[CV] END clf=LogisticRegression(), clf__C=100000.0, clf__penalty=l2, clf__solver=liblinear; total time=   0.1s\n",
      "[CV] END clf=LogisticRegression(), clf__C=100000.0, clf__penalty=l2, clf__solver=liblinear; total time=   0.1s\n",
      "[CV] END clf=LogisticRegression(), clf__C=100000.0, clf__penalty=l2, clf__solver=liblinear; total time=   0.2s\n",
      "[CV] END clf=LogisticRegression(), clf__C=100000.0, clf__penalty=l2, clf__solver=liblinear; total time=   0.1s\n",
      "[CV] END clf=GradientBoostingClassifier(), clf__learning_rate=1.0, clf__max_depth=15; total time=  28.3s\n",
      "[CV] END clf=GradientBoostingClassifier(), clf__learning_rate=1.0, clf__max_depth=15; total time=  26.2s\n",
      "[CV] END clf=GradientBoostingClassifier(), clf__learning_rate=1.0, clf__max_depth=15; total time=  25.4s\n"
     ]
    },
    {
     "data": {
      "text/html": [
       "<style>#sk-container-id-1 {color: black;}#sk-container-id-1 pre{padding: 0;}#sk-container-id-1 div.sk-toggleable {background-color: white;}#sk-container-id-1 label.sk-toggleable__label {cursor: pointer;display: block;width: 100%;margin-bottom: 0;padding: 0.3em;box-sizing: border-box;text-align: center;}#sk-container-id-1 label.sk-toggleable__label-arrow:before {content: \"▸\";float: left;margin-right: 0.25em;color: #696969;}#sk-container-id-1 label.sk-toggleable__label-arrow:hover:before {color: black;}#sk-container-id-1 div.sk-estimator:hover label.sk-toggleable__label-arrow:before {color: black;}#sk-container-id-1 div.sk-toggleable__content {max-height: 0;max-width: 0;overflow: hidden;text-align: left;background-color: #f0f8ff;}#sk-container-id-1 div.sk-toggleable__content pre {margin: 0.2em;color: black;border-radius: 0.25em;background-color: #f0f8ff;}#sk-container-id-1 input.sk-toggleable__control:checked~div.sk-toggleable__content {max-height: 200px;max-width: 100%;overflow: auto;}#sk-container-id-1 input.sk-toggleable__control:checked~label.sk-toggleable__label-arrow:before {content: \"▾\";}#sk-container-id-1 div.sk-estimator input.sk-toggleable__control:checked~label.sk-toggleable__label {background-color: #d4ebff;}#sk-container-id-1 div.sk-label input.sk-toggleable__control:checked~label.sk-toggleable__label {background-color: #d4ebff;}#sk-container-id-1 input.sk-hidden--visually {border: 0;clip: rect(1px 1px 1px 1px);clip: rect(1px, 1px, 1px, 1px);height: 1px;margin: -1px;overflow: hidden;padding: 0;position: absolute;width: 1px;}#sk-container-id-1 div.sk-estimator {font-family: monospace;background-color: #f0f8ff;border: 1px dotted black;border-radius: 0.25em;box-sizing: border-box;margin-bottom: 0.5em;}#sk-container-id-1 div.sk-estimator:hover {background-color: #d4ebff;}#sk-container-id-1 div.sk-parallel-item::after {content: \"\";width: 100%;border-bottom: 1px solid gray;flex-grow: 1;}#sk-container-id-1 div.sk-label:hover label.sk-toggleable__label {background-color: #d4ebff;}#sk-container-id-1 div.sk-serial::before {content: \"\";position: absolute;border-left: 1px solid gray;box-sizing: border-box;top: 0;bottom: 0;left: 50%;z-index: 0;}#sk-container-id-1 div.sk-serial {display: flex;flex-direction: column;align-items: center;background-color: white;padding-right: 0.2em;padding-left: 0.2em;position: relative;}#sk-container-id-1 div.sk-item {position: relative;z-index: 1;}#sk-container-id-1 div.sk-parallel {display: flex;align-items: stretch;justify-content: center;background-color: white;position: relative;}#sk-container-id-1 div.sk-item::before, #sk-container-id-1 div.sk-parallel-item::before {content: \"\";position: absolute;border-left: 1px solid gray;box-sizing: border-box;top: 0;bottom: 0;left: 50%;z-index: -1;}#sk-container-id-1 div.sk-parallel-item {display: flex;flex-direction: column;z-index: 1;position: relative;background-color: white;}#sk-container-id-1 div.sk-parallel-item:first-child::after {align-self: flex-end;width: 50%;}#sk-container-id-1 div.sk-parallel-item:last-child::after {align-self: flex-start;width: 50%;}#sk-container-id-1 div.sk-parallel-item:only-child::after {width: 0;}#sk-container-id-1 div.sk-dashed-wrapped {border: 1px dashed gray;margin: 0 0.4em 0.5em 0.4em;box-sizing: border-box;padding-bottom: 0.4em;background-color: white;}#sk-container-id-1 div.sk-label label {font-family: monospace;font-weight: bold;display: inline-block;line-height: 1.2em;}#sk-container-id-1 div.sk-label-container {text-align: center;}#sk-container-id-1 div.sk-container {/* jupyter's `normalize.less` sets `[hidden] { display: none; }` but bootstrap.min.css set `[hidden] { display: none !important; }` so we also need the `!important` here to be able to override the default hidden behavior on the sphinx rendered scikit-learn.org. See: https://github.com/scikit-learn/scikit-learn/issues/21755 */display: inline-block !important;position: relative;}#sk-container-id-1 div.sk-text-repr-fallback {display: none;}</style><div id=\"sk-container-id-1\" class=\"sk-top-container\"><div class=\"sk-text-repr-fallback\"><pre>GridSearchCV(cv=5,\n",
       "             estimator=Pipeline(steps=[(&#x27;scaler&#x27;, StandardScaler()),\n",
       "                                       (&#x27;clf&#x27;, None)]),\n",
       "             n_jobs=-1,\n",
       "             param_grid=[{&#x27;clf&#x27;: [LinearSVC()],\n",
       "                          &#x27;clf__C&#x27;: [1e-05, 0.001, 0.1, 10.0, 1000.0, 100000.0],\n",
       "                          &#x27;clf__dual&#x27;: [&#x27;auto&#x27;]},\n",
       "                         {&#x27;clf&#x27;: [KNeighborsClassifier()],\n",
       "                          &#x27;clf__n_neighbors&#x27;: [5, 6, 7, 8, 9, 10, 11]},\n",
       "                         {&#x27;clf&#x27;: [RandomForestClassifier()],\n",
       "                          &#x27;clf__max_depth&#x27;: [5, 6, 7, 8, 9, 10, 11, 12, 13, 14,\n",
       "                                             15]},\n",
       "                         {&#x27;clf&#x27;: [GradientBoostingClassifier()],\n",
       "                          &#x27;clf__learning_rate&#x27;: [0.1, 0.5, 1.0],\n",
       "                          &#x27;clf__max_depth&#x27;: [5, 6, 7, 8, 9, 10, 11, 12, 13, 14,\n",
       "                                             15]},\n",
       "                         {&#x27;clf&#x27;: [LogisticRegression()],\n",
       "                          &#x27;clf__C&#x27;: [1e-05, 0.001, 0.1, 10.0, 1000.0, 100000.0],\n",
       "                          &#x27;clf__penalty&#x27;: [&#x27;l1&#x27;, &#x27;l2&#x27;],\n",
       "                          &#x27;clf__solver&#x27;: [&#x27;liblinear&#x27;]}],\n",
       "             return_train_score=True, scoring=&#x27;f1_weighted&#x27;, verbose=2)</pre><b>In a Jupyter environment, please rerun this cell to show the HTML representation or trust the notebook. <br />On GitHub, the HTML representation is unable to render, please try loading this page with nbviewer.org.</b></div><div class=\"sk-container\" hidden><div class=\"sk-item sk-dashed-wrapped\"><div class=\"sk-label-container\"><div class=\"sk-label sk-toggleable\"><input class=\"sk-toggleable__control sk-hidden--visually\" id=\"sk-estimator-id-1\" type=\"checkbox\" ><label for=\"sk-estimator-id-1\" class=\"sk-toggleable__label sk-toggleable__label-arrow\">GridSearchCV</label><div class=\"sk-toggleable__content\"><pre>GridSearchCV(cv=5,\n",
       "             estimator=Pipeline(steps=[(&#x27;scaler&#x27;, StandardScaler()),\n",
       "                                       (&#x27;clf&#x27;, None)]),\n",
       "             n_jobs=-1,\n",
       "             param_grid=[{&#x27;clf&#x27;: [LinearSVC()],\n",
       "                          &#x27;clf__C&#x27;: [1e-05, 0.001, 0.1, 10.0, 1000.0, 100000.0],\n",
       "                          &#x27;clf__dual&#x27;: [&#x27;auto&#x27;]},\n",
       "                         {&#x27;clf&#x27;: [KNeighborsClassifier()],\n",
       "                          &#x27;clf__n_neighbors&#x27;: [5, 6, 7, 8, 9, 10, 11]},\n",
       "                         {&#x27;clf&#x27;: [RandomForestClassifier()],\n",
       "                          &#x27;clf__max_depth&#x27;: [5, 6, 7, 8, 9, 10, 11, 12, 13, 14,\n",
       "                                             15]},\n",
       "                         {&#x27;clf&#x27;: [GradientBoostingClassifier()],\n",
       "                          &#x27;clf__learning_rate&#x27;: [0.1, 0.5, 1.0],\n",
       "                          &#x27;clf__max_depth&#x27;: [5, 6, 7, 8, 9, 10, 11, 12, 13, 14,\n",
       "                                             15]},\n",
       "                         {&#x27;clf&#x27;: [LogisticRegression()],\n",
       "                          &#x27;clf__C&#x27;: [1e-05, 0.001, 0.1, 10.0, 1000.0, 100000.0],\n",
       "                          &#x27;clf__penalty&#x27;: [&#x27;l1&#x27;, &#x27;l2&#x27;],\n",
       "                          &#x27;clf__solver&#x27;: [&#x27;liblinear&#x27;]}],\n",
       "             return_train_score=True, scoring=&#x27;f1_weighted&#x27;, verbose=2)</pre></div></div></div><div class=\"sk-parallel\"><div class=\"sk-parallel-item\"><div class=\"sk-item\"><div class=\"sk-label-container\"><div class=\"sk-label sk-toggleable\"><input class=\"sk-toggleable__control sk-hidden--visually\" id=\"sk-estimator-id-2\" type=\"checkbox\" ><label for=\"sk-estimator-id-2\" class=\"sk-toggleable__label sk-toggleable__label-arrow\">estimator: Pipeline</label><div class=\"sk-toggleable__content\"><pre>Pipeline(steps=[(&#x27;scaler&#x27;, StandardScaler()), (&#x27;clf&#x27;, None)])</pre></div></div></div><div class=\"sk-serial\"><div class=\"sk-item\"><div class=\"sk-serial\"><div class=\"sk-item\"><div class=\"sk-estimator sk-toggleable\"><input class=\"sk-toggleable__control sk-hidden--visually\" id=\"sk-estimator-id-3\" type=\"checkbox\" ><label for=\"sk-estimator-id-3\" class=\"sk-toggleable__label sk-toggleable__label-arrow\">StandardScaler</label><div class=\"sk-toggleable__content\"><pre>StandardScaler()</pre></div></div></div><div class=\"sk-item\"><div class=\"sk-estimator sk-toggleable\"><input class=\"sk-toggleable__control sk-hidden--visually\" id=\"sk-estimator-id-4\" type=\"checkbox\" ><label for=\"sk-estimator-id-4\" class=\"sk-toggleable__label sk-toggleable__label-arrow\">None</label><div class=\"sk-toggleable__content\"><pre>None</pre></div></div></div></div></div></div></div></div></div></div></div></div>"
      ],
      "text/plain": [
       "GridSearchCV(cv=5,\n",
       "             estimator=Pipeline(steps=[('scaler', StandardScaler()),\n",
       "                                       ('clf', None)]),\n",
       "             n_jobs=-1,\n",
       "             param_grid=[{'clf': [LinearSVC()],\n",
       "                          'clf__C': [1e-05, 0.001, 0.1, 10.0, 1000.0, 100000.0],\n",
       "                          'clf__dual': ['auto']},\n",
       "                         {'clf': [KNeighborsClassifier()],\n",
       "                          'clf__n_neighbors': [5, 6, 7, 8, 9, 10, 11]},\n",
       "                         {'clf': [RandomForestClassifier()],\n",
       "                          'clf__max_depth': [5, 6, 7, 8, 9, 10, 11, 12, 13, 14,\n",
       "                                             15]},\n",
       "                         {'clf': [GradientBoostingClassifier()],\n",
       "                          'clf__learning_rate': [0.1, 0.5, 1.0],\n",
       "                          'clf__max_depth': [5, 6, 7, 8, 9, 10, 11, 12, 13, 14,\n",
       "                                             15]},\n",
       "                         {'clf': [LogisticRegression()],\n",
       "                          'clf__C': [1e-05, 0.001, 0.1, 10.0, 1000.0, 100000.0],\n",
       "                          'clf__penalty': ['l1', 'l2'],\n",
       "                          'clf__solver': ['liblinear']}],\n",
       "             return_train_score=True, scoring='f1_weighted', verbose=2)"
      ]
     },
     "execution_count": 19,
     "metadata": {},
     "output_type": "execute_result"
    }
   ],
   "source": [
    "cv = 5\n",
    "scoring = 'f1_weighted'\n",
    "grid_search = GridSearchCV(pipe, param_grid, return_train_score=True, cv=cv,\n",
    "                           verbose=2, n_jobs=-1, scoring=scoring)\n",
    "grid_search.fit(X_trainval, y_trainval)"
   ]
  },
  {
   "cell_type": "markdown",
   "id": "069ba7b9-ca92-4739-a535-0964f8cfe255",
   "metadata": {},
   "source": [
    "### Determining the best model and its parameters and its score"
   ]
  },
  {
   "cell_type": "code",
   "execution_count": 20,
   "id": "120aaac4-af41-4f4e-88f9-0c93da51c8f3",
   "metadata": {
    "execution": {
     "iopub.execute_input": "2023-12-09T05:26:27.343205Z",
     "iopub.status.busy": "2023-12-09T05:26:27.342808Z",
     "iopub.status.idle": "2023-12-09T05:26:27.349335Z",
     "shell.execute_reply": "2023-12-09T05:26:27.347944Z",
     "shell.execute_reply.started": "2023-12-09T05:26:27.343167Z"
    },
    "tags": []
   },
   "outputs": [
    {
     "name": "stdout",
     "output_type": "stream",
     "text": [
      "The best model is: {'clf': KNeighborsClassifier(), 'clf__n_neighbors': 7}\n",
      "with an accuracy score of: 0.7430755537478575\n"
     ]
    }
   ],
   "source": [
    "print(f\"The best model is: {grid_search.best_params_}\")\n",
    "print(f\"with an accuracy score of: {grid_search.best_score_}\")"
   ]
  },
  {
   "cell_type": "markdown",
   "id": "6c921994-dcc5-4e98-9026-072e6c125c4d",
   "metadata": {},
   "source": [
    "The optimal model for this heavily imbalanced dataset is a KNeighborsClassifier with parameter n_neighbors at 7.\n",
    "\n",
    "Again the accuracy just like in the stroke dataset is quite high and near the distribution of the majority group. The high accuracy could be largely due to the model's ability to predict the majority class while failing to accurately identify the much smaller minority class, which is often the more important measure in imbalanced datasets."
   ]
  },
  {
   "cell_type": "code",
   "execution_count": 21,
   "id": "ce87c13e-f992-4718-95c4-e6ab54cad5c5",
   "metadata": {
    "execution": {
     "iopub.execute_input": "2023-12-09T05:26:27.351543Z",
     "iopub.status.busy": "2023-12-09T05:26:27.350864Z",
     "iopub.status.idle": "2023-12-09T05:26:27.429099Z",
     "shell.execute_reply": "2023-12-09T05:26:27.428166Z",
     "shell.execute_reply.started": "2023-12-09T05:26:27.351506Z"
    },
    "tags": []
   },
   "outputs": [
    {
     "data": {
      "text/html": [
       "<div>\n",
       "<style scoped>\n",
       "    .dataframe tbody tr th:only-of-type {\n",
       "        vertical-align: middle;\n",
       "    }\n",
       "\n",
       "    .dataframe tbody tr th {\n",
       "        vertical-align: top;\n",
       "    }\n",
       "\n",
       "    .dataframe thead th {\n",
       "        text-align: right;\n",
       "    }\n",
       "</style>\n",
       "<table border=\"1\" class=\"dataframe\">\n",
       "  <thead>\n",
       "    <tr style=\"text-align: right;\">\n",
       "      <th></th>\n",
       "      <th>mean_fit_time</th>\n",
       "      <th>std_fit_time</th>\n",
       "      <th>mean_score_time</th>\n",
       "      <th>std_score_time</th>\n",
       "      <th>param_clf</th>\n",
       "      <th>param_clf__C</th>\n",
       "      <th>param_clf__dual</th>\n",
       "      <th>param_clf__n_neighbors</th>\n",
       "      <th>param_clf__max_depth</th>\n",
       "      <th>param_clf__learning_rate</th>\n",
       "      <th>...</th>\n",
       "      <th>mean_test_score</th>\n",
       "      <th>std_test_score</th>\n",
       "      <th>rank_test_score</th>\n",
       "      <th>split0_train_score</th>\n",
       "      <th>split1_train_score</th>\n",
       "      <th>split2_train_score</th>\n",
       "      <th>split3_train_score</th>\n",
       "      <th>split4_train_score</th>\n",
       "      <th>mean_train_score</th>\n",
       "      <th>std_train_score</th>\n",
       "    </tr>\n",
       "  </thead>\n",
       "  <tbody>\n",
       "    <tr>\n",
       "      <th>8</th>\n",
       "      <td>0.034258</td>\n",
       "      <td>0.000817</td>\n",
       "      <td>1.100226</td>\n",
       "      <td>0.132062</td>\n",
       "      <td>KNeighborsClassifier()</td>\n",
       "      <td>NaN</td>\n",
       "      <td>NaN</td>\n",
       "      <td>7</td>\n",
       "      <td>NaN</td>\n",
       "      <td>NaN</td>\n",
       "      <td>...</td>\n",
       "      <td>0.743076</td>\n",
       "      <td>0.007719</td>\n",
       "      <td>1</td>\n",
       "      <td>0.780600</td>\n",
       "      <td>0.781618</td>\n",
       "      <td>0.781471</td>\n",
       "      <td>0.782006</td>\n",
       "      <td>0.783180</td>\n",
       "      <td>0.781775</td>\n",
       "      <td>0.000840</td>\n",
       "    </tr>\n",
       "    <tr>\n",
       "      <th>10</th>\n",
       "      <td>0.035631</td>\n",
       "      <td>0.004087</td>\n",
       "      <td>1.069599</td>\n",
       "      <td>0.104176</td>\n",
       "      <td>KNeighborsClassifier()</td>\n",
       "      <td>NaN</td>\n",
       "      <td>NaN</td>\n",
       "      <td>9</td>\n",
       "      <td>NaN</td>\n",
       "      <td>NaN</td>\n",
       "      <td>...</td>\n",
       "      <td>0.742571</td>\n",
       "      <td>0.005890</td>\n",
       "      <td>2</td>\n",
       "      <td>0.770301</td>\n",
       "      <td>0.772254</td>\n",
       "      <td>0.767124</td>\n",
       "      <td>0.771437</td>\n",
       "      <td>0.772332</td>\n",
       "      <td>0.770690</td>\n",
       "      <td>0.001927</td>\n",
       "    </tr>\n",
       "    <tr>\n",
       "      <th>12</th>\n",
       "      <td>0.036310</td>\n",
       "      <td>0.003646</td>\n",
       "      <td>1.128532</td>\n",
       "      <td>0.089166</td>\n",
       "      <td>KNeighborsClassifier()</td>\n",
       "      <td>NaN</td>\n",
       "      <td>NaN</td>\n",
       "      <td>11</td>\n",
       "      <td>NaN</td>\n",
       "      <td>NaN</td>\n",
       "      <td>...</td>\n",
       "      <td>0.740707</td>\n",
       "      <td>0.006444</td>\n",
       "      <td>3</td>\n",
       "      <td>0.766112</td>\n",
       "      <td>0.766001</td>\n",
       "      <td>0.758739</td>\n",
       "      <td>0.763279</td>\n",
       "      <td>0.759520</td>\n",
       "      <td>0.762730</td>\n",
       "      <td>0.003120</td>\n",
       "    </tr>\n",
       "    <tr>\n",
       "      <th>29</th>\n",
       "      <td>11.103994</td>\n",
       "      <td>0.184493</td>\n",
       "      <td>0.032568</td>\n",
       "      <td>0.007785</td>\n",
       "      <td>GradientBoostingClassifier()</td>\n",
       "      <td>NaN</td>\n",
       "      <td>NaN</td>\n",
       "      <td>NaN</td>\n",
       "      <td>10</td>\n",
       "      <td>0.1</td>\n",
       "      <td>...</td>\n",
       "      <td>0.740210</td>\n",
       "      <td>0.005053</td>\n",
       "      <td>4</td>\n",
       "      <td>0.941989</td>\n",
       "      <td>0.952205</td>\n",
       "      <td>0.948457</td>\n",
       "      <td>0.948297</td>\n",
       "      <td>0.948525</td>\n",
       "      <td>0.947895</td>\n",
       "      <td>0.003297</td>\n",
       "    </tr>\n",
       "    <tr>\n",
       "      <th>6</th>\n",
       "      <td>0.040191</td>\n",
       "      <td>0.004133</td>\n",
       "      <td>0.964215</td>\n",
       "      <td>0.020896</td>\n",
       "      <td>KNeighborsClassifier()</td>\n",
       "      <td>NaN</td>\n",
       "      <td>NaN</td>\n",
       "      <td>5</td>\n",
       "      <td>NaN</td>\n",
       "      <td>NaN</td>\n",
       "      <td>...</td>\n",
       "      <td>0.739548</td>\n",
       "      <td>0.006910</td>\n",
       "      <td>5</td>\n",
       "      <td>0.801355</td>\n",
       "      <td>0.802887</td>\n",
       "      <td>0.798789</td>\n",
       "      <td>0.800443</td>\n",
       "      <td>0.804365</td>\n",
       "      <td>0.801568</td>\n",
       "      <td>0.001929</td>\n",
       "    </tr>\n",
       "  </tbody>\n",
       "</table>\n",
       "<p>5 rows × 28 columns</p>\n",
       "</div>"
      ],
      "text/plain": [
       "    mean_fit_time  std_fit_time  mean_score_time  std_score_time  \\\n",
       "8        0.034258      0.000817         1.100226        0.132062   \n",
       "10       0.035631      0.004087         1.069599        0.104176   \n",
       "12       0.036310      0.003646         1.128532        0.089166   \n",
       "29      11.103994      0.184493         0.032568        0.007785   \n",
       "6        0.040191      0.004133         0.964215        0.020896   \n",
       "\n",
       "                       param_clf param_clf__C param_clf__dual  \\\n",
       "8         KNeighborsClassifier()          NaN             NaN   \n",
       "10        KNeighborsClassifier()          NaN             NaN   \n",
       "12        KNeighborsClassifier()          NaN             NaN   \n",
       "29  GradientBoostingClassifier()          NaN             NaN   \n",
       "6         KNeighborsClassifier()          NaN             NaN   \n",
       "\n",
       "   param_clf__n_neighbors param_clf__max_depth param_clf__learning_rate  ...  \\\n",
       "8                       7                  NaN                      NaN  ...   \n",
       "10                      9                  NaN                      NaN  ...   \n",
       "12                     11                  NaN                      NaN  ...   \n",
       "29                    NaN                   10                      0.1  ...   \n",
       "6                       5                  NaN                      NaN  ...   \n",
       "\n",
       "   mean_test_score std_test_score rank_test_score  split0_train_score  \\\n",
       "8         0.743076       0.007719               1            0.780600   \n",
       "10        0.742571       0.005890               2            0.770301   \n",
       "12        0.740707       0.006444               3            0.766112   \n",
       "29        0.740210       0.005053               4            0.941989   \n",
       "6         0.739548       0.006910               5            0.801355   \n",
       "\n",
       "    split1_train_score  split2_train_score  split3_train_score  \\\n",
       "8             0.781618            0.781471            0.782006   \n",
       "10            0.772254            0.767124            0.771437   \n",
       "12            0.766001            0.758739            0.763279   \n",
       "29            0.952205            0.948457            0.948297   \n",
       "6             0.802887            0.798789            0.800443   \n",
       "\n",
       "    split4_train_score  mean_train_score  std_train_score  \n",
       "8             0.783180          0.781775         0.000840  \n",
       "10            0.772332          0.770690         0.001927  \n",
       "12            0.759520          0.762730         0.003120  \n",
       "29            0.948525          0.947895         0.003297  \n",
       "6             0.804365          0.801568         0.001929  \n",
       "\n",
       "[5 rows x 28 columns]"
      ]
     },
     "execution_count": 21,
     "metadata": {},
     "output_type": "execute_result"
    }
   ],
   "source": [
    "cv_results = pd.DataFrame(grid_search.__dict__['cv_results_'])\n",
    "cv_results.sort_values('mean_test_score', ascending=False).head()"
   ]
  },
  {
   "cell_type": "markdown",
   "id": "53f36a33-e7ef-4bd2-8bc2-27952d7d0fcc",
   "metadata": {},
   "source": [
    "<center><b>Table 4</b>. Results of the CV using GridSearchCV</center>"
   ]
  },
  {
   "cell_type": "code",
   "execution_count": 22,
   "id": "29f19246-715b-4d3f-b62c-a9d8c54c70ad",
   "metadata": {
    "execution": {
     "iopub.execute_input": "2023-12-09T05:26:27.431383Z",
     "iopub.status.busy": "2023-12-09T05:26:27.430734Z",
     "iopub.status.idle": "2023-12-09T05:26:27.498679Z",
     "shell.execute_reply": "2023-12-09T05:26:27.497524Z",
     "shell.execute_reply.started": "2023-12-09T05:26:27.431346Z"
    },
    "tags": []
   },
   "outputs": [
    {
     "data": {
      "text/html": [
       "<div>\n",
       "<style scoped>\n",
       "    .dataframe tbody tr th:only-of-type {\n",
       "        vertical-align: middle;\n",
       "    }\n",
       "\n",
       "    .dataframe tbody tr th {\n",
       "        vertical-align: top;\n",
       "    }\n",
       "\n",
       "    .dataframe thead th {\n",
       "        text-align: right;\n",
       "    }\n",
       "</style>\n",
       "<table border=\"1\" class=\"dataframe\">\n",
       "  <thead>\n",
       "    <tr style=\"text-align: right;\">\n",
       "      <th></th>\n",
       "      <th>mean_train_score</th>\n",
       "      <th>mean_test_score</th>\n",
       "    </tr>\n",
       "    <tr>\n",
       "      <th>param_clf</th>\n",
       "      <th></th>\n",
       "      <th></th>\n",
       "    </tr>\n",
       "  </thead>\n",
       "  <tbody>\n",
       "    <tr>\n",
       "      <th>GradientBoostingClassifier()</th>\n",
       "      <td>1.000000</td>\n",
       "      <td>0.740210</td>\n",
       "    </tr>\n",
       "    <tr>\n",
       "      <th>KNeighborsClassifier()</th>\n",
       "      <td>0.801568</td>\n",
       "      <td>0.743076</td>\n",
       "    </tr>\n",
       "    <tr>\n",
       "      <th>LinearSVC()</th>\n",
       "      <td>0.725957</td>\n",
       "      <td>0.726222</td>\n",
       "    </tr>\n",
       "    <tr>\n",
       "      <th>LogisticRegression()</th>\n",
       "      <td>0.729224</td>\n",
       "      <td>0.729065</td>\n",
       "    </tr>\n",
       "    <tr>\n",
       "      <th>RandomForestClassifier()</th>\n",
       "      <td>0.881995</td>\n",
       "      <td>0.737994</td>\n",
       "    </tr>\n",
       "  </tbody>\n",
       "</table>\n",
       "</div>"
      ],
      "text/plain": [
       "                              mean_train_score  mean_test_score\n",
       "param_clf                                                      \n",
       "GradientBoostingClassifier()          1.000000         0.740210\n",
       "KNeighborsClassifier()                0.801568         0.743076\n",
       "LinearSVC()                           0.725957         0.726222\n",
       "LogisticRegression()                  0.729224         0.729065\n",
       "RandomForestClassifier()              0.881995         0.737994"
      ]
     },
     "execution_count": 22,
     "metadata": {},
     "output_type": "execute_result"
    }
   ],
   "source": [
    "cv_results['param_clf'] = cv_results['param_clf'].astype(str)\n",
    "grouped_results = cv_results[['mean_train_score', 'mean_test_score', 'param_clf']].groupby('param_clf').max()[['mean_train_score', 'mean_test_score']]\n",
    "grouped_results"
   ]
  },
  {
   "cell_type": "markdown",
   "id": "c5d4aba1-ac1f-45a6-92fe-eacd0f810f6b",
   "metadata": {},
   "source": [
    "<center><b>Table 5</b>. Performance of other Models</center>\n",
    "This reveals almost the same finding as the stroke data, where Linear models have a lower train score as seen in Table 5. Ensemble models are again overfitting. "
   ]
  },
  {
   "cell_type": "code",
   "execution_count": 23,
   "id": "52027a4d-3111-40dc-91d2-b1a96c295b57",
   "metadata": {
    "execution": {
     "iopub.execute_input": "2023-12-09T05:26:27.500868Z",
     "iopub.status.busy": "2023-12-09T05:26:27.500506Z",
     "iopub.status.idle": "2023-12-09T05:26:28.643837Z",
     "shell.execute_reply": "2023-12-09T05:26:28.642615Z",
     "shell.execute_reply.started": "2023-12-09T05:26:27.500834Z"
    },
    "tags": []
   },
   "outputs": [
    {
     "data": {
      "image/png": "[encoded data removed]",
      "text/plain": [
       "<Figure size 2500x1500 with 1 Axes>"
      ]
     },
     "metadata": {},
     "output_type": "display_data"
    }
   ],
   "source": [
    "fig, ax = plt.subplots(figsize=(10, 6), dpi=250)\n",
    "grouped_results.plot(kind='bar', ax=ax, colormap='BrBG')\n",
    "ax.set_title('Max Train and Test Scores by Model')\n",
    "ax.set_xlabel('Model')\n",
    "ax.set_ylabel('Scores')\n",
    "plt.xticks(rotation=45)\n",
    "plt.show()"
   ]
  },
  {
   "cell_type": "markdown",
   "id": "4e3053d8-a56f-4ea5-94ab-ae424ca1ab19",
   "metadata": {},
   "source": [
    "<center><b>Figure 3</b>. Performance of other models without resampling</center>   \n",
    "From Figure 3, unlike the stroke data. The model can actually somehow predict from the minority class a little bit better. This is because the distribution (80-20) is not as bad as the stroke dataset (95-5). "
   ]
  },
  {
   "cell_type": "code",
   "execution_count": 24,
   "id": "b27930a0-1a3e-4ada-a000-52d7d6ab5fcc",
   "metadata": {
    "execution": {
     "iopub.execute_input": "2023-12-09T05:26:28.646291Z",
     "iopub.status.busy": "2023-12-09T05:26:28.645581Z",
     "iopub.status.idle": "2023-12-09T05:26:30.062939Z",
     "shell.execute_reply": "2023-12-09T05:26:30.062126Z",
     "shell.execute_reply.started": "2023-12-09T05:26:28.646252Z"
    },
    "tags": []
   },
   "outputs": [],
   "source": [
    "best_model = grid_search.best_estimator_.fit(X_trainval, y_trainval)\n",
    "best_model_score = best_model.score(X_holdout, y_holdout)"
   ]
  },
  {
   "cell_type": "code",
   "execution_count": 25,
   "id": "961a9fe9-5e62-4d3a-b104-2baed78b1166",
   "metadata": {
    "execution": {
     "iopub.execute_input": "2023-12-09T05:26:30.065757Z",
     "iopub.status.busy": "2023-12-09T05:26:30.065343Z",
     "iopub.status.idle": "2023-12-09T05:26:30.097482Z",
     "shell.execute_reply": "2023-12-09T05:26:30.095912Z",
     "shell.execute_reply.started": "2023-12-09T05:26:30.065720Z"
    },
    "tags": []
   },
   "outputs": [
    {
     "name": "stdout",
     "output_type": "stream",
     "text": [
      "0.7893877551020408\n"
     ]
    }
   ],
   "source": [
    "print(best_model_score)"
   ]
  },
  {
   "cell_type": "code",
   "execution_count": 26,
   "id": "486ed252-aa7b-4731-908c-8bc6a6dd44f4",
   "metadata": {
    "execution": {
     "iopub.execute_input": "2023-12-09T05:26:30.100447Z",
     "iopub.status.busy": "2023-12-09T05:26:30.099669Z",
     "iopub.status.idle": "2023-12-09T05:26:31.765843Z",
     "shell.execute_reply": "2023-12-09T05:26:31.764807Z",
     "shell.execute_reply.started": "2023-12-09T05:26:30.100401Z"
    },
    "tags": []
   },
   "outputs": [
    {
     "name": "stdout",
     "output_type": "stream",
     "text": [
      "[[2800  138]\n",
      " [ 636  101]]\n"
     ]
    }
   ],
   "source": [
    "y_pred = grid_search.best_estimator_.predict(X_holdout)\n",
    "from sklearn.metrics import confusion_matrix\n",
    "print (confusion_matrix(y_holdout, y_pred))"
   ]
  },
  {
   "cell_type": "code",
   "execution_count": 27,
   "id": "e12b9436-ca90-49ec-a240-6349c1d94f77",
   "metadata": {
    "execution": {
     "iopub.execute_input": "2023-12-09T05:26:31.768132Z",
     "iopub.status.busy": "2023-12-09T05:26:31.767431Z",
     "iopub.status.idle": "2023-12-09T05:26:31.799171Z",
     "shell.execute_reply": "2023-12-09T05:26:31.797973Z",
     "shell.execute_reply.started": "2023-12-09T05:26:31.768072Z"
    },
    "tags": []
   },
   "outputs": [
    {
     "data": {
      "text/plain": [
       "3675"
      ]
     },
     "execution_count": 27,
     "metadata": {},
     "output_type": "execute_result"
    }
   ],
   "source": [
    "len(X_holdout)"
   ]
  },
  {
   "cell_type": "code",
   "execution_count": 28,
   "id": "1c787891-03df-49cb-91ae-ee7cbb1e9b10",
   "metadata": {
    "execution": {
     "iopub.execute_input": "2023-12-09T05:26:31.801856Z",
     "iopub.status.busy": "2023-12-09T05:26:31.800885Z",
     "iopub.status.idle": "2023-12-09T05:26:33.517755Z",
     "shell.execute_reply": "2023-12-09T05:26:33.516254Z",
     "shell.execute_reply.started": "2023-12-09T05:26:31.801813Z"
    },
    "tags": []
   },
   "outputs": [
    {
     "name": "stdout",
     "output_type": "stream",
     "text": [
      "              precision    recall  f1-score   support\n",
      "\n",
      "           0       0.81      0.95      0.88      2938\n",
      "           1       0.42      0.14      0.21       737\n",
      "\n",
      "    accuracy                           0.79      3675\n",
      "   macro avg       0.62      0.55      0.54      3675\n",
      "weighted avg       0.74      0.79      0.74      3675\n",
      "\n"
     ]
    }
   ],
   "source": [
    "y_pred = grid_search.best_estimator_.predict(X_holdout)\n",
    "print(classification_report(y_holdout, y_pred))"
   ]
  },
  {
   "cell_type": "markdown",
   "id": "a1186971-8294-4a25-b996-f13359438e2c",
   "metadata": {},
   "source": [
    "### Interpretation - without resampling\n",
    "Given the 80-20 class distribution, the model's ability to predict loan defaults (class 1) is not as effective as its ability to predict non-defaults. This imbalance in performance is a challenge in such datasets, where the minority class (defaulters) is often of greater interest. The model's current configuration seems to favor the majority class, leading to a high number of false negatives for the minority class. To improve its utility in practical scenarios, it may be necessary to adjust the model or employ techniques specifically tailored to enhance its sensitivity to the minority class."
   ]
  },
  {
   "cell_type": "markdown",
   "id": "a068ede1-8d3d-4fbc-add3-cd13a30d8dd8",
   "metadata": {},
   "source": [
    "<div style=\"background-color: #eff1f3; padding: 10px 0;\">\n",
    "    <center><h2 style=\"color: #223843; font-weight:bold\">With Resampling - SMOTE</h2></center>\n",
    "</div> \n",
    "\n",
    "---"
   ]
  },
  {
   "cell_type": "markdown",
   "id": "bef3132d-d61f-47df-bc82-a24e9d855c06",
   "metadata": {},
   "source": [
    "### Predictor and Target Variable"
   ]
  },
  {
   "cell_type": "code",
   "execution_count": 29,
   "id": "587ec812-4472-4eb9-b60d-2e11cdb755e5",
   "metadata": {
    "execution": {
     "iopub.execute_input": "2023-12-09T05:26:33.520192Z",
     "iopub.status.busy": "2023-12-09T05:26:33.519707Z",
     "iopub.status.idle": "2023-12-09T05:26:33.532989Z",
     "shell.execute_reply": "2023-12-09T05:26:33.531671Z",
     "shell.execute_reply.started": "2023-12-09T05:26:33.520149Z"
    },
    "tags": []
   },
   "outputs": [],
   "source": [
    "data_smote = df_default.copy()\n",
    "X = data_smote.drop('bad_loan', axis=1)\n",
    "y = data_smote['bad_loan']"
   ]
  },
  {
   "cell_type": "markdown",
   "id": "a709d2d6-3de8-4fca-bbae-967b438c6f78",
   "metadata": {},
   "source": [
    "### Train-Validation-Test Split"
   ]
  },
  {
   "cell_type": "code",
   "execution_count": 30,
   "id": "5076de57-b4e8-435b-87f4-15436e1b6d8e",
   "metadata": {
    "execution": {
     "iopub.execute_input": "2023-12-09T05:26:33.535169Z",
     "iopub.status.busy": "2023-12-09T05:26:33.534729Z",
     "iopub.status.idle": "2023-12-09T05:26:33.559574Z",
     "shell.execute_reply": "2023-12-09T05:26:33.558472Z",
     "shell.execute_reply.started": "2023-12-09T05:26:33.535130Z"
    },
    "tags": []
   },
   "outputs": [],
   "source": [
    "test_size = 0.20\n",
    "seed=143\n",
    "X_trainval, X_holdout, y_trainval, y_holdout = train_test_split(\n",
    "    X, y, test_size=test_size, \n",
    "    stratify=y,\n",
    "    random_state=seed)"
   ]
  },
  {
   "cell_type": "markdown",
   "id": "7db69266-469b-428a-9b4c-971cfdd7e721",
   "metadata": {},
   "source": [
    "### Steps for Pipeline"
   ]
  },
  {
   "cell_type": "code",
   "execution_count": 31,
   "id": "5b798f87-7fa0-4f82-8f44-18ddb8c70216",
   "metadata": {
    "execution": {
     "iopub.execute_input": "2023-12-09T05:26:33.561790Z",
     "iopub.status.busy": "2023-12-09T05:26:33.561044Z",
     "iopub.status.idle": "2023-12-09T05:26:33.595718Z",
     "shell.execute_reply": "2023-12-09T05:26:33.566478Z",
     "shell.execute_reply.started": "2023-12-09T05:26:33.561752Z"
    },
    "tags": []
   },
   "outputs": [],
   "source": [
    "# Define steps including the scaler and SMOTE\n",
    "steps_smote = [\n",
    "    (\"scaler\", StandardScaler()),\n",
    "    (\"smote\", SMOTE(random_state=42)),\n",
    "    (\"clf\", None)\n",
    "]"
   ]
  },
  {
   "cell_type": "markdown",
   "id": "e3969681-0b52-409a-b625-ac4e7fa36f87",
   "metadata": {},
   "source": [
    "### Using ImbPipeline "
   ]
  },
  {
   "cell_type": "code",
   "execution_count": 32,
   "id": "a58e0b12-1073-404d-ba0c-57eab1d8e21e",
   "metadata": {
    "execution": {
     "iopub.execute_input": "2023-12-09T05:26:33.597775Z",
     "iopub.status.busy": "2023-12-09T05:26:33.597271Z",
     "iopub.status.idle": "2023-12-09T05:26:33.607195Z",
     "shell.execute_reply": "2023-12-09T05:26:33.605444Z",
     "shell.execute_reply.started": "2023-12-09T05:26:33.597735Z"
    },
    "tags": []
   },
   "outputs": [],
   "source": [
    "pipe_smote = ImbPipeline(steps_smote)\n",
    "param_grid_smote = [\n",
    "    {\n",
    "        \"clf\": [LinearSVC()],\n",
    "        \"clf__C\": C_range,\n",
    "        \"clf__dual\":['auto']\n",
    "    },\n",
    "    {\n",
    "        \"clf\": [KNeighborsClassifier()],\n",
    "        \"clf__n_neighbors\": n_neighbor_range,\n",
    "    },\n",
    "    {\n",
    "        \"clf\": [RandomForestClassifier()],\n",
    "        \"clf__max_depth\": max_depth_range,\n",
    "    },\n",
    "    {\n",
    "        \"clf\": [GradientBoostingClassifier()],\n",
    "        \"clf__max_depth\": max_depth_range,\n",
    "        \"clf__learning_rate\": learning_rate_range,\n",
    "    },\n",
    "    {\n",
    "        \"clf\": [LogisticRegression()],\n",
    "        \"clf__penalty\": penalty,\n",
    "        \"clf__C\": C_range,\n",
    "        \"clf__solver\": [\"liblinear\"],\n",
    "    },\n",
    "]"
   ]
  },
  {
   "cell_type": "markdown",
   "id": "733efacb-2982-43e5-a961-a670d6e06b2a",
   "metadata": {},
   "source": [
    "### Determining the Right Scoring Metric"
   ]
  },
  {
   "cell_type": "code",
   "execution_count": 33,
   "id": "39414c71-2e5f-4d29-95f7-898c4eb1cbc4",
   "metadata": {
    "collapsed": true,
    "execution": {
     "iopub.execute_input": "2023-12-09T05:26:33.610203Z",
     "iopub.status.busy": "2023-12-09T05:26:33.609535Z",
     "iopub.status.idle": "2023-12-09T05:47:33.359288Z",
     "shell.execute_reply": "2023-12-09T05:47:33.357522Z",
     "shell.execute_reply.started": "2023-12-09T05:26:33.610165Z"
    },
    "jupyter": {
     "outputs_hidden": true
    },
    "tags": []
   },
   "outputs": [
    {
     "name": "stdout",
     "output_type": "stream",
     "text": [
      "Fitting 5 folds for each of 69 candidates, totalling 345 fits\n",
      "[CV] END ......clf=LinearSVC(), clf__C=1e-05, clf__dual=auto; total time=   0.4s\n",
      "[CV] END ......clf=LinearSVC(), clf__C=1e-05, clf__dual=auto; total time=   0.5s\n",
      "[CV] END ......clf=LinearSVC(), clf__C=1e-05, clf__dual=auto; total time=   0.5s\n",
      "[CV] END ......clf=LinearSVC(), clf__C=1e-05, clf__dual=auto; total time=   0.6s\n",
      "[CV] END ......clf=LinearSVC(), clf__C=1e-05, clf__dual=auto; total time=   0.5s\n",
      "[CV] END ......clf=LinearSVC(), clf__C=0.001, clf__dual=auto; total time=   0.5s\n",
      "[CV] END ......clf=LinearSVC(), clf__C=0.001, clf__dual=auto; total time=   0.5s\n",
      "[CV] END ......clf=LinearSVC(), clf__C=0.001, clf__dual=auto; total time=   0.5s\n",
      "[CV] END ......clf=LinearSVC(), clf__C=0.001, clf__dual=auto; total time=   0.5s\n",
      "[CV] END ......clf=LinearSVC(), clf__C=0.001, clf__dual=auto; total time=   0.5s\n",
      "[CV] END ........clf=LinearSVC(), clf__C=0.1, clf__dual=auto; total time=   0.5s\n",
      "[CV] END ........clf=LinearSVC(), clf__C=0.1, clf__dual=auto; total time=   0.5s\n",
      "[CV] END ........clf=LinearSVC(), clf__C=0.1, clf__dual=auto; total time=   0.5s\n",
      "[CV] END ........clf=LinearSVC(), clf__C=0.1, clf__dual=auto; total time=   0.6s\n",
      "[CV] END ........clf=LinearSVC(), clf__C=0.1, clf__dual=auto; total time=   0.5s\n",
      "[CV] END .......clf=LinearSVC(), clf__C=10.0, clf__dual=auto; total time=   0.5s\n",
      "[CV] END .......clf=LinearSVC(), clf__C=10.0, clf__dual=auto; total time=   0.5s\n",
      "[CV] END .......clf=LinearSVC(), clf__C=10.0, clf__dual=auto; total time=   0.4s\n",
      "[CV] END .......clf=LinearSVC(), clf__C=10.0, clf__dual=auto; total time=   0.5s\n",
      "[CV] END .......clf=LinearSVC(), clf__C=10.0, clf__dual=auto; total time=   0.4s\n",
      "[CV] END .....clf=LinearSVC(), clf__C=1000.0, clf__dual=auto; total time=   0.5s\n",
      "[CV] END .....clf=LinearSVC(), clf__C=1000.0, clf__dual=auto; total time=   0.5s\n",
      "[CV] END .....clf=LinearSVC(), clf__C=1000.0, clf__dual=auto; total time=   0.5s\n",
      "[CV] END .....clf=LinearSVC(), clf__C=1000.0, clf__dual=auto; total time=   0.5s\n",
      "[CV] END ...clf=LinearSVC(), clf__C=100000.0, clf__dual=auto; total time=   0.4s\n",
      "[CV] END ...clf=LinearSVC(), clf__C=100000.0, clf__dual=auto; total time=   0.5s\n",
      "[CV] END .....clf=LinearSVC(), clf__C=1000.0, clf__dual=auto; total time=   0.6s\n",
      "[CV] END ...clf=LinearSVC(), clf__C=100000.0, clf__dual=auto; total time=   0.5s\n",
      "[CV] END ...clf=LinearSVC(), clf__C=100000.0, clf__dual=auto; total time=   0.5s\n",
      "[CV] END ...clf=LinearSVC(), clf__C=100000.0, clf__dual=auto; total time=   0.5s\n",
      "[CV] END .....clf=KNeighborsClassifier(), clf__n_neighbors=5; total time=   2.8s\n",
      "[CV] END .....clf=KNeighborsClassifier(), clf__n_neighbors=5; total time=   2.9s\n",
      "[CV] END .....clf=KNeighborsClassifier(), clf__n_neighbors=5; total time=   2.8s\n",
      "[CV] END .....clf=KNeighborsClassifier(), clf__n_neighbors=5; total time=   3.1s\n",
      "[CV] END .....clf=KNeighborsClassifier(), clf__n_neighbors=5; total time=   2.9s\n",
      "[CV] END .....clf=KNeighborsClassifier(), clf__n_neighbors=6; total time=   3.0s\n",
      "[CV] END .....clf=KNeighborsClassifier(), clf__n_neighbors=6; total time=   3.0s\n",
      "[CV] END .....clf=KNeighborsClassifier(), clf__n_neighbors=6; total time=   3.0s\n",
      "[CV] END .....clf=KNeighborsClassifier(), clf__n_neighbors=6; total time=   2.9s\n",
      "[CV] END .....clf=KNeighborsClassifier(), clf__n_neighbors=6; total time=   3.0s\n",
      "[CV] END .....clf=KNeighborsClassifier(), clf__n_neighbors=7; total time=   3.0s\n",
      "[CV] END .....clf=KNeighborsClassifier(), clf__n_neighbors=7; total time=   3.0s\n",
      "[CV] END .....clf=KNeighborsClassifier(), clf__n_neighbors=7; total time=   3.0s\n",
      "[CV] END .....clf=KNeighborsClassifier(), clf__n_neighbors=7; total time=   3.0s\n",
      "[CV] END .....clf=KNeighborsClassifier(), clf__n_neighbors=7; total time=   3.2s\n",
      "[CV] END .....clf=KNeighborsClassifier(), clf__n_neighbors=8; total time=   3.3s\n",
      "[CV] END .....clf=KNeighborsClassifier(), clf__n_neighbors=8; total time=   3.0s\n",
      "[CV] END .....clf=KNeighborsClassifier(), clf__n_neighbors=8; total time=   2.9s\n",
      "[CV] END .....clf=KNeighborsClassifier(), clf__n_neighbors=8; total time=   3.1s\n",
      "[CV] END .....clf=KNeighborsClassifier(), clf__n_neighbors=8; total time=   3.3s\n",
      "[CV] END .....clf=KNeighborsClassifier(), clf__n_neighbors=9; total time=   3.1s\n",
      "[CV] END .....clf=KNeighborsClassifier(), clf__n_neighbors=9; total time=   3.1s\n",
      "[CV] END .....clf=KNeighborsClassifier(), clf__n_neighbors=9; total time=   3.1s\n",
      "[CV] END .....clf=KNeighborsClassifier(), clf__n_neighbors=9; total time=   3.2s\n",
      "[CV] END .....clf=KNeighborsClassifier(), clf__n_neighbors=9; total time=   3.1s\n",
      "[CV] END ....clf=KNeighborsClassifier(), clf__n_neighbors=10; total time=   3.1s\n",
      "[CV] END ....clf=KNeighborsClassifier(), clf__n_neighbors=10; total time=   3.2s\n",
      "[CV] END ....clf=KNeighborsClassifier(), clf__n_neighbors=10; total time=   3.2s\n",
      "[CV] END ....clf=KNeighborsClassifier(), clf__n_neighbors=10; total time=   3.1s\n",
      "[CV] END ....clf=KNeighborsClassifier(), clf__n_neighbors=10; total time=   3.3s\n",
      "[CV] END ....clf=KNeighborsClassifier(), clf__n_neighbors=11; total time=   3.4s\n",
      "[CV] END ....clf=KNeighborsClassifier(), clf__n_neighbors=11; total time=   3.3s\n",
      "[CV] END .....clf=RandomForestClassifier(), clf__max_depth=5; total time=   5.8s\n",
      "[CV] END ....clf=KNeighborsClassifier(), clf__n_neighbors=11; total time=   3.1s\n",
      "[CV] END .....clf=RandomForestClassifier(), clf__max_depth=5; total time=   5.6s\n",
      "[CV] END ....clf=KNeighborsClassifier(), clf__n_neighbors=11; total time=   3.3s\n",
      "[CV] END ....clf=KNeighborsClassifier(), clf__n_neighbors=11; total time=   3.5s\n",
      "[CV] END .....clf=RandomForestClassifier(), clf__max_depth=5; total time=   5.6s\n",
      "[CV] END .....clf=RandomForestClassifier(), clf__max_depth=5; total time=   6.9s\n",
      "[CV] END .....clf=RandomForestClassifier(), clf__max_depth=5; total time=   5.7s\n",
      "[CV] END .....clf=RandomForestClassifier(), clf__max_depth=6; total time=   6.0s\n",
      "[CV] END .....clf=RandomForestClassifier(), clf__max_depth=6; total time=   6.1s\n",
      "[CV] END .....clf=RandomForestClassifier(), clf__max_depth=6; total time=   6.7s\n",
      "[CV] END .....clf=RandomForestClassifier(), clf__max_depth=6; total time=   6.3s\n",
      "[CV] END .....clf=RandomForestClassifier(), clf__max_depth=6; total time=   6.2s\n",
      "[CV] END .....clf=RandomForestClassifier(), clf__max_depth=7; total time=   7.5s\n",
      "[CV] END .....clf=RandomForestClassifier(), clf__max_depth=7; total time=   7.0s\n",
      "[CV] END .....clf=RandomForestClassifier(), clf__max_depth=7; total time=   7.2s\n",
      "[CV] END .....clf=RandomForestClassifier(), clf__max_depth=7; total time=   7.7s\n",
      "[CV] END .....clf=RandomForestClassifier(), clf__max_depth=7; total time=   7.0s\n",
      "[CV] END .....clf=RandomForestClassifier(), clf__max_depth=8; total time=   7.7s\n",
      "[CV] END .....clf=RandomForestClassifier(), clf__max_depth=8; total time=   7.7s\n",
      "[CV] END .....clf=RandomForestClassifier(), clf__max_depth=8; total time=   9.1s\n",
      "[CV] END .....clf=RandomForestClassifier(), clf__max_depth=8; total time=   8.0s\n",
      "[CV] END .....clf=RandomForestClassifier(), clf__max_depth=8; total time=   7.9s\n",
      "[CV] END .....clf=RandomForestClassifier(), clf__max_depth=9; total time=   8.6s\n",
      "[CV] END .....clf=RandomForestClassifier(), clf__max_depth=9; total time=   8.5s\n",
      "[CV] END .....clf=RandomForestClassifier(), clf__max_depth=9; total time=   8.5s\n",
      "[CV] END .....clf=RandomForestClassifier(), clf__max_depth=9; total time=   8.9s\n",
      "[CV] END .....clf=RandomForestClassifier(), clf__max_depth=9; total time=   8.4s\n",
      "[CV] END ....clf=RandomForestClassifier(), clf__max_depth=10; total time=  10.3s\n",
      "[CV] END ....clf=RandomForestClassifier(), clf__max_depth=10; total time=   9.3s\n",
      "[CV] END ....clf=RandomForestClassifier(), clf__max_depth=10; total time=   9.3s\n",
      "[CV] END ....clf=RandomForestClassifier(), clf__max_depth=10; total time=   9.4s\n",
      "[CV] END ....clf=RandomForestClassifier(), clf__max_depth=10; total time=   9.2s\n",
      "[CV] END ....clf=RandomForestClassifier(), clf__max_depth=11; total time=   9.9s\n",
      "[CV] END ....clf=RandomForestClassifier(), clf__max_depth=11; total time=   9.7s\n",
      "[CV] END ....clf=RandomForestClassifier(), clf__max_depth=11; total time=   9.7s\n",
      "[CV] END ....clf=RandomForestClassifier(), clf__max_depth=11; total time=  10.1s\n",
      "[CV] END ....clf=RandomForestClassifier(), clf__max_depth=11; total time=   9.7s\n",
      "[CV] END ....clf=RandomForestClassifier(), clf__max_depth=12; total time=  11.2s\n",
      "[CV] END ....clf=RandomForestClassifier(), clf__max_depth=12; total time=  10.7s\n",
      "[CV] END ....clf=RandomForestClassifier(), clf__max_depth=12; total time=  10.8s\n",
      "[CV] END ....clf=RandomForestClassifier(), clf__max_depth=12; total time=  10.7s\n",
      "[CV] END ....clf=RandomForestClassifier(), clf__max_depth=12; total time=  11.3s\n",
      "[CV] END ....clf=RandomForestClassifier(), clf__max_depth=13; total time=  11.0s\n",
      "[CV] END ....clf=RandomForestClassifier(), clf__max_depth=13; total time=  12.4s\n",
      "[CV] END ....clf=RandomForestClassifier(), clf__max_depth=13; total time=  10.9s\n",
      "[CV] END ....clf=RandomForestClassifier(), clf__max_depth=13; total time=  11.2s\n",
      "[CV] END ....clf=RandomForestClassifier(), clf__max_depth=13; total time=  11.6s\n",
      "[CV] END ....clf=RandomForestClassifier(), clf__max_depth=14; total time=  12.0s\n",
      "[CV] END ....clf=RandomForestClassifier(), clf__max_depth=14; total time=  11.9s\n",
      "[CV] END ....clf=RandomForestClassifier(), clf__max_depth=14; total time=  11.6s\n",
      "[CV] END ....clf=RandomForestClassifier(), clf__max_depth=14; total time=  12.4s\n",
      "[CV] END ....clf=RandomForestClassifier(), clf__max_depth=14; total time=  12.9s\n",
      "[CV] END ....clf=RandomForestClassifier(), clf__max_depth=15; total time=  12.7s\n",
      "[CV] END ....clf=RandomForestClassifier(), clf__max_depth=15; total time=  12.4s\n",
      "[CV] END ....clf=RandomForestClassifier(), clf__max_depth=15; total time=  12.5s\n",
      "[CV] END ....clf=RandomForestClassifier(), clf__max_depth=15; total time=  12.1s\n",
      "[CV] END ....clf=RandomForestClassifier(), clf__max_depth=15; total time=  12.3s\n",
      "[CV] END clf=GradientBoostingClassifier(), clf__learning_rate=0.1, clf__max_depth=5; total time=  21.0s\n",
      "[CV] END clf=GradientBoostingClassifier(), clf__learning_rate=0.1, clf__max_depth=5; total time=  20.3s\n",
      "[CV] END clf=GradientBoostingClassifier(), clf__learning_rate=0.1, clf__max_depth=5; total time=  20.4s\n",
      "[CV] END clf=GradientBoostingClassifier(), clf__learning_rate=0.1, clf__max_depth=5; total time=  20.8s\n",
      "[CV] END clf=GradientBoostingClassifier(), clf__learning_rate=0.1, clf__max_depth=5; total time=  20.4s\n",
      "[CV] END clf=GradientBoostingClassifier(), clf__learning_rate=0.1, clf__max_depth=6; total time=  24.5s\n",
      "[CV] END clf=GradientBoostingClassifier(), clf__learning_rate=0.1, clf__max_depth=6; total time=  24.3s\n",
      "[CV] END clf=GradientBoostingClassifier(), clf__learning_rate=0.1, clf__max_depth=6; total time=  24.6s\n",
      "[CV] END clf=GradientBoostingClassifier(), clf__learning_rate=0.1, clf__max_depth=6; total time=  24.9s\n",
      "[CV] END clf=GradientBoostingClassifier(), clf__learning_rate=0.1, clf__max_depth=6; total time=  24.2s\n",
      "[CV] END clf=GradientBoostingClassifier(), clf__learning_rate=0.1, clf__max_depth=7; total time=  28.9s\n",
      "[CV] END clf=GradientBoostingClassifier(), clf__learning_rate=0.1, clf__max_depth=7; total time=  29.1s\n",
      "[CV] END clf=GradientBoostingClassifier(), clf__learning_rate=0.1, clf__max_depth=7; total time=  29.1s\n",
      "[CV] END clf=GradientBoostingClassifier(), clf__learning_rate=0.1, clf__max_depth=7; total time=  28.2s\n",
      "[CV] END clf=GradientBoostingClassifier(), clf__learning_rate=0.1, clf__max_depth=7; total time=  28.7s\n",
      "[CV] END clf=GradientBoostingClassifier(), clf__learning_rate=0.1, clf__max_depth=8; total time=  33.8s\n",
      "[CV] END clf=GradientBoostingClassifier(), clf__learning_rate=0.1, clf__max_depth=8; total time=  33.9s\n",
      "[CV] END clf=GradientBoostingClassifier(), clf__learning_rate=0.1, clf__max_depth=8; total time=  34.0s\n",
      "[CV] END clf=GradientBoostingClassifier(), clf__learning_rate=0.1, clf__max_depth=8; total time=  32.3s\n",
      "[CV] END clf=GradientBoostingClassifier(), clf__learning_rate=0.1, clf__max_depth=8; total time=  28.6s\n",
      "[CV] END clf=GradientBoostingClassifier(), clf__learning_rate=0.1, clf__max_depth=9; total time=  25.2s\n",
      "[CV] END clf=GradientBoostingClassifier(), clf__learning_rate=0.1, clf__max_depth=9; total time=  23.6s\n",
      "[CV] END clf=GradientBoostingClassifier(), clf__learning_rate=0.1, clf__max_depth=9; total time=  19.6s\n",
      "[CV] END clf=GradientBoostingClassifier(), clf__learning_rate=0.1, clf__max_depth=9; total time=  18.7s\n",
      "[CV] END clf=GradientBoostingClassifier(), clf__learning_rate=0.1, clf__max_depth=9; total time=  18.7s\n",
      "[CV] END clf=GradientBoostingClassifier(), clf__learning_rate=0.1, clf__max_depth=10; total time=  21.6s\n",
      "[CV] END clf=GradientBoostingClassifier(), clf__learning_rate=0.1, clf__max_depth=10; total time=  21.2s\n",
      "[CV] END clf=GradientBoostingClassifier(), clf__learning_rate=0.1, clf__max_depth=10; total time=  20.7s\n",
      "[CV] END clf=GradientBoostingClassifier(), clf__learning_rate=0.1, clf__max_depth=10; total time=  21.1s\n",
      "[CV] END clf=GradientBoostingClassifier(), clf__learning_rate=0.1, clf__max_depth=10; total time=  21.6s\n",
      "[CV] END clf=GradientBoostingClassifier(), clf__learning_rate=0.1, clf__max_depth=11; total time=  24.7s\n",
      "[CV] END clf=GradientBoostingClassifier(), clf__learning_rate=0.1, clf__max_depth=11; total time=  24.2s\n",
      "[CV] END clf=GradientBoostingClassifier(), clf__learning_rate=0.1, clf__max_depth=11; total time=  24.0s\n",
      "[CV] END clf=GradientBoostingClassifier(), clf__learning_rate=0.1, clf__max_depth=11; total time=  25.2s\n",
      "[CV] END clf=GradientBoostingClassifier(), clf__learning_rate=0.1, clf__max_depth=11; total time=  23.8s\n",
      "[CV] END clf=GradientBoostingClassifier(), clf__learning_rate=0.1, clf__max_depth=12; total time=  28.7s\n",
      "[CV] END clf=GradientBoostingClassifier(), clf__learning_rate=0.1, clf__max_depth=12; total time=  27.0s\n",
      "[CV] END clf=GradientBoostingClassifier(), clf__learning_rate=0.1, clf__max_depth=12; total time=  27.5s\n",
      "[CV] END clf=GradientBoostingClassifier(), clf__learning_rate=0.1, clf__max_depth=12; total time=  29.1s\n",
      "[CV] END clf=GradientBoostingClassifier(), clf__learning_rate=0.1, clf__max_depth=12; total time=  27.8s\n",
      "[CV] END clf=GradientBoostingClassifier(), clf__learning_rate=0.1, clf__max_depth=13; total time=  31.1s\n",
      "[CV] END clf=GradientBoostingClassifier(), clf__learning_rate=0.1, clf__max_depth=13; total time=  34.8s\n",
      "[CV] END clf=GradientBoostingClassifier(), clf__learning_rate=0.1, clf__max_depth=13; total time=  35.9s\n",
      "[CV] END clf=GradientBoostingClassifier(), clf__learning_rate=0.1, clf__max_depth=13; total time=  32.2s\n",
      "[CV] END clf=GradientBoostingClassifier(), clf__learning_rate=0.1, clf__max_depth=13; total time=  32.8s\n",
      "[CV] END clf=GradientBoostingClassifier(), clf__learning_rate=0.1, clf__max_depth=14; total time=  40.3s\n",
      "[CV] END clf=GradientBoostingClassifier(), clf__learning_rate=0.1, clf__max_depth=14; total time=  37.4s\n",
      "[CV] END clf=GradientBoostingClassifier(), clf__learning_rate=0.1, clf__max_depth=14; total time=  36.0s\n",
      "[CV] END clf=GradientBoostingClassifier(), clf__learning_rate=0.1, clf__max_depth=14; total time=  35.8s\n",
      "[CV] END clf=GradientBoostingClassifier(), clf__learning_rate=0.1, clf__max_depth=14; total time=  40.2s\n",
      "[CV] END clf=GradientBoostingClassifier(), clf__learning_rate=0.1, clf__max_depth=15; total time=  40.7s\n",
      "[CV] END clf=GradientBoostingClassifier(), clf__learning_rate=0.1, clf__max_depth=15; total time=  40.7s\n",
      "[CV] END clf=GradientBoostingClassifier(), clf__learning_rate=0.5, clf__max_depth=5; total time=  10.1s\n",
      "[CV] END clf=GradientBoostingClassifier(), clf__learning_rate=0.1, clf__max_depth=15; total time=  42.7s\n",
      "[CV] END clf=GradientBoostingClassifier(), clf__learning_rate=0.5, clf__max_depth=5; total time=   9.4s\n",
      "[CV] END clf=GradientBoostingClassifier(), clf__learning_rate=0.5, clf__max_depth=5; total time=  10.0s\n",
      "[CV] END clf=GradientBoostingClassifier(), clf__learning_rate=0.5, clf__max_depth=5; total time=   9.9s\n",
      "[CV] END clf=GradientBoostingClassifier(), clf__learning_rate=0.5, clf__max_depth=5; total time=   9.5s\n",
      "[CV] END clf=GradientBoostingClassifier(), clf__learning_rate=0.1, clf__max_depth=15; total time=  47.2s\n",
      "[CV] END clf=GradientBoostingClassifier(), clf__learning_rate=0.5, clf__max_depth=6; total time=  11.6s\n",
      "[CV] END clf=GradientBoostingClassifier(), clf__learning_rate=0.1, clf__max_depth=15; total time=  42.5s\n",
      "[CV] END clf=GradientBoostingClassifier(), clf__learning_rate=0.5, clf__max_depth=6; total time=  10.7s\n",
      "[CV] END clf=GradientBoostingClassifier(), clf__learning_rate=0.5, clf__max_depth=6; total time=  12.2s\n",
      "[CV] END clf=GradientBoostingClassifier(), clf__learning_rate=0.5, clf__max_depth=6; total time=  11.9s\n",
      "[CV] END clf=GradientBoostingClassifier(), clf__learning_rate=0.5, clf__max_depth=6; total time=  11.3s\n",
      "[CV] END clf=GradientBoostingClassifier(), clf__learning_rate=0.5, clf__max_depth=7; total time=  13.1s\n",
      "[CV] END clf=GradientBoostingClassifier(), clf__learning_rate=0.5, clf__max_depth=7; total time=  14.5s\n",
      "[CV] END clf=GradientBoostingClassifier(), clf__learning_rate=0.5, clf__max_depth=7; total time=  13.7s\n",
      "[CV] END clf=GradientBoostingClassifier(), clf__learning_rate=0.5, clf__max_depth=7; total time=  14.0s\n",
      "[CV] END clf=GradientBoostingClassifier(), clf__learning_rate=0.5, clf__max_depth=7; total time=  12.7s\n",
      "[CV] END clf=GradientBoostingClassifier(), clf__learning_rate=0.5, clf__max_depth=8; total time=  16.1s\n",
      "[CV] END clf=GradientBoostingClassifier(), clf__learning_rate=0.5, clf__max_depth=8; total time=  15.2s\n",
      "[CV] END clf=GradientBoostingClassifier(), clf__learning_rate=0.5, clf__max_depth=8; total time=  16.1s\n",
      "[CV] END clf=GradientBoostingClassifier(), clf__learning_rate=0.5, clf__max_depth=8; total time=  16.0s\n",
      "[CV] END clf=GradientBoostingClassifier(), clf__learning_rate=0.5, clf__max_depth=8; total time=  16.2s\n",
      "[CV] END clf=GradientBoostingClassifier(), clf__learning_rate=0.5, clf__max_depth=9; total time=  18.4s\n",
      "[CV] END clf=GradientBoostingClassifier(), clf__learning_rate=0.5, clf__max_depth=9; total time=  18.1s\n",
      "[CV] END clf=GradientBoostingClassifier(), clf__learning_rate=0.5, clf__max_depth=9; total time=  18.6s\n",
      "[CV] END clf=GradientBoostingClassifier(), clf__learning_rate=0.5, clf__max_depth=9; total time=  18.9s\n",
      "[CV] END clf=GradientBoostingClassifier(), clf__learning_rate=0.5, clf__max_depth=9; total time=  18.5s\n",
      "[CV] END clf=GradientBoostingClassifier(), clf__learning_rate=0.5, clf__max_depth=10; total time=  19.7s\n",
      "[CV] END clf=GradientBoostingClassifier(), clf__learning_rate=0.5, clf__max_depth=10; total time=  20.6s\n",
      "[CV] END clf=GradientBoostingClassifier(), clf__learning_rate=0.5, clf__max_depth=10; total time=  21.2s\n",
      "[CV] END clf=GradientBoostingClassifier(), clf__learning_rate=0.5, clf__max_depth=10; total time=  20.0s\n",
      "[CV] END clf=GradientBoostingClassifier(), clf__learning_rate=0.5, clf__max_depth=10; total time=  20.0s\n",
      "[CV] END clf=GradientBoostingClassifier(), clf__learning_rate=0.5, clf__max_depth=11; total time=  21.6s\n",
      "[CV] END clf=GradientBoostingClassifier(), clf__learning_rate=0.5, clf__max_depth=11; total time=  23.7s\n",
      "[CV] END clf=GradientBoostingClassifier(), clf__learning_rate=0.5, clf__max_depth=11; total time=  23.0s\n",
      "[CV] END clf=GradientBoostingClassifier(), clf__learning_rate=0.5, clf__max_depth=11; total time=  22.0s\n",
      "[CV] END clf=GradientBoostingClassifier(), clf__learning_rate=0.5, clf__max_depth=11; total time=  21.6s\n",
      "[CV] END clf=GradientBoostingClassifier(), clf__learning_rate=0.5, clf__max_depth=12; total time=  26.2s\n",
      "[CV] END clf=GradientBoostingClassifier(), clf__learning_rate=0.5, clf__max_depth=12; total time=  26.8s\n",
      "[CV] END clf=GradientBoostingClassifier(), clf__learning_rate=0.5, clf__max_depth=12; total time=  27.0s\n",
      "[CV] END clf=GradientBoostingClassifier(), clf__learning_rate=0.5, clf__max_depth=12; total time=  25.7s\n",
      "[CV] END clf=GradientBoostingClassifier(), clf__learning_rate=0.5, clf__max_depth=12; total time=  24.8s\n",
      "[CV] END clf=GradientBoostingClassifier(), clf__learning_rate=0.5, clf__max_depth=13; total time=  28.4s\n",
      "[CV] END clf=GradientBoostingClassifier(), clf__learning_rate=0.5, clf__max_depth=13; total time=  28.7s\n",
      "[CV] END clf=GradientBoostingClassifier(), clf__learning_rate=0.5, clf__max_depth=13; total time=  26.8s\n",
      "[CV] END clf=GradientBoostingClassifier(), clf__learning_rate=0.5, clf__max_depth=13; total time=  30.5s\n",
      "[CV] END clf=GradientBoostingClassifier(), clf__learning_rate=0.5, clf__max_depth=13; total time=  30.5s\n",
      "[CV] END clf=GradientBoostingClassifier(), clf__learning_rate=0.5, clf__max_depth=14; total time=  32.3s\n",
      "[CV] END clf=GradientBoostingClassifier(), clf__learning_rate=0.5, clf__max_depth=14; total time=  33.3s\n",
      "[CV] END clf=GradientBoostingClassifier(), clf__learning_rate=0.5, clf__max_depth=14; total time=  35.0s\n",
      "[CV] END clf=GradientBoostingClassifier(), clf__learning_rate=0.5, clf__max_depth=14; total time=  32.5s\n",
      "[CV] END clf=GradientBoostingClassifier(), clf__learning_rate=0.5, clf__max_depth=14; total time=  33.2s\n",
      "[CV] END clf=GradientBoostingClassifier(), clf__learning_rate=0.5, clf__max_depth=15; total time=  38.2s\n",
      "[CV] END clf=GradientBoostingClassifier(), clf__learning_rate=0.5, clf__max_depth=15; total time=  40.3s\n",
      "[CV] END clf=GradientBoostingClassifier(), clf__learning_rate=0.5, clf__max_depth=15; total time=  41.0s\n",
      "[CV] END clf=GradientBoostingClassifier(), clf__learning_rate=0.5, clf__max_depth=15; total time=  38.3s\n",
      "[CV] END clf=GradientBoostingClassifier(), clf__learning_rate=0.5, clf__max_depth=15; total time=  35.9s\n",
      "[CV] END clf=GradientBoostingClassifier(), clf__learning_rate=1.0, clf__max_depth=5; total time=  10.0s\n",
      "[CV] END clf=GradientBoostingClassifier(), clf__learning_rate=1.0, clf__max_depth=5; total time=   9.8s\n",
      "[CV] END clf=GradientBoostingClassifier(), clf__learning_rate=1.0, clf__max_depth=5; total time=   9.9s\n",
      "[CV] END clf=GradientBoostingClassifier(), clf__learning_rate=1.0, clf__max_depth=5; total time=   9.0s\n",
      "[CV] END clf=GradientBoostingClassifier(), clf__learning_rate=1.0, clf__max_depth=5; total time=   9.9s\n",
      "[CV] END clf=GradientBoostingClassifier(), clf__learning_rate=1.0, clf__max_depth=6; total time=  12.1s\n",
      "[CV] END clf=GradientBoostingClassifier(), clf__learning_rate=1.0, clf__max_depth=6; total time=  11.6s\n",
      "[CV] END clf=GradientBoostingClassifier(), clf__learning_rate=1.0, clf__max_depth=6; total time=  11.5s\n",
      "[CV] END clf=GradientBoostingClassifier(), clf__learning_rate=1.0, clf__max_depth=6; total time=  11.4s\n",
      "[CV] END clf=GradientBoostingClassifier(), clf__learning_rate=1.0, clf__max_depth=6; total time=  11.6s\n",
      "[CV] END clf=GradientBoostingClassifier(), clf__learning_rate=1.0, clf__max_depth=7; total time=  13.8s\n",
      "[CV] END clf=GradientBoostingClassifier(), clf__learning_rate=1.0, clf__max_depth=7; total time=  13.5s\n",
      "[CV] END clf=GradientBoostingClassifier(), clf__learning_rate=1.0, clf__max_depth=7; total time=  14.0s\n",
      "[CV] END clf=GradientBoostingClassifier(), clf__learning_rate=1.0, clf__max_depth=7; total time=  13.3s\n",
      "[CV] END clf=GradientBoostingClassifier(), clf__learning_rate=1.0, clf__max_depth=7; total time=  13.3s\n",
      "[CV] END clf=GradientBoostingClassifier(), clf__learning_rate=1.0, clf__max_depth=8; total time=  16.1s\n",
      "[CV] END clf=GradientBoostingClassifier(), clf__learning_rate=1.0, clf__max_depth=8; total time=  14.7s\n",
      "[CV] END clf=GradientBoostingClassifier(), clf__learning_rate=1.0, clf__max_depth=8; total time=  15.9s\n",
      "[CV] END clf=GradientBoostingClassifier(), clf__learning_rate=1.0, clf__max_depth=8; total time=  15.8s\n",
      "[CV] END clf=GradientBoostingClassifier(), clf__learning_rate=1.0, clf__max_depth=8; total time=  15.4s\n",
      "[CV] END clf=GradientBoostingClassifier(), clf__learning_rate=1.0, clf__max_depth=9; total time=  17.7s\n",
      "[CV] END clf=GradientBoostingClassifier(), clf__learning_rate=1.0, clf__max_depth=9; total time=  18.3s\n",
      "[CV] END clf=GradientBoostingClassifier(), clf__learning_rate=1.0, clf__max_depth=9; total time=  17.8s\n",
      "[CV] END clf=GradientBoostingClassifier(), clf__learning_rate=1.0, clf__max_depth=9; total time=  17.9s\n",
      "[CV] END clf=GradientBoostingClassifier(), clf__learning_rate=1.0, clf__max_depth=9; total time=  18.3s\n",
      "[CV] END clf=GradientBoostingClassifier(), clf__learning_rate=1.0, clf__max_depth=10; total time=  19.8s\n",
      "[CV] END clf=GradientBoostingClassifier(), clf__learning_rate=1.0, clf__max_depth=10; total time=  20.9s\n",
      "[CV] END clf=GradientBoostingClassifier(), clf__learning_rate=1.0, clf__max_depth=10; total time=  20.3s\n",
      "[CV] END clf=GradientBoostingClassifier(), clf__learning_rate=1.0, clf__max_depth=10; total time=  21.3s\n",
      "[CV] END clf=GradientBoostingClassifier(), clf__learning_rate=1.0, clf__max_depth=10; total time=  21.6s\n",
      "[CV] END clf=GradientBoostingClassifier(), clf__learning_rate=1.0, clf__max_depth=11; total time=  23.5s\n",
      "[CV] END clf=GradientBoostingClassifier(), clf__learning_rate=1.0, clf__max_depth=11; total time=  22.5s\n",
      "[CV] END clf=GradientBoostingClassifier(), clf__learning_rate=1.0, clf__max_depth=11; total time=  24.9s\n",
      "[CV] END clf=GradientBoostingClassifier(), clf__learning_rate=1.0, clf__max_depth=11; total time=  24.8s\n",
      "[CV] END clf=GradientBoostingClassifier(), clf__learning_rate=1.0, clf__max_depth=11; total time=  23.5s\n",
      "[CV] END clf=GradientBoostingClassifier(), clf__learning_rate=1.0, clf__max_depth=12; total time=  26.9s\n",
      "[CV] END clf=GradientBoostingClassifier(), clf__learning_rate=1.0, clf__max_depth=12; total time=  27.6s\n",
      "[CV] END clf=GradientBoostingClassifier(), clf__learning_rate=1.0, clf__max_depth=12; total time=  26.6s\n",
      "[CV] END clf=GradientBoostingClassifier(), clf__learning_rate=1.0, clf__max_depth=12; total time=  26.8s\n",
      "[CV] END clf=GradientBoostingClassifier(), clf__learning_rate=1.0, clf__max_depth=12; total time=  26.3s\n",
      "[CV] END clf=GradientBoostingClassifier(), clf__learning_rate=1.0, clf__max_depth=13; total time=  30.3s\n",
      "[CV] END clf=GradientBoostingClassifier(), clf__learning_rate=1.0, clf__max_depth=13; total time=  29.6s\n",
      "[CV] END clf=GradientBoostingClassifier(), clf__learning_rate=1.0, clf__max_depth=13; total time=  27.9s\n",
      "[CV] END clf=GradientBoostingClassifier(), clf__learning_rate=1.0, clf__max_depth=13; total time=  29.8s\n",
      "[CV] END clf=GradientBoostingClassifier(), clf__learning_rate=1.0, clf__max_depth=13; total time=  29.7s\n",
      "[CV] END clf=GradientBoostingClassifier(), clf__learning_rate=1.0, clf__max_depth=14; total time=  33.2s\n",
      "[CV] END clf=GradientBoostingClassifier(), clf__learning_rate=1.0, clf__max_depth=14; total time=  32.7s\n",
      "[CV] END clf=GradientBoostingClassifier(), clf__learning_rate=1.0, clf__max_depth=14; total time=  31.8s\n",
      "[CV] END clf=GradientBoostingClassifier(), clf__learning_rate=1.0, clf__max_depth=14; total time=  32.5s\n",
      "[CV] END clf=GradientBoostingClassifier(), clf__learning_rate=1.0, clf__max_depth=14; total time=  33.8s\n",
      "[CV] END clf=GradientBoostingClassifier(), clf__learning_rate=1.0, clf__max_depth=15; total time=  36.3s\n",
      "[CV] END clf=GradientBoostingClassifier(), clf__learning_rate=1.0, clf__max_depth=15; total time=  36.6s\n",
      "[CV] END clf=LogisticRegression(), clf__C=1e-05, clf__penalty=l1, clf__solver=liblinear; total time=   0.2s\n",
      "[CV] END clf=LogisticRegression(), clf__C=1e-05, clf__penalty=l1, clf__solver=liblinear; total time=   0.2s\n",
      "[CV] END clf=LogisticRegression(), clf__C=1e-05, clf__penalty=l1, clf__solver=liblinear; total time=   0.2s\n",
      "[CV] END clf=LogisticRegression(), clf__C=1e-05, clf__penalty=l1, clf__solver=liblinear; total time=   0.2s\n",
      "[CV] END clf=LogisticRegression(), clf__C=1e-05, clf__penalty=l1, clf__solver=liblinear; total time=   0.2s\n",
      "[CV] END clf=LogisticRegression(), clf__C=1e-05, clf__penalty=l2, clf__solver=liblinear; total time=   0.2s\n",
      "[CV] END clf=LogisticRegression(), clf__C=1e-05, clf__penalty=l2, clf__solver=liblinear; total time=   0.2s\n",
      "[CV] END clf=LogisticRegression(), clf__C=1e-05, clf__penalty=l2, clf__solver=liblinear; total time=   0.2s\n",
      "[CV] END clf=LogisticRegression(), clf__C=1e-05, clf__penalty=l2, clf__solver=liblinear; total time=   0.2s\n",
      "[CV] END clf=LogisticRegression(), clf__C=1e-05, clf__penalty=l2, clf__solver=liblinear; total time=   0.2s\n",
      "[CV] END clf=LogisticRegression(), clf__C=0.001, clf__penalty=l1, clf__solver=liblinear; total time=   0.2s\n",
      "[CV] END clf=LogisticRegression(), clf__C=0.001, clf__penalty=l1, clf__solver=liblinear; total time=   0.2s\n",
      "[CV] END clf=LogisticRegression(), clf__C=0.001, clf__penalty=l1, clf__solver=liblinear; total time=   0.2s\n",
      "[CV] END clf=LogisticRegression(), clf__C=0.001, clf__penalty=l1, clf__solver=liblinear; total time=   0.3s\n",
      "[CV] END clf=LogisticRegression(), clf__C=0.001, clf__penalty=l1, clf__solver=liblinear; total time=   0.3s\n",
      "[CV] END clf=LogisticRegression(), clf__C=0.001, clf__penalty=l2, clf__solver=liblinear; total time=   0.3s\n",
      "[CV] END clf=LogisticRegression(), clf__C=0.001, clf__penalty=l2, clf__solver=liblinear; total time=   0.3s\n",
      "[CV] END clf=LogisticRegression(), clf__C=0.001, clf__penalty=l2, clf__solver=liblinear; total time=   0.2s\n",
      "[CV] END clf=LogisticRegression(), clf__C=0.001, clf__penalty=l2, clf__solver=liblinear; total time=   0.2s\n",
      "[CV] END clf=LogisticRegression(), clf__C=0.001, clf__penalty=l2, clf__solver=liblinear; total time=   0.2s\n",
      "[CV] END clf=LogisticRegression(), clf__C=0.1, clf__penalty=l1, clf__solver=liblinear; total time=   0.3s\n",
      "[CV] END clf=LogisticRegression(), clf__C=0.1, clf__penalty=l1, clf__solver=liblinear; total time=   0.3s\n",
      "[CV] END clf=LogisticRegression(), clf__C=0.1, clf__penalty=l1, clf__solver=liblinear; total time=   0.3s\n",
      "[CV] END clf=LogisticRegression(), clf__C=0.1, clf__penalty=l1, clf__solver=liblinear; total time=   0.2s\n",
      "[CV] END clf=LogisticRegression(), clf__C=0.1, clf__penalty=l1, clf__solver=liblinear; total time=   0.2s\n",
      "[CV] END clf=LogisticRegression(), clf__C=0.1, clf__penalty=l2, clf__solver=liblinear; total time=   0.2s\n",
      "[CV] END clf=LogisticRegression(), clf__C=0.1, clf__penalty=l2, clf__solver=liblinear; total time=   0.2s\n",
      "[CV] END clf=LogisticRegression(), clf__C=0.1, clf__penalty=l2, clf__solver=liblinear; total time=   0.2s\n",
      "[CV] END clf=LogisticRegression(), clf__C=0.1, clf__penalty=l2, clf__solver=liblinear; total time=   0.2s\n",
      "[CV] END clf=LogisticRegression(), clf__C=0.1, clf__penalty=l2, clf__solver=liblinear; total time=   0.3s\n",
      "[CV] END clf=LogisticRegression(), clf__C=10.0, clf__penalty=l1, clf__solver=liblinear; total time=   0.2s\n",
      "[CV] END clf=LogisticRegression(), clf__C=10.0, clf__penalty=l1, clf__solver=liblinear; total time=   0.1s\n",
      "[CV] END clf=LogisticRegression(), clf__C=10.0, clf__penalty=l1, clf__solver=liblinear; total time=   0.1s\n",
      "[CV] END clf=LogisticRegression(), clf__C=10.0, clf__penalty=l1, clf__solver=liblinear; total time=   0.1s\n",
      "[CV] END clf=LogisticRegression(), clf__C=10.0, clf__penalty=l1, clf__solver=liblinear; total time=   0.1s\n",
      "[CV] END clf=LogisticRegression(), clf__C=10.0, clf__penalty=l2, clf__solver=liblinear; total time=   0.2s\n",
      "[CV] END clf=LogisticRegression(), clf__C=10.0, clf__penalty=l2, clf__solver=liblinear; total time=   0.1s\n",
      "[CV] END clf=LogisticRegression(), clf__C=10.0, clf__penalty=l2, clf__solver=liblinear; total time=   0.1s\n",
      "[CV] END clf=LogisticRegression(), clf__C=10.0, clf__penalty=l2, clf__solver=liblinear; total time=   0.2s\n",
      "[CV] END clf=LogisticRegression(), clf__C=10.0, clf__penalty=l2, clf__solver=liblinear; total time=   0.3s\n",
      "[CV] END clf=LogisticRegression(), clf__C=1000.0, clf__penalty=l1, clf__solver=liblinear; total time=   0.3s\n",
      "[CV] END clf=LogisticRegression(), clf__C=1000.0, clf__penalty=l1, clf__solver=liblinear; total time=   0.3s\n",
      "[CV] END clf=LogisticRegression(), clf__C=1000.0, clf__penalty=l1, clf__solver=liblinear; total time=   0.3s\n",
      "[CV] END clf=LogisticRegression(), clf__C=1000.0, clf__penalty=l1, clf__solver=liblinear; total time=   0.3s\n",
      "[CV] END clf=LogisticRegression(), clf__C=1000.0, clf__penalty=l1, clf__solver=liblinear; total time=   0.3s\n",
      "[CV] END clf=LogisticRegression(), clf__C=1000.0, clf__penalty=l2, clf__solver=liblinear; total time=   0.3s\n",
      "[CV] END clf=LogisticRegression(), clf__C=1000.0, clf__penalty=l2, clf__solver=liblinear; total time=   0.3s\n",
      "[CV] END clf=LogisticRegression(), clf__C=1000.0, clf__penalty=l2, clf__solver=liblinear; total time=   0.3s\n",
      "[CV] END clf=LogisticRegression(), clf__C=1000.0, clf__penalty=l2, clf__solver=liblinear; total time=   0.3s\n",
      "[CV] END clf=LogisticRegression(), clf__C=1000.0, clf__penalty=l2, clf__solver=liblinear; total time=   0.3s\n",
      "[CV] END clf=LogisticRegression(), clf__C=100000.0, clf__penalty=l1, clf__solver=liblinear; total time=   0.3s\n",
      "[CV] END clf=LogisticRegression(), clf__C=100000.0, clf__penalty=l1, clf__solver=liblinear; total time=   0.2s\n",
      "[CV] END clf=LogisticRegression(), clf__C=100000.0, clf__penalty=l1, clf__solver=liblinear; total time=   0.3s\n",
      "[CV] END clf=GradientBoostingClassifier(), clf__learning_rate=1.0, clf__max_depth=15; total time=  36.6s\n",
      "[CV] END clf=LogisticRegression(), clf__C=100000.0, clf__penalty=l1, clf__solver=liblinear; total time=   0.2s\n",
      "[CV] END clf=LogisticRegression(), clf__C=100000.0, clf__penalty=l1, clf__solver=liblinear; total time=   0.3s\n",
      "[CV] END clf=LogisticRegression(), clf__C=100000.0, clf__penalty=l2, clf__solver=liblinear; total time=   0.3s\n",
      "[CV] END clf=LogisticRegression(), clf__C=100000.0, clf__penalty=l2, clf__solver=liblinear; total time=   0.3s\n",
      "[CV] END clf=LogisticRegression(), clf__C=100000.0, clf__penalty=l2, clf__solver=liblinear; total time=   0.3s\n",
      "[CV] END clf=LogisticRegression(), clf__C=100000.0, clf__penalty=l2, clf__solver=liblinear; total time=   0.3s\n",
      "[CV] END clf=LogisticRegression(), clf__C=100000.0, clf__penalty=l2, clf__solver=liblinear; total time=   0.3s\n",
      "[CV] END clf=GradientBoostingClassifier(), clf__learning_rate=1.0, clf__max_depth=15; total time=  34.1s\n",
      "[CV] END clf=GradientBoostingClassifier(), clf__learning_rate=1.0, clf__max_depth=15; total time=  31.3s\n"
     ]
    },
    {
     "data": {
      "text/html": [
       "<style>#sk-container-id-2 {color: black;}#sk-container-id-2 pre{padding: 0;}#sk-container-id-2 div.sk-toggleable {background-color: white;}#sk-container-id-2 label.sk-toggleable__label {cursor: pointer;display: block;width: 100%;margin-bottom: 0;padding: 0.3em;box-sizing: border-box;text-align: center;}#sk-container-id-2 label.sk-toggleable__label-arrow:before {content: \"▸\";float: left;margin-right: 0.25em;color: #696969;}#sk-container-id-2 label.sk-toggleable__label-arrow:hover:before {color: black;}#sk-container-id-2 div.sk-estimator:hover label.sk-toggleable__label-arrow:before {color: black;}#sk-container-id-2 div.sk-toggleable__content {max-height: 0;max-width: 0;overflow: hidden;text-align: left;background-color: #f0f8ff;}#sk-container-id-2 div.sk-toggleable__content pre {margin: 0.2em;color: black;border-radius: 0.25em;background-color: #f0f8ff;}#sk-container-id-2 input.sk-toggleable__control:checked~div.sk-toggleable__content {max-height: 200px;max-width: 100%;overflow: auto;}#sk-container-id-2 input.sk-toggleable__control:checked~label.sk-toggleable__label-arrow:before {content: \"▾\";}#sk-container-id-2 div.sk-estimator input.sk-toggleable__control:checked~label.sk-toggleable__label {background-color: #d4ebff;}#sk-container-id-2 div.sk-label input.sk-toggleable__control:checked~label.sk-toggleable__label {background-color: #d4ebff;}#sk-container-id-2 input.sk-hidden--visually {border: 0;clip: rect(1px 1px 1px 1px);clip: rect(1px, 1px, 1px, 1px);height: 1px;margin: -1px;overflow: hidden;padding: 0;position: absolute;width: 1px;}#sk-container-id-2 div.sk-estimator {font-family: monospace;background-color: #f0f8ff;border: 1px dotted black;border-radius: 0.25em;box-sizing: border-box;margin-bottom: 0.5em;}#sk-container-id-2 div.sk-estimator:hover {background-color: #d4ebff;}#sk-container-id-2 div.sk-parallel-item::after {content: \"\";width: 100%;border-bottom: 1px solid gray;flex-grow: 1;}#sk-container-id-2 div.sk-label:hover label.sk-toggleable__label {background-color: #d4ebff;}#sk-container-id-2 div.sk-serial::before {content: \"\";position: absolute;border-left: 1px solid gray;box-sizing: border-box;top: 0;bottom: 0;left: 50%;z-index: 0;}#sk-container-id-2 div.sk-serial {display: flex;flex-direction: column;align-items: center;background-color: white;padding-right: 0.2em;padding-left: 0.2em;position: relative;}#sk-container-id-2 div.sk-item {position: relative;z-index: 1;}#sk-container-id-2 div.sk-parallel {display: flex;align-items: stretch;justify-content: center;background-color: white;position: relative;}#sk-container-id-2 div.sk-item::before, #sk-container-id-2 div.sk-parallel-item::before {content: \"\";position: absolute;border-left: 1px solid gray;box-sizing: border-box;top: 0;bottom: 0;left: 50%;z-index: -1;}#sk-container-id-2 div.sk-parallel-item {display: flex;flex-direction: column;z-index: 1;position: relative;background-color: white;}#sk-container-id-2 div.sk-parallel-item:first-child::after {align-self: flex-end;width: 50%;}#sk-container-id-2 div.sk-parallel-item:last-child::after {align-self: flex-start;width: 50%;}#sk-container-id-2 div.sk-parallel-item:only-child::after {width: 0;}#sk-container-id-2 div.sk-dashed-wrapped {border: 1px dashed gray;margin: 0 0.4em 0.5em 0.4em;box-sizing: border-box;padding-bottom: 0.4em;background-color: white;}#sk-container-id-2 div.sk-label label {font-family: monospace;font-weight: bold;display: inline-block;line-height: 1.2em;}#sk-container-id-2 div.sk-label-container {text-align: center;}#sk-container-id-2 div.sk-container {/* jupyter's `normalize.less` sets `[hidden] { display: none; }` but bootstrap.min.css set `[hidden] { display: none !important; }` so we also need the `!important` here to be able to override the default hidden behavior on the sphinx rendered scikit-learn.org. See: https://github.com/scikit-learn/scikit-learn/issues/21755 */display: inline-block !important;position: relative;}#sk-container-id-2 div.sk-text-repr-fallback {display: none;}</style><div id=\"sk-container-id-2\" class=\"sk-top-container\"><div class=\"sk-text-repr-fallback\"><pre>GridSearchCV(cv=5,\n",
       "             estimator=Pipeline(steps=[(&#x27;scaler&#x27;, StandardScaler()),\n",
       "                                       (&#x27;smote&#x27;, SMOTE(random_state=42)),\n",
       "                                       (&#x27;clf&#x27;, None)]),\n",
       "             n_jobs=-1,\n",
       "             param_grid=[{&#x27;clf&#x27;: [LinearSVC()],\n",
       "                          &#x27;clf__C&#x27;: [1e-05, 0.001, 0.1, 10.0, 1000.0, 100000.0],\n",
       "                          &#x27;clf__dual&#x27;: [&#x27;auto&#x27;]},\n",
       "                         {&#x27;clf&#x27;: [KNeighborsClassifier()],\n",
       "                          &#x27;clf__n_neighbors&#x27;: [5, 6, 7, 8, 9, 10, 11]},\n",
       "                         {&#x27;clf&#x27;: [RandomForestClassifier()],\n",
       "                          &#x27;clf__max_depth&#x27;: [5, 6, 7, 8, 9, 10, 11, 12, 13, 14,\n",
       "                                             15]},\n",
       "                         {&#x27;clf&#x27;: [GradientBoostingClassifier()],\n",
       "                          &#x27;clf__learning_rate&#x27;: [0.1, 0.5, 1.0],\n",
       "                          &#x27;clf__max_depth&#x27;: [5, 6, 7, 8, 9, 10, 11, 12, 13, 14,\n",
       "                                             15]},\n",
       "                         {&#x27;clf&#x27;: [LogisticRegression()],\n",
       "                          &#x27;clf__C&#x27;: [1e-05, 0.001, 0.1, 10.0, 1000.0, 100000.0],\n",
       "                          &#x27;clf__penalty&#x27;: [&#x27;l1&#x27;, &#x27;l2&#x27;],\n",
       "                          &#x27;clf__solver&#x27;: [&#x27;liblinear&#x27;]}],\n",
       "             return_train_score=True, scoring=&#x27;f1&#x27;, verbose=2)</pre><b>In a Jupyter environment, please rerun this cell to show the HTML representation or trust the notebook. <br />On GitHub, the HTML representation is unable to render, please try loading this page with nbviewer.org.</b></div><div class=\"sk-container\" hidden><div class=\"sk-item sk-dashed-wrapped\"><div class=\"sk-label-container\"><div class=\"sk-label sk-toggleable\"><input class=\"sk-toggleable__control sk-hidden--visually\" id=\"sk-estimator-id-5\" type=\"checkbox\" ><label for=\"sk-estimator-id-5\" class=\"sk-toggleable__label sk-toggleable__label-arrow\">GridSearchCV</label><div class=\"sk-toggleable__content\"><pre>GridSearchCV(cv=5,\n",
       "             estimator=Pipeline(steps=[(&#x27;scaler&#x27;, StandardScaler()),\n",
       "                                       (&#x27;smote&#x27;, SMOTE(random_state=42)),\n",
       "                                       (&#x27;clf&#x27;, None)]),\n",
       "             n_jobs=-1,\n",
       "             param_grid=[{&#x27;clf&#x27;: [LinearSVC()],\n",
       "                          &#x27;clf__C&#x27;: [1e-05, 0.001, 0.1, 10.0, 1000.0, 100000.0],\n",
       "                          &#x27;clf__dual&#x27;: [&#x27;auto&#x27;]},\n",
       "                         {&#x27;clf&#x27;: [KNeighborsClassifier()],\n",
       "                          &#x27;clf__n_neighbors&#x27;: [5, 6, 7, 8, 9, 10, 11]},\n",
       "                         {&#x27;clf&#x27;: [RandomForestClassifier()],\n",
       "                          &#x27;clf__max_depth&#x27;: [5, 6, 7, 8, 9, 10, 11, 12, 13, 14,\n",
       "                                             15]},\n",
       "                         {&#x27;clf&#x27;: [GradientBoostingClassifier()],\n",
       "                          &#x27;clf__learning_rate&#x27;: [0.1, 0.5, 1.0],\n",
       "                          &#x27;clf__max_depth&#x27;: [5, 6, 7, 8, 9, 10, 11, 12, 13, 14,\n",
       "                                             15]},\n",
       "                         {&#x27;clf&#x27;: [LogisticRegression()],\n",
       "                          &#x27;clf__C&#x27;: [1e-05, 0.001, 0.1, 10.0, 1000.0, 100000.0],\n",
       "                          &#x27;clf__penalty&#x27;: [&#x27;l1&#x27;, &#x27;l2&#x27;],\n",
       "                          &#x27;clf__solver&#x27;: [&#x27;liblinear&#x27;]}],\n",
       "             return_train_score=True, scoring=&#x27;f1&#x27;, verbose=2)</pre></div></div></div><div class=\"sk-parallel\"><div class=\"sk-parallel-item\"><div class=\"sk-item\"><div class=\"sk-label-container\"><div class=\"sk-label sk-toggleable\"><input class=\"sk-toggleable__control sk-hidden--visually\" id=\"sk-estimator-id-6\" type=\"checkbox\" ><label for=\"sk-estimator-id-6\" class=\"sk-toggleable__label sk-toggleable__label-arrow\">estimator: Pipeline</label><div class=\"sk-toggleable__content\"><pre>Pipeline(steps=[(&#x27;scaler&#x27;, StandardScaler()), (&#x27;smote&#x27;, SMOTE(random_state=42)),\n",
       "                (&#x27;clf&#x27;, None)])</pre></div></div></div><div class=\"sk-serial\"><div class=\"sk-item\"><div class=\"sk-serial\"><div class=\"sk-item\"><div class=\"sk-estimator sk-toggleable\"><input class=\"sk-toggleable__control sk-hidden--visually\" id=\"sk-estimator-id-7\" type=\"checkbox\" ><label for=\"sk-estimator-id-7\" class=\"sk-toggleable__label sk-toggleable__label-arrow\">StandardScaler</label><div class=\"sk-toggleable__content\"><pre>StandardScaler()</pre></div></div></div><div class=\"sk-item\"><div class=\"sk-estimator sk-toggleable\"><input class=\"sk-toggleable__control sk-hidden--visually\" id=\"sk-estimator-id-8\" type=\"checkbox\" ><label for=\"sk-estimator-id-8\" class=\"sk-toggleable__label sk-toggleable__label-arrow\">SMOTE</label><div class=\"sk-toggleable__content\"><pre>SMOTE(random_state=42)</pre></div></div></div><div class=\"sk-item\"><div class=\"sk-estimator sk-toggleable\"><input class=\"sk-toggleable__control sk-hidden--visually\" id=\"sk-estimator-id-9\" type=\"checkbox\" ><label for=\"sk-estimator-id-9\" class=\"sk-toggleable__label sk-toggleable__label-arrow\">None</label><div class=\"sk-toggleable__content\"><pre>None</pre></div></div></div></div></div></div></div></div></div></div></div></div>"
      ],
      "text/plain": [
       "GridSearchCV(cv=5,\n",
       "             estimator=Pipeline(steps=[('scaler', StandardScaler()),\n",
       "                                       ('smote', SMOTE(random_state=42)),\n",
       "                                       ('clf', None)]),\n",
       "             n_jobs=-1,\n",
       "             param_grid=[{'clf': [LinearSVC()],\n",
       "                          'clf__C': [1e-05, 0.001, 0.1, 10.0, 1000.0, 100000.0],\n",
       "                          'clf__dual': ['auto']},\n",
       "                         {'clf': [KNeighborsClassifier()],\n",
       "                          'clf__n_neighbors': [5, 6, 7, 8, 9, 10, 11]},\n",
       "                         {'clf': [RandomForestClassifier()],\n",
       "                          'clf__max_depth': [5, 6, 7, 8, 9, 10, 11, 12, 13, 14,\n",
       "                                             15]},\n",
       "                         {'clf': [GradientBoostingClassifier()],\n",
       "                          'clf__learning_rate': [0.1, 0.5, 1.0],\n",
       "                          'clf__max_depth': [5, 6, 7, 8, 9, 10, 11, 12, 13, 14,\n",
       "                                             15]},\n",
       "                         {'clf': [LogisticRegression()],\n",
       "                          'clf__C': [1e-05, 0.001, 0.1, 10.0, 1000.0, 100000.0],\n",
       "                          'clf__penalty': ['l1', 'l2'],\n",
       "                          'clf__solver': ['liblinear']}],\n",
       "             return_train_score=True, scoring='f1', verbose=2)"
      ]
     },
     "execution_count": 33,
     "metadata": {},
     "output_type": "execute_result"
    }
   ],
   "source": [
    "cv = 5\n",
    "scoring = 'f1'\n",
    "grid_search_smote = GridSearchCV(pipe_smote, param_grid_smote, return_train_score=True, cv=cv,\n",
    "                           verbose=2, n_jobs=-1, scoring=scoring)\n",
    "grid_search_smote.fit(X_trainval, y_trainval)"
   ]
  },
  {
   "cell_type": "code",
   "execution_count": 34,
   "id": "de06ffc6-7dc1-492d-aa2f-ef0883685ea6",
   "metadata": {
    "execution": {
     "iopub.execute_input": "2023-12-09T05:47:33.361698Z",
     "iopub.status.busy": "2023-12-09T05:47:33.361293Z",
     "iopub.status.idle": "2023-12-09T05:47:33.369393Z",
     "shell.execute_reply": "2023-12-09T05:47:33.368163Z",
     "shell.execute_reply.started": "2023-12-09T05:47:33.361659Z"
    },
    "tags": []
   },
   "outputs": [
    {
     "name": "stdout",
     "output_type": "stream",
     "text": [
      "The best model is: {'clf': LogisticRegression(), 'clf__C': 0.1, 'clf__penalty': 'l1', 'clf__solver': 'liblinear'}\n",
      "with an accuracy score of: 0.40150893633484463\n"
     ]
    }
   ],
   "source": [
    "print(f\"The best model is: {grid_search_smote.best_params_}\")\n",
    "print(f\"with an accuracy score of: {grid_search_smote.best_score_}\")"
   ]
  },
  {
   "cell_type": "code",
   "execution_count": 35,
   "id": "241af324-cb92-481a-ba16-977e83c25545",
   "metadata": {
    "execution": {
     "iopub.execute_input": "2023-12-09T05:47:33.371089Z",
     "iopub.status.busy": "2023-12-09T05:47:33.370608Z",
     "iopub.status.idle": "2023-12-09T05:47:33.403682Z",
     "shell.execute_reply": "2023-12-09T05:47:33.402831Z",
     "shell.execute_reply.started": "2023-12-09T05:47:33.371056Z"
    },
    "tags": []
   },
   "outputs": [
    {
     "data": {
      "text/html": [
       "<div>\n",
       "<style scoped>\n",
       "    .dataframe tbody tr th:only-of-type {\n",
       "        vertical-align: middle;\n",
       "    }\n",
       "\n",
       "    .dataframe tbody tr th {\n",
       "        vertical-align: top;\n",
       "    }\n",
       "\n",
       "    .dataframe thead th {\n",
       "        text-align: right;\n",
       "    }\n",
       "</style>\n",
       "<table border=\"1\" class=\"dataframe\">\n",
       "  <thead>\n",
       "    <tr style=\"text-align: right;\">\n",
       "      <th></th>\n",
       "      <th>mean_fit_time</th>\n",
       "      <th>std_fit_time</th>\n",
       "      <th>mean_score_time</th>\n",
       "      <th>std_score_time</th>\n",
       "      <th>param_clf</th>\n",
       "      <th>param_clf__C</th>\n",
       "      <th>param_clf__dual</th>\n",
       "      <th>param_clf__n_neighbors</th>\n",
       "      <th>param_clf__max_depth</th>\n",
       "      <th>param_clf__learning_rate</th>\n",
       "      <th>...</th>\n",
       "      <th>mean_test_score</th>\n",
       "      <th>std_test_score</th>\n",
       "      <th>rank_test_score</th>\n",
       "      <th>split0_train_score</th>\n",
       "      <th>split1_train_score</th>\n",
       "      <th>split2_train_score</th>\n",
       "      <th>split3_train_score</th>\n",
       "      <th>split4_train_score</th>\n",
       "      <th>mean_train_score</th>\n",
       "      <th>std_train_score</th>\n",
       "    </tr>\n",
       "  </thead>\n",
       "  <tbody>\n",
       "    <tr>\n",
       "      <th>61</th>\n",
       "      <td>0.228928</td>\n",
       "      <td>0.042038</td>\n",
       "      <td>0.008763</td>\n",
       "      <td>0.001642</td>\n",
       "      <td>LogisticRegression()</td>\n",
       "      <td>0.1</td>\n",
       "      <td>NaN</td>\n",
       "      <td>NaN</td>\n",
       "      <td>NaN</td>\n",
       "      <td>NaN</td>\n",
       "      <td>...</td>\n",
       "      <td>0.401509</td>\n",
       "      <td>0.011147</td>\n",
       "      <td>1</td>\n",
       "      <td>0.398996</td>\n",
       "      <td>0.407258</td>\n",
       "      <td>0.404410</td>\n",
       "      <td>0.398758</td>\n",
       "      <td>0.399443</td>\n",
       "      <td>0.401773</td>\n",
       "      <td>0.003443</td>\n",
       "    </tr>\n",
       "    <tr>\n",
       "      <th>62</th>\n",
       "      <td>0.179752</td>\n",
       "      <td>0.043396</td>\n",
       "      <td>0.008120</td>\n",
       "      <td>0.001804</td>\n",
       "      <td>LogisticRegression()</td>\n",
       "      <td>0.1</td>\n",
       "      <td>NaN</td>\n",
       "      <td>NaN</td>\n",
       "      <td>NaN</td>\n",
       "      <td>NaN</td>\n",
       "      <td>...</td>\n",
       "      <td>0.400426</td>\n",
       "      <td>0.010483</td>\n",
       "      <td>2</td>\n",
       "      <td>0.399330</td>\n",
       "      <td>0.407495</td>\n",
       "      <td>0.403911</td>\n",
       "      <td>0.399038</td>\n",
       "      <td>0.399331</td>\n",
       "      <td>0.401821</td>\n",
       "      <td>0.003368</td>\n",
       "    </tr>\n",
       "    <tr>\n",
       "      <th>68</th>\n",
       "      <td>0.255652</td>\n",
       "      <td>0.011076</td>\n",
       "      <td>0.009939</td>\n",
       "      <td>0.000759</td>\n",
       "      <td>LogisticRegression()</td>\n",
       "      <td>100000.0</td>\n",
       "      <td>NaN</td>\n",
       "      <td>NaN</td>\n",
       "      <td>NaN</td>\n",
       "      <td>NaN</td>\n",
       "      <td>...</td>\n",
       "      <td>0.400320</td>\n",
       "      <td>0.010301</td>\n",
       "      <td>3</td>\n",
       "      <td>0.399218</td>\n",
       "      <td>0.407164</td>\n",
       "      <td>0.404023</td>\n",
       "      <td>0.399321</td>\n",
       "      <td>0.399498</td>\n",
       "      <td>0.401845</td>\n",
       "      <td>0.003219</td>\n",
       "    </tr>\n",
       "    <tr>\n",
       "      <th>67</th>\n",
       "      <td>0.248795</td>\n",
       "      <td>0.012467</td>\n",
       "      <td>0.009949</td>\n",
       "      <td>0.000561</td>\n",
       "      <td>LogisticRegression()</td>\n",
       "      <td>100000.0</td>\n",
       "      <td>NaN</td>\n",
       "      <td>NaN</td>\n",
       "      <td>NaN</td>\n",
       "      <td>NaN</td>\n",
       "      <td>...</td>\n",
       "      <td>0.400320</td>\n",
       "      <td>0.010301</td>\n",
       "      <td>3</td>\n",
       "      <td>0.399274</td>\n",
       "      <td>0.407164</td>\n",
       "      <td>0.404023</td>\n",
       "      <td>0.399321</td>\n",
       "      <td>0.399498</td>\n",
       "      <td>0.401856</td>\n",
       "      <td>0.003210</td>\n",
       "    </tr>\n",
       "    <tr>\n",
       "      <th>66</th>\n",
       "      <td>0.251722</td>\n",
       "      <td>0.013588</td>\n",
       "      <td>0.010168</td>\n",
       "      <td>0.000469</td>\n",
       "      <td>LogisticRegression()</td>\n",
       "      <td>1000.0</td>\n",
       "      <td>NaN</td>\n",
       "      <td>NaN</td>\n",
       "      <td>NaN</td>\n",
       "      <td>NaN</td>\n",
       "      <td>...</td>\n",
       "      <td>0.400320</td>\n",
       "      <td>0.010301</td>\n",
       "      <td>3</td>\n",
       "      <td>0.399218</td>\n",
       "      <td>0.407164</td>\n",
       "      <td>0.404023</td>\n",
       "      <td>0.399321</td>\n",
       "      <td>0.399498</td>\n",
       "      <td>0.401845</td>\n",
       "      <td>0.003219</td>\n",
       "    </tr>\n",
       "  </tbody>\n",
       "</table>\n",
       "<p>5 rows × 28 columns</p>\n",
       "</div>"
      ],
      "text/plain": [
       "    mean_fit_time  std_fit_time  mean_score_time  std_score_time  \\\n",
       "61       0.228928      0.042038         0.008763        0.001642   \n",
       "62       0.179752      0.043396         0.008120        0.001804   \n",
       "68       0.255652      0.011076         0.009939        0.000759   \n",
       "67       0.248795      0.012467         0.009949        0.000561   \n",
       "66       0.251722      0.013588         0.010168        0.000469   \n",
       "\n",
       "               param_clf param_clf__C param_clf__dual param_clf__n_neighbors  \\\n",
       "61  LogisticRegression()          0.1             NaN                    NaN   \n",
       "62  LogisticRegression()          0.1             NaN                    NaN   \n",
       "68  LogisticRegression()     100000.0             NaN                    NaN   \n",
       "67  LogisticRegression()     100000.0             NaN                    NaN   \n",
       "66  LogisticRegression()       1000.0             NaN                    NaN   \n",
       "\n",
       "   param_clf__max_depth param_clf__learning_rate  ... mean_test_score  \\\n",
       "61                  NaN                      NaN  ...        0.401509   \n",
       "62                  NaN                      NaN  ...        0.400426   \n",
       "68                  NaN                      NaN  ...        0.400320   \n",
       "67                  NaN                      NaN  ...        0.400320   \n",
       "66                  NaN                      NaN  ...        0.400320   \n",
       "\n",
       "   std_test_score rank_test_score  split0_train_score  split1_train_score  \\\n",
       "61       0.011147               1            0.398996            0.407258   \n",
       "62       0.010483               2            0.399330            0.407495   \n",
       "68       0.010301               3            0.399218            0.407164   \n",
       "67       0.010301               3            0.399274            0.407164   \n",
       "66       0.010301               3            0.399218            0.407164   \n",
       "\n",
       "    split2_train_score  split3_train_score  split4_train_score  \\\n",
       "61            0.404410            0.398758            0.399443   \n",
       "62            0.403911            0.399038            0.399331   \n",
       "68            0.404023            0.399321            0.399498   \n",
       "67            0.404023            0.399321            0.399498   \n",
       "66            0.404023            0.399321            0.399498   \n",
       "\n",
       "    mean_train_score  std_train_score  \n",
       "61          0.401773         0.003443  \n",
       "62          0.401821         0.003368  \n",
       "68          0.401845         0.003219  \n",
       "67          0.401856         0.003210  \n",
       "66          0.401845         0.003219  \n",
       "\n",
       "[5 rows x 28 columns]"
      ]
     },
     "execution_count": 35,
     "metadata": {},
     "output_type": "execute_result"
    }
   ],
   "source": [
    "cv_results_smote = pd.DataFrame(grid_search_smote.__dict__['cv_results_'])\n",
    "cv_results_smote.sort_values('mean_test_score', ascending=False).head()"
   ]
  },
  {
   "cell_type": "markdown",
   "id": "978ee8ff-528a-457b-a8d7-c4f64ab1e17e",
   "metadata": {},
   "source": [
    "<center><b>Table 6</b>. Results of the CV using GridSearchCV - with resampling</center>"
   ]
  },
  {
   "cell_type": "code",
   "execution_count": 36,
   "id": "9f289534-4c3e-4c96-b311-3ca21dc90e7f",
   "metadata": {
    "execution": {
     "iopub.execute_input": "2023-12-09T05:47:33.405715Z",
     "iopub.status.busy": "2023-12-09T05:47:33.404983Z",
     "iopub.status.idle": "2023-12-09T05:47:33.445202Z",
     "shell.execute_reply": "2023-12-09T05:47:33.444177Z",
     "shell.execute_reply.started": "2023-12-09T05:47:33.405678Z"
    },
    "tags": []
   },
   "outputs": [
    {
     "data": {
      "text/html": [
       "<div>\n",
       "<style scoped>\n",
       "    .dataframe tbody tr th:only-of-type {\n",
       "        vertical-align: middle;\n",
       "    }\n",
       "\n",
       "    .dataframe tbody tr th {\n",
       "        vertical-align: top;\n",
       "    }\n",
       "\n",
       "    .dataframe thead th {\n",
       "        text-align: right;\n",
       "    }\n",
       "</style>\n",
       "<table border=\"1\" class=\"dataframe\">\n",
       "  <thead>\n",
       "    <tr style=\"text-align: right;\">\n",
       "      <th></th>\n",
       "      <th>mean_train_score</th>\n",
       "      <th>mean_test_score</th>\n",
       "    </tr>\n",
       "    <tr>\n",
       "      <th>param_clf</th>\n",
       "      <th></th>\n",
       "      <th></th>\n",
       "    </tr>\n",
       "  </thead>\n",
       "  <tbody>\n",
       "    <tr>\n",
       "      <th>GradientBoostingClassifier()</th>\n",
       "      <td>1.000000</td>\n",
       "      <td>0.333114</td>\n",
       "    </tr>\n",
       "    <tr>\n",
       "      <th>KNeighborsClassifier()</th>\n",
       "      <td>0.645786</td>\n",
       "      <td>0.344396</td>\n",
       "    </tr>\n",
       "    <tr>\n",
       "      <th>LinearSVC()</th>\n",
       "      <td>0.400610</td>\n",
       "      <td>0.399819</td>\n",
       "    </tr>\n",
       "    <tr>\n",
       "      <th>LogisticRegression()</th>\n",
       "      <td>0.401867</td>\n",
       "      <td>0.401509</td>\n",
       "    </tr>\n",
       "    <tr>\n",
       "      <th>RandomForestClassifier()</th>\n",
       "      <td>0.837088</td>\n",
       "      <td>0.398999</td>\n",
       "    </tr>\n",
       "  </tbody>\n",
       "</table>\n",
       "</div>"
      ],
      "text/plain": [
       "                              mean_train_score  mean_test_score\n",
       "param_clf                                                      \n",
       "GradientBoostingClassifier()          1.000000         0.333114\n",
       "KNeighborsClassifier()                0.645786         0.344396\n",
       "LinearSVC()                           0.400610         0.399819\n",
       "LogisticRegression()                  0.401867         0.401509\n",
       "RandomForestClassifier()              0.837088         0.398999"
      ]
     },
     "execution_count": 36,
     "metadata": {},
     "output_type": "execute_result"
    }
   ],
   "source": [
    "cv_results_smote['param_clf'] = cv_results_smote['param_clf'].astype(str)\n",
    "grouped_results_smote = cv_results_smote[['mean_train_score', 'mean_test_score', 'param_clf']].groupby('param_clf').max()[['mean_train_score', 'mean_test_score']]\n",
    "grouped_results_smote"
   ]
  },
  {
   "cell_type": "markdown",
   "id": "feff4b92-9a7c-46b7-938d-b1b647d7cccb",
   "metadata": {},
   "source": [
    "<center><b>Table 7</b>. Performance of other Models - with resampling</center>"
   ]
  },
  {
   "cell_type": "code",
   "execution_count": 37,
   "id": "4ce1b8b7-b88d-4951-ad2f-b22ccd3ee0a2",
   "metadata": {
    "execution": {
     "iopub.execute_input": "2023-12-09T05:47:33.447162Z",
     "iopub.status.busy": "2023-12-09T05:47:33.446772Z",
     "iopub.status.idle": "2023-12-09T05:47:34.143504Z",
     "shell.execute_reply": "2023-12-09T05:47:34.142155Z",
     "shell.execute_reply.started": "2023-12-09T05:47:33.447117Z"
    },
    "tags": []
   },
   "outputs": [
    {
     "data": {
      "image/png": "[encoded data removed]",
      "text/plain": [
       "<Figure size 2500x1500 with 1 Axes>"
      ]
     },
     "metadata": {},
     "output_type": "display_data"
    }
   ],
   "source": [
    "fig, ax = plt.subplots(figsize=(10, 6), dpi=250)\n",
    "grouped_results_smote.plot(kind='bar', ax=ax, colormap='BrBG')\n",
    "ax.set_title('Max Train and Test Scores by Model')\n",
    "ax.set_xlabel('Model')\n",
    "ax.set_ylabel('Scores')\n",
    "plt.xticks(rotation=45)\n",
    "plt.show()"
   ]
  },
  {
   "cell_type": "markdown",
   "id": "e5636124-9185-46a0-8a6a-cc685df9efaa",
   "metadata": {},
   "source": [
    "<center><b>Figure 4</b>. Performance of other models with resampling</center>   \n",
    "Figure 4 indicates an enhancement in the model's capability to predict the minority class, as the class distribution is more balanced at an 80-20 ratio. This improvement suggests that the model is now better at identifying instances from the minority class compared to previous iterations."
   ]
  },
  {
   "cell_type": "markdown",
   "id": "0314a98a-9471-427c-9a81-954b0e9b7ca7",
   "metadata": {},
   "source": [
    "### Refitting of the best model to the Train-Validation "
   ]
  },
  {
   "cell_type": "code",
   "execution_count": 38,
   "id": "ec3735fe-9be4-41e6-9aba-71ddf2f4b3f1",
   "metadata": {
    "execution": {
     "iopub.execute_input": "2023-12-09T05:47:34.145975Z",
     "iopub.status.busy": "2023-12-09T05:47:34.145538Z",
     "iopub.status.idle": "2023-12-09T05:47:34.521001Z",
     "shell.execute_reply": "2023-12-09T05:47:34.520025Z",
     "shell.execute_reply.started": "2023-12-09T05:47:34.145933Z"
    },
    "tags": []
   },
   "outputs": [],
   "source": [
    "best_model_smote = grid_search_smote.best_estimator_.fit(X_trainval, y_trainval)\n",
    "best_model_score_smote = best_model_smote.score(X_holdout, y_holdout)"
   ]
  },
  {
   "cell_type": "code",
   "execution_count": 39,
   "id": "a2f6e831-15da-4dd8-b209-709e327704c7",
   "metadata": {
    "execution": {
     "iopub.execute_input": "2023-12-09T05:47:34.522436Z",
     "iopub.status.busy": "2023-12-09T05:47:34.522087Z",
     "iopub.status.idle": "2023-12-09T05:47:34.529821Z",
     "shell.execute_reply": "2023-12-09T05:47:34.528856Z",
     "shell.execute_reply.started": "2023-12-09T05:47:34.522403Z"
    },
    "tags": []
   },
   "outputs": [
    {
     "name": "stdout",
     "output_type": "stream",
     "text": [
      "0.6361904761904762\n"
     ]
    }
   ],
   "source": [
    "print(best_model_score_smote)"
   ]
  },
  {
   "cell_type": "code",
   "execution_count": 40,
   "id": "4ec718fe-7b49-4b5c-ac1f-8204ff6e7cb7",
   "metadata": {
    "execution": {
     "iopub.execute_input": "2023-12-09T05:47:34.596579Z",
     "iopub.status.busy": "2023-12-09T05:47:34.596079Z",
     "iopub.status.idle": "2023-12-09T05:47:34.620693Z",
     "shell.execute_reply": "2023-12-09T05:47:34.619596Z",
     "shell.execute_reply.started": "2023-12-09T05:47:34.596537Z"
    },
    "tags": []
   },
   "outputs": [
    {
     "name": "stdout",
     "output_type": "stream",
     "text": [
      "[[1881 1057]\n",
      " [ 280  457]]\n"
     ]
    }
   ],
   "source": [
    "y_pred = best_model_smote.predict(X_holdout)\n",
    "print (confusion_matrix(y_holdout, y_pred))"
   ]
  },
  {
   "cell_type": "code",
   "execution_count": 41,
   "id": "2114255e-fdf5-4dcd-a8d0-f8c54ef5d087",
   "metadata": {
    "execution": {
     "iopub.execute_input": "2023-12-09T05:47:34.710682Z",
     "iopub.status.busy": "2023-12-09T05:47:34.709931Z",
     "iopub.status.idle": "2023-12-09T05:47:34.824940Z",
     "shell.execute_reply": "2023-12-09T05:47:34.824183Z",
     "shell.execute_reply.started": "2023-12-09T05:47:34.710645Z"
    },
    "tags": []
   },
   "outputs": [
    {
     "name": "stdout",
     "output_type": "stream",
     "text": [
      "              precision    recall  f1-score   support\n",
      "\n",
      "           0       0.87      0.64      0.74      2938\n",
      "           1       0.30      0.62      0.41       737\n",
      "\n",
      "    accuracy                           0.64      3675\n",
      "   macro avg       0.59      0.63      0.57      3675\n",
      "weighted avg       0.76      0.64      0.67      3675\n",
      "\n"
     ]
    }
   ],
   "source": [
    "y_pred = best_model_smote.predict(X_holdout)\n",
    "print(classification_report(y_holdout, y_pred, zero_division=0))"
   ]
  },
  {
   "cell_type": "markdown",
   "id": "e048a1fd-9e5b-47eb-aefc-8e2042469334",
   "metadata": {},
   "source": [
    "### Interpretation - with resampling - SMOTE\n",
    "Applying SMOTE has improved the model's ability to identify the minority class (defaulters), as shown by the increased recall for Class 1. However, this improvement has led to a higher number of false positives, reducing the precision for this class. In this scenario, while the model has become better at detecting actual cases of loan default, it does so at the expense of mistakenly classifying a considerable number of non-defaulters as defaulters. This outcome highlights the need to further refine the model to achieve a better balance between accurately identifying defaulters and reducing false alarms."
   ]
  },
  {
   "cell_type": "markdown",
   "id": "f89ca599-ff94-424a-9ba6-dc04fb570f6c",
   "metadata": {},
   "source": [
    "<div style=\"background-color: #223843; padding: 10px 0;\">\n",
    "    <center><h1 style=\"color: white; font-weight:bold\">RESULTS and DISCUSSION</h1></center>\n",
    "</div> "
   ]
  },
  {
   "cell_type": "markdown",
   "id": "18d4163a-8228-4797-80d2-fa6982a0f6bd",
   "metadata": {},
   "source": [
    "In the context of predicting loan defaults, similar to stroke prediction, the involvement of domain experts and stakeholders, such as bank executives, is crucial in identifying the right balance between precision and recall based on current needs and objectives. These professionals have a comprehensive understanding of the banking industry's nuances, including risk tolerance, customer relationship management, and regulatory compliance.\n",
    "\n",
    "The decision on the optimal balance between precision and recall in a loan default prediction model should be guided by bank executives and stakeholders. Their insights, grounded in the bank's strategic objectives, risk profile, and operational constraints, are invaluable in aligning the model's performance with the bank's overarching goals and KPIs.\n"
   ]
  },
  {
   "cell_type": "code",
   "execution_count": null,
   "id": "143bc074-90f4-41bb-a4d4-fe7badcbdd6e",
   "metadata": {},
   "outputs": [],
   "source": []
  },
  {
   "cell_type": "code",
   "execution_count": null,
   "id": "7bf226c7-7e40-47df-b4cf-d7fd6597f803",
   "metadata": {},
   "outputs": [],
   "source": []
  }
 ],
 "metadata": {
  "kernelspec": {
   "display_name": "Python 3 (ipykernel)",
   "language": "python",
   "name": "python3"
  },
  "language_info": {
   "codemirror_mode": {
    "name": "ipython",
    "version": 3
   },
   "file_extension": ".py",
   "mimetype": "text/x-python",
   "name": "python",
   "nbconvert_exporter": "python",
   "pygments_lexer": "ipython3",
   "version": "3.10.12"
  }
 },
 "nbformat": 4,
 "nbformat_minor": 5
}
